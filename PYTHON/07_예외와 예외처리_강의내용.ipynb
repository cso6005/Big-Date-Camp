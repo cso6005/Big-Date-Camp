{
 "cells": [
  {
   "cell_type": "markdown",
   "id": "470e1008",
   "metadata": {},
   "source": [
    "## 1. 예외 처리개요\n",
    "\n",
    "1.예외(Exception)란\n",
    "- 함수나 메소가 처리 도중 다음 명령문을 실행하지 못하는 상황\n",
    "- (실행 중 발생하는 에러라 할 수 있지만 정상적인 상황으로 만들어주기에 에러라 표현할 순 없음.)\n",
    "- 이를 일부러 만들게 할 때도 있다.\n",
    " \n",
    "2. 예외 처리란(Exception Handly)?\n",
    "- 발생한 예외를 해결하여 프로그램을 끝나게 하지 않고 정상화 시키는 것.\n",
    " \n",
    "- 그럼 애초에 왜 예외처리를 함수 넣지 않을까?\n",
    "    - 예외가 일어날지 말지 모른다. 가능성이 있다는 것만 안다. \n",
    "    - 이 예외상황은 내가 제어하는 것이 아니라 환경.. 이 만드는 것.\n",
    " \n",
    "- 예외 상황과 if 문 상황과 다르다.\n",
    "    - ~면 ~한다. 와 같은 논리는 if 문으로 구현하는데 예외와는 다르다.\n",
    "    - else가 정상적이지 않은 게 아니다 if 자체가 정상 실행.\n",
    "    - if로 만들 수 있긴 하지만, 예외라는 것과 if문 구조는 상황 자체가  다르다. 다른 방식으로 구현\n",
    " \n",
    "- 예외와 예외처리 예제\n",
    "    - 웹페이지 없는 url을 접속했다. 이것도 오류. 이때 마냥 종료되는 것이 아니라 안내 메시지 페이지가 실행(예외처리)된다."
   ]
  },
  {
   "cell_type": "markdown",
   "id": "d115254e",
   "metadata": {},
   "source": [
    "- 예외종류"
   ]
  },
  {
   "cell_type": "code",
   "execution_count": 1,
   "id": "f6b34b1e",
   "metadata": {
    "scrolled": true
   },
   "outputs": [
    {
     "ename": "TypeError",
     "evalue": "unsupported operand type(s) for +: 'int' and 'str'",
     "output_type": "error",
     "traceback": [
      "\u001b[1;31m---------------------------------------------------------------------------\u001b[0m",
      "\u001b[1;31mTypeError\u001b[0m                                 Traceback (most recent call last)",
      "\u001b[1;32m~\\AppData\\Local\\Temp/ipykernel_12116/290599762.py\u001b[0m in \u001b[0;36m<module>\u001b[1;34m\u001b[0m\n\u001b[1;32m----> 1\u001b[1;33m \u001b[0mprint\u001b[0m\u001b[1;33m(\u001b[0m\u001b[1;36m1\u001b[0m \u001b[1;33m+\u001b[0m \u001b[1;34m\" abc\"\u001b[0m\u001b[1;33m)\u001b[0m\u001b[1;33m\u001b[0m\u001b[1;33m\u001b[0m\u001b[0m\n\u001b[0m\u001b[0;32m      2\u001b[0m \u001b[1;33m\u001b[0m\u001b[0m\n\u001b[0;32m      3\u001b[0m \u001b[1;31m# 정수와 문자열은 연산할 수 없다.\u001b[0m\u001b[1;33m\u001b[0m\u001b[1;33m\u001b[0m\u001b[0m\n\u001b[0;32m      4\u001b[0m \u001b[1;33m\u001b[0m\u001b[0m\n\u001b[0;32m      5\u001b[0m \u001b[1;31m# 파이썬 실행 환경이 만든 오류\u001b[0m\u001b[1;33m\u001b[0m\u001b[1;33m\u001b[0m\u001b[0m\n",
      "\u001b[1;31mTypeError\u001b[0m: unsupported operand type(s) for +: 'int' and 'str'"
     ]
    }
   ],
   "source": [
    "# 예외종류 : System Exception\n",
    "\n",
    "# 파이썬 실행 환경이 만든 규칙 : 정수와 문자열은 연산할 수 없다.\n",
    "# 문법 오류\n",
    "\n",
    "\n",
    "print(1 + \" abc\")\n",
    "\n",
    "# 출력보면 에러 이유와 발생 장소(해당 위치의 모듈에 해당 줄에) 알 수 있음."
   ]
  },
  {
   "cell_type": "code",
   "execution_count": 5,
   "id": "b3421b51",
   "metadata": {},
   "outputs": [
    {
     "name": "stdout",
     "output_type": "stream",
     "text": [
      "ID(5글자 이상):a\n"
     ]
    },
    {
     "ename": "Exception",
     "evalue": "",
     "output_type": "error",
     "traceback": [
      "\u001b[1;31m---------------------------------------------------------------------------\u001b[0m",
      "\u001b[1;31mException\u001b[0m                                 Traceback (most recent call last)",
      "\u001b[1;32m~\\AppData\\Local\\Temp/ipykernel_12116/3104544921.py\u001b[0m in \u001b[0;36m<module>\u001b[1;34m\u001b[0m\n\u001b[0;32m      8\u001b[0m \u001b[1;33m\u001b[0m\u001b[0m\n\u001b[0;32m      9\u001b[0m \u001b[1;32mif\u001b[0m \u001b[0mlen\u001b[0m\u001b[1;33m(\u001b[0m\u001b[0mid\u001b[0m\u001b[1;33m)\u001b[0m \u001b[1;33m<\u001b[0m \u001b[1;36m5\u001b[0m\u001b[1;33m:\u001b[0m\u001b[1;33m\u001b[0m\u001b[1;33m\u001b[0m\u001b[0m\n\u001b[1;32m---> 10\u001b[1;33m     \u001b[1;32mraise\u001b[0m \u001b[0mException\u001b[0m\u001b[1;33m(\u001b[0m\u001b[1;33m)\u001b[0m\u001b[1;33m\u001b[0m\u001b[1;33m\u001b[0m\u001b[0m\n\u001b[0m\u001b[0;32m     11\u001b[0m \u001b[0mprint\u001b[0m\u001b[1;33m(\u001b[0m\u001b[0mid\u001b[0m\u001b[1;33m)\u001b[0m\u001b[1;33m\u001b[0m\u001b[1;33m\u001b[0m\u001b[0m\n",
      "\u001b[1;31mException\u001b[0m: "
     ]
    }
   ],
   "source": [
    "# 예외종류 : Application Exception \n",
    "\n",
    "# 내가 만든 규칙 : 5글자 이상 \n",
    "# 당연히 오류 안 난다. -> 오류 나게 만들어야 한다. -> 예외 발생되게.\n",
    "\n",
    "id = input(\"ID(5글자 이상):\")\n",
    "\n",
    "if len(id) < 5: # 내가 정한 규칙을 어긴 상황\n",
    "    raise Exception() # 예외도 내가 발생시킨다.\n",
    "print(id)\n",
    "\n",
    "# 출력보면 Exception이 발생한 곳을 알려준다."
   ]
  },
  {
   "cell_type": "markdown",
   "id": "50df2e91",
   "metadata": {},
   "source": [
    "## 2. 예외 처리(Exception Handling)\n",
    "- 발생한 예외(Exception)을 처리해서 프로그램을 정상화시킨다.\n",
    "- try 다음 except, else, finally 셋 중 하나 들어온다.\n",
    "- 구문\n",
    "\n",
    "\n",
    "'''\n",
    "try:\n",
    "    \n",
    "    # try block\n",
    "    예외가 발생할 가능성이 있는 코드\n",
    "    발생가능성 있는 코드와 연결된 코드\n",
    "\n",
    "except:\n",
    "    \n",
    "    \n",
    "    Handling 코드\n",
    "    try block에서 예외가 발생했을 때 그것을 처리하는 코드들\n",
    "\n",
    "'''\n",
    "\n",
    "\n"
   ]
  },
  {
   "cell_type": "code",
   "execution_count": 6,
   "id": "98b27adc",
   "metadata": {},
   "outputs": [
    {
     "name": "stdout",
     "output_type": "stream",
     "text": [
      "정수:aaa\n"
     ]
    },
    {
     "ename": "ValueError",
     "evalue": "invalid literal for int() with base 10: 'aaa'",
     "output_type": "error",
     "traceback": [
      "\u001b[1;31m---------------------------------------------------------------------------\u001b[0m",
      "\u001b[1;31mValueError\u001b[0m                                Traceback (most recent call last)",
      "\u001b[1;32m~\\AppData\\Local\\Temp/ipykernel_12116/373214094.py\u001b[0m in \u001b[0;36m<module>\u001b[1;34m\u001b[0m\n\u001b[0;32m      1\u001b[0m \u001b[0mnum_str\u001b[0m \u001b[1;33m=\u001b[0m \u001b[0minput\u001b[0m\u001b[1;33m(\u001b[0m\u001b[1;34m\"정수:\"\u001b[0m\u001b[1;33m)\u001b[0m\u001b[1;33m\u001b[0m\u001b[1;33m\u001b[0m\u001b[0m\n\u001b[1;32m----> 2\u001b[1;33m \u001b[0mnum\u001b[0m \u001b[1;33m=\u001b[0m \u001b[0mint\u001b[0m\u001b[1;33m(\u001b[0m\u001b[0mnum_str\u001b[0m\u001b[1;33m)\u001b[0m\u001b[1;33m\u001b[0m\u001b[1;33m\u001b[0m\u001b[0m\n\u001b[0m\u001b[0;32m      3\u001b[0m \u001b[0mresult\u001b[0m \u001b[1;33m=\u001b[0m \u001b[0mnum\u001b[0m \u001b[1;33m**\u001b[0m \u001b[1;36m3\u001b[0m\u001b[1;33m\u001b[0m\u001b[1;33m\u001b[0m\u001b[0m\n",
      "\u001b[1;31mValueError\u001b[0m: invalid literal for int() with base 10: 'aaa'"
     ]
    }
   ],
   "source": [
    "# 예외 발생 기본 예제1\n",
    "\n",
    "# 2줄 ValueError 오류 \n",
    "# => int 정수 변환 함수 괄호 안에는 정수가 들어와야 하는데 문자열이 들어왔다.\n",
    "# 발생할 지, 안 할지 모르지만 가능성이 있다.\n",
    "\n",
    "# => 2줄 오류로 3줄부터 실행할 수 없다.\n",
    "# => 실행할 수 없는 코드 중 실행 처리를 원하는 코드를 예외처리해주자.\n",
    "\n",
    "num_str = input(\"정수:\")\n",
    "num = int(num_str) # 예외발생 가능성 있는 코드\n",
    "result = num ** 3 # 예외가 발생하면 실행할 수 없는 코드\n",
    "print(\"결과:\", result) # 예외가 발생하면 실행할 수 없는 코드\n",
    "print(\"종료\") "
   ]
  },
  {
   "cell_type": "code",
   "execution_count": 9,
   "id": "afb3c10a",
   "metadata": {},
   "outputs": [
    {
     "name": "stdout",
     "output_type": "stream",
     "text": [
      "정수:ABC\n",
      "ABC은 정수로 바꿀 수 없습니다. 다시 실행해서 정수를 입력하세요.\n",
      "종료\n"
     ]
    }
   ],
   "source": [
    "# 예외처리 기본 예제1 (위 코드를 예외 처리)\n",
    "\n",
    "# 정수 입력했다면, num = int(num_str) 정상 실행. 그대로 아래 줄 실행하고 종료. except 실행 안됨.\n",
    "# 문자열 입력했다면, num = int(num_str) 오류. 아래 줄 실행 안되고 except 구문으로 가 실행하고 종료.\n",
    "# => 둘 다 정상화되고(시키고) 종료. \n",
    "\n",
    "num_str = input(\"정수:\")\n",
    "\n",
    "try: \n",
    "    num = int(num_str) # 예외발생 가능성 있는 코드\n",
    "    result = num ** 3 # 예외가 발생하면 실행할 수 없는 코드\n",
    "    print(\"결과:\", result) # 예외가 발생하면 실행할 수 없는 코드\n",
    "except:\n",
    "    print(f\"{num_str}은 정수로 바꿀 수 없습니다. 다시 실행해서 정수를 입력하세요.\")\n",
    "    \n",
    "print(\"종료\") "
   ]
  },
  {
   "cell_type": "code",
   "execution_count": 13,
   "id": "4e4459a2",
   "metadata": {},
   "outputs": [
    {
     "name": "stdout",
     "output_type": "stream",
     "text": [
      "정수1:10\n",
      "정수2:0\n",
      "예외발생\n",
      "프로그램을 종료합니다.\n"
     ]
    }
   ],
   "source": [
    "# 예외처리 예제2 \n",
    "\n",
    "# 예외발생 가능성 있는 코드1, 코드2 : ValueError\n",
    "# 예외발생 가능성있는 코드3 (num2 = 0 들어가면) : ZeroDivisionError\n",
    "# =>코드1, 코드2 오류 이유가 다르다는 것은 상황 자체가 다른 것.\n",
    "# => 이 상황을 다르게 처리하고 싶다면?\n",
    "\n",
    "num_str1 = input(\"정수1:\") \n",
    "num_str2 = input(\"정수2:\")\n",
    "\n",
    "########이 코드들은 연결된(연관성) 코드 -> try로 묶는######\n",
    "try:\n",
    "    num1 = int(num_str1) # 예외발생 가능성있는 코드1\n",
    "    num2 = int(num_str2) # 예외발생 가능성있는 코드2 이자 예외1와 연결된 코드\n",
    "    result = num1 / num2 # 예외발생 가능성있는 코드3 \n",
    "    print(\"나눈 결과:\", result) # 예외와 연결된 코드\n",
    "    \n",
    "################################################################\n",
    "\n",
    "except:\n",
    "    print(\"예외발생\")\n",
    "\n",
    "print(\"프로그램을 종료합니다.\") "
   ]
  },
  {
   "cell_type": "markdown",
   "id": "e0f9eaf2",
   "metadata": {},
   "source": [
    "### 2_1.  예외처리 : 특정 예외만 처리하기\n",
    "\n",
    "- 발생할 수 있는 Exception이 여러 종류이고 \n",
    "    - Exception 별로 다르게 처리할 경우하고 싶을 때. \n",
    "        - 특정 예외만 처리하자.\n",
    "            - **except 예외이름:**\n",
    "- except 구문도 순차적으로 첫번째 except 오류 아니면 두번째 except 확인... -> default excpt: 작성 시 가장 마자막에.\n",
    "\n",
    "\n",
    "\n",
    "#### \n",
    "- as 변수 : 오류 났을 때 출력 오류 메시지를 사용할 수 있다.\n",
    "\n",
    "\n",
    "예제 입력:\n",
    "\n",
    "except ValueError as ve:\n",
    "    print(\"정수를 입력하세요.\", ve)\n",
    "\n",
    "예제 출력 :\n",
    "\n",
    "정수를 입력하세요. invalid literal for int() with base 10: '1-'\n",
    "\n",
    "\n",
    "\n",
    "- 아래 예외처리 예제3"
   ]
  },
  {
   "cell_type": "code",
   "execution_count": 19,
   "id": "d34085e5",
   "metadata": {},
   "outputs": [
    {
     "name": "stdout",
     "output_type": "stream",
     "text": [
      "정수1:1-\n",
      "정수2:dfk\n",
      "정수를 입력하세요. invalid literal for int() with base 10: '1-'\n",
      "프로그램을 종료합니다.\n"
     ]
    }
   ],
   "source": [
    "# 예외처리 예제3 \n",
    "\n",
    "# 1. 특정 예외만 처리하기\n",
    "# 예외발생 가능성 있는 코드1, 코드2 : ValueError\n",
    "# 예외발생 가능성있는 코드3 (num2 = 0 들어가면) : ZeroDivisionError\n",
    "#    => 오류 이유가 다르다는 것은 상황 자체가 다른 것.\n",
    "#    => 이 상황을 다르게 처리하고 싶다면? => 특정 예외만 처리하라.\n",
    "\n",
    "# 2. as 변수 : 출력 오류 메시지 사용.\n",
    "# except ValueError as ve: 예제\n",
    "\n",
    "# 3. default except 넣을 수 있다.\n",
    "\n",
    "num_str1 = input(\"정수1:\") \n",
    "num_str2 = input(\"정수2:\")\n",
    "\n",
    "try:\n",
    "    num1 = int(num_str1) # 예외발생 가능성있는 코드1\n",
    "    num2 = int(num_str2) # 예외발생 가능성있는 코드2\n",
    "    result = num1 / num2 # 예외발생 가능성있는 코드3 \n",
    "    print(\"나눈 결과:\", result) # 예외와 연결된 코드\n",
    "    \n",
    "\n",
    "\n",
    "# Value Error만 처리. 다른 오류 발생하면 예외처리 안 했으니 당연히 오류.\n",
    "# as 변수 : 오류 났을 때 출력 오류 메시지를 사용할 수 있다.\n",
    "\n",
    "except ValueError as ve:\n",
    "    print(\"정수를 입력하세요.\", ve)\n",
    "\n",
    "# ZeroDivisionError만 처리.\n",
    "except ZeroDivisionError as ze:\n",
    "    print(\"두번째 숫자는 0 이외의 정수를 입력하세요.\", ze)\n",
    "\n",
    "    \n",
    "# default 처리(순차적으로 하기에 가장 마지막에 처리해야 함.)\n",
    "except:\n",
    "    print(\"ValueError, ZeroDivisionError 이외의 예외가 발생할 경우 처리.\")\n",
    "\n",
    "    \n",
    "print(\"프로그램을 종료합니다.\") "
   ]
  },
  {
   "cell_type": "markdown",
   "id": "8f5cd608",
   "metadata": {},
   "source": [
    "- 쥬피터 노트북 TIP\n",
    "    - tab 한번에 들여쓰기.\n",
    "    - shift + tab 들여쓰기 반대. 빼기."
   ]
  },
  {
   "cell_type": "code",
   "execution_count": 5,
   "id": "46113e12",
   "metadata": {},
   "outputs": [],
   "source": [
    "# 예외처리 예제4 : divide() 예외 발생. 호출문에서 예외 처리.\n",
    "\n",
    "def divide():\n",
    "    \n",
    "    # 호출문 예외처리 경우 설명서를 써준다.\n",
    "    \"\"\"\n",
    "    설명\n",
    "    [parameter]\n",
    "    [return value]\n",
    "    [exception]\n",
    "        ValueError 발생 이유\n",
    "        ZeroDivisionError 발생이유\n",
    "    \n",
    "    \"\"\"\n",
    "    \n",
    "    num_str1 = input(\"정수1:\") \n",
    "    num_str2 = input(\"정수2:\")\n",
    "\n",
    "\n",
    "    num1 = int(num_str1)\n",
    "    num2 = int(num_str2) \n",
    "    result = num1 / num2 \n",
    "    print(\"나눈 결과:\", result)\n",
    "\n",
    "    # return  # 원래 함수 마지막은 늘 return. 현 코드 생략 한 것.\n",
    "\n",
    "    # return 의 개념은 정상 종료 후 divide() 줄로 돌아가는 것. 그 다음 줄 실행.\n",
    "\n",
    "    \n"
   ]
  },
  {
   "cell_type": "code",
   "execution_count": 7,
   "id": "3c703711",
   "metadata": {},
   "outputs": [
    {
     "name": "stdout",
     "output_type": "stream",
     "text": [
      "정수1:aaa\n",
      "정수2:10\n",
      "나누는 작업을 정상적으로 처리하지 못했습니다.\n",
      "프로그램을 종료합니다.\n"
     ]
    }
   ],
   "source": [
    "# 예외처리 예제4 : divide() 예외 발생. 호출문 예외 처리.\n",
    "\n",
    "\n",
    "# excpetion 상항에서 에러나서 아래 코드 실행 안 하고 호출문 divide()로 돌아간다.\n",
    "# 호출문 divide()줄 에서도 exception 발생한 것. 그래서 파이썬 실행 환경으로 가서 본 오류 메시지를 출력해주는 것.\n",
    "\n",
    "\n",
    "# divide() 즉, 호출한 곳 또한, Exception 발생할 가능성이 있는 코드 - ValueError\n",
    "# 호출한 곳에서 예외처리 가능.\n",
    "\n",
    "try:\n",
    "    divide() # Exception 발생할 가능성이 있는 코드\n",
    "except:\n",
    "    print(\"나누는 작업을 정상적으로 처리하지 못했습니다.\")\n",
    "print(\"프로그램을 종료합니다.\")"
   ]
  },
  {
   "cell_type": "code",
   "execution_count": 16,
   "id": "69203102",
   "metadata": {},
   "outputs": [],
   "source": [
    "# 예제 5\n",
    "# exception 설명문 예제\n",
    "# 호출한 곳에서 처리해야 할 때. 이유.\n",
    "\n",
    "\n",
    "\n",
    "def divide2(num1:int, num2:int) -> int:\n",
    "# num1:int   -> 매개변수 데이터 타입를 알려주는 것. 꼭 넣는 지정이 아님.\n",
    "# () -> int : 리턴 데이터 타입에 대한 힌트    \n",
    "\n",
    "    \"\"\"\n",
    "    두개의 숫자를 나누는 함수\n",
    "    [parameter]\n",
    "        num1: int - 피연산자\n",
    "        num2: int - 피연산자\n",
    "\n",
    "    [return value]\n",
    "        int - 나눈 결과\n",
    "        \n",
    "    [exception]\n",
    "        ValueError \n",
    "        ZeroDivisionError : num2가 0일 경우 발생.\n",
    "    \n",
    "    \"\"\"\n",
    "    \n",
    "    return num1/num2"
   ]
  },
  {
   "cell_type": "code",
   "execution_count": 17,
   "id": "60462d8a",
   "metadata": {},
   "outputs": [],
   "source": [
    "# 예제 5\n",
    "# 호출한 곳에서 처리해야 할 때. 이유.\n",
    "\n",
    "# 이때 오류는 divide2(10,0)에서 위 def에서가 아니라 이 줄에서 난것.\n",
    "#   => 여기서 예외처리 해줘야 한다.\n",
    "# 위 def는 나누기만 하는 것이다.\n",
    "# 잘 못된 값이 들어왔을 때 어떻게 처리할 지는 이 코드에서 진행되야 한다.\n",
    "# 예외처리를 어떻게 할지. 넘겨버릴지 아님 plus 처리를 시킨지...\n",
    "# 이것은 이걸 불러오는 사람이 결정.\n",
    "\n",
    "try:\n",
    "    p1 = divide2(10,10)\n",
    "    p2 = divide2(10,0)\n",
    "    print(p)\n",
    "    \n",
    "except:\n",
    "    a = divide2(10,1)\n",
    "    # a = plus(10,0) # 어떻게 처리할 지는 여기서!!!!"
   ]
  },
  {
   "cell_type": "code",
   "execution_count": 18,
   "id": "bce2d17d",
   "metadata": {},
   "outputs": [
    {
     "name": "stdout",
     "output_type": "stream",
     "text": [
      "나눈결과: 1.0\n",
      "종료\n"
     ]
    }
   ],
   "source": [
    "# 예외처리 예제 6 _   else:  # 잘 안 씀.\n",
    "\n",
    "try:\n",
    "    r = divide2(10, 10) # 예외 발생 가능성 있는 코드만 넣자!\n",
    "    # print(\"나눈결과:\", r) # 위 예제는 여기다. # 예외가 발생하지 않을 경우 실행할 경우 \n",
    "    # 사실 그냥 여기에 넣으면 되서 잘 안 씀.\n",
    "    \n",
    "except:\n",
    "    print(\"예외발생\") # 예외가 발생하며 실행할 코드\n",
    "\n",
    "else:\n",
    "    print(\"나눈결과:\", r) # 예외가 발생하지 않을 경우 실행할 경우를 여기에!\n",
    "\n",
    "print(\"종료\")"
   ]
  },
  {
   "cell_type": "markdown",
   "id": "2264dffd",
   "metadata": {},
   "source": [
    "### 예외처리 _ finally\n",
    "\n",
    "try - except -finally\n",
    "\n",
    "- finally block\n",
    "    - try에서 예외 발생 및 처리 여부와 상관없이 100% 실행을 보장하는 코드 블럭. (바깥에 넣어도 실행 되지 않을 수 있다.)\n",
    "    -  주로, 외부자원과 연결해서 데이터를 주고받을 때 마지막 연결 끊는(닫는) 를 주로 넣는다.\n",
    "- 입출력에서 많이 쓴다. (다음 단원에서 예제)\n",
    "\n",
    "- 많이는 안 쓴다.\n",
    "- except와 else보다 먼저 올 수 없다."
   ]
  },
  {
   "cell_type": "code",
   "execution_count": 19,
   "id": "767358d9",
   "metadata": {},
   "outputs": [
    {
     "ename": "ZeroDivisionError",
     "evalue": "division by zero",
     "output_type": "error",
     "traceback": [
      "\u001b[1;31m---------------------------------------------------------------------------\u001b[0m",
      "\u001b[1;31mZeroDivisionError\u001b[0m                         Traceback (most recent call last)",
      "\u001b[1;32m~\\AppData\\Local\\Temp/ipykernel_27964/1575310277.py\u001b[0m in \u001b[0;36m<module>\u001b[1;34m\u001b[0m\n\u001b[0;32m      1\u001b[0m \u001b[1;32mtry\u001b[0m\u001b[1;33m:\u001b[0m\u001b[1;33m\u001b[0m\u001b[1;33m\u001b[0m\u001b[0m\n\u001b[1;32m----> 2\u001b[1;33m     \u001b[0mprint\u001b[0m\u001b[1;33m(\u001b[0m\u001b[1;36m1\u001b[0m\u001b[1;33m/\u001b[0m\u001b[1;36m0\u001b[0m\u001b[1;33m)\u001b[0m\u001b[1;33m\u001b[0m\u001b[1;33m\u001b[0m\u001b[0m\n\u001b[0m\u001b[0;32m      3\u001b[0m     \u001b[0mprint\u001b[0m\u001b[1;33m(\u001b[0m\u001b[1;34m\"무조건 실행될 코드\"\u001b[0m\u001b[1;33m)\u001b[0m \u001b[1;31m# 100% 실행 가능성 없다.\u001b[0m\u001b[1;33m\u001b[0m\u001b[1;33m\u001b[0m\u001b[0m\n\u001b[0;32m      4\u001b[0m \u001b[1;33m\u001b[0m\u001b[0m\n\u001b[0;32m      5\u001b[0m \u001b[1;33m\u001b[0m\u001b[0m\n",
      "\u001b[1;31mZeroDivisionError\u001b[0m: division by zero"
     ]
    }
   ],
   "source": [
    "# 예외처리 _ finally 예제\n",
    "# 밖에 둬도 100% 실행 안되는 상황.\n",
    "\n",
    "\n",
    "try:\n",
    "    print(1/0)\n",
    "    print(\"무조건 실행될 코드\") # 100% 실행 가능성 없다.\n",
    "\n",
    "\n",
    "except ValueError:\n",
    "    print(\"무조건 실행될 코드\") # 100% 실행 가능성 없다.\n",
    "  \n",
    "\n",
    "print(\"무조건 실행될 코드\") \n",
    "\n",
    "# 만약, Value Error만 예외처리 했을 때 다른 오류가 발생 시에는 위 코드 실행 안됨.\n",
    "# 이 코드 또한 100% 실행 가능성 없다.\n",
    "\n",
    "   "
   ]
  },
  {
   "cell_type": "code",
   "execution_count": 20,
   "id": "d2f65161",
   "metadata": {
    "scrolled": true
   },
   "outputs": [
    {
     "name": "stdout",
     "output_type": "stream",
     "text": [
      "무조건 실행될 코드\n"
     ]
    },
    {
     "ename": "ZeroDivisionError",
     "evalue": "division by zero",
     "output_type": "error",
     "traceback": [
      "\u001b[1;31m---------------------------------------------------------------------------\u001b[0m",
      "\u001b[1;31mZeroDivisionError\u001b[0m                         Traceback (most recent call last)",
      "\u001b[1;32m~\\AppData\\Local\\Temp/ipykernel_27964/2204614859.py\u001b[0m in \u001b[0;36m<module>\u001b[1;34m\u001b[0m\n\u001b[0;32m      1\u001b[0m \u001b[1;32mtry\u001b[0m\u001b[1;33m:\u001b[0m\u001b[1;33m\u001b[0m\u001b[1;33m\u001b[0m\u001b[0m\n\u001b[1;32m----> 2\u001b[1;33m     \u001b[0mprint\u001b[0m\u001b[1;33m(\u001b[0m\u001b[1;36m1\u001b[0m\u001b[1;33m/\u001b[0m\u001b[1;36m0\u001b[0m\u001b[1;33m)\u001b[0m\u001b[1;33m\u001b[0m\u001b[1;33m\u001b[0m\u001b[0m\n\u001b[0m\u001b[0;32m      3\u001b[0m     \u001b[0mprint\u001b[0m\u001b[1;33m(\u001b[0m\u001b[1;34m\"무조건 실행될 코드\"\u001b[0m\u001b[1;33m)\u001b[0m \u001b[1;31m# 100% 실행 가능성 없다.\u001b[0m\u001b[1;33m\u001b[0m\u001b[1;33m\u001b[0m\u001b[0m\n\u001b[0;32m      4\u001b[0m \u001b[1;33m\u001b[0m\u001b[0m\n\u001b[0;32m      5\u001b[0m \u001b[1;33m\u001b[0m\u001b[0m\n",
      "\u001b[1;31mZeroDivisionError\u001b[0m: division by zero"
     ]
    }
   ],
   "source": [
    "# 예외처리 _ finally 예제\n",
    "\n",
    "\n",
    "try:\n",
    "    \n",
    "#   외부 자원과 연결\n",
    "#   외부자원과 데이터를 주고받는 코드\n",
    "\n",
    "    print(1/0)\n",
    "    print(\"코드\") # 100% 실행 가능성 없다.\n",
    "\n",
    "\n",
    "except ValueError:\n",
    "#   데이터를 주고받다가 예외를 처리하는 코드\n",
    "\n",
    "    \n",
    "    print(\"코드\") # 100% 실행 가능성 없다.\n",
    "\n",
    "finally:\n",
    "#   연결 닫는 (끊는) 코드\n",
    "    print(\"무조건 실행될 코드\") \n",
    "\n",
    "# 현재 ValueError 만을 예외처리하여 오류 메시지 뜨지만,\n",
    "# 어쨌든 무조건 실행될 코드를 finally: 통해 출력했다."
   ]
  },
  {
   "cell_type": "markdown",
   "id": "7511c586",
   "metadata": {},
   "source": [
    "### 같은 일을 하는 메소드(함수)가 예외발생 또는  None반환을 하는 경우."
   ]
  },
  {
   "cell_type": "code",
   "execution_count": 30,
   "id": "2e570c63",
   "metadata": {},
   "outputs": [
    {
     "data": {
      "text/plain": [
       "(3, 3)"
      ]
     },
     "execution_count": 30,
     "metadata": {},
     "output_type": "execute_result"
    }
   ],
   "source": [
    "# 딕셔너리\n",
    "# 동일한 일. 무슨 차이 일까? 왜  get메소드를 쓸까? \n",
    "# 두개가 예외처리 방식이 다르다.\n",
    "\n",
    "d = {\"key\":3}\n",
    "d[\"key\"], d.get(\"key\")\n",
    "\n"
   ]
  },
  {
   "cell_type": "code",
   "execution_count": 23,
   "id": "4d22e776",
   "metadata": {
    "scrolled": false
   },
   "outputs": [
    {
     "ename": "KeyError",
     "evalue": "'key'",
     "output_type": "error",
     "traceback": [
      "\u001b[1;31m---------------------------------------------------------------------------\u001b[0m",
      "\u001b[1;31mKeyError\u001b[0m                                  Traceback (most recent call last)",
      "\u001b[1;32m~\\AppData\\Local\\Temp/ipykernel_27964/2558928561.py\u001b[0m in \u001b[0;36m<module>\u001b[1;34m\u001b[0m\n\u001b[0;32m      1\u001b[0m \u001b[1;31m# 없는 키로 조회\u001b[0m\u001b[1;33m\u001b[0m\u001b[1;33m\u001b[0m\u001b[0m\n\u001b[1;32m----> 2\u001b[1;33m \u001b[0md\u001b[0m\u001b[1;33m[\u001b[0m\u001b[1;34m\"key\"\u001b[0m\u001b[1;33m]\u001b[0m \u001b[1;31m# keyError를 발생\u001b[0m\u001b[1;33m\u001b[0m\u001b[1;33m\u001b[0m\u001b[0m\n\u001b[0m",
      "\u001b[1;31mKeyError\u001b[0m: 'key'"
     ]
    }
   ],
   "source": [
    "# d[\"key\"]\n",
    "# 없는 키로 조회\n",
    "d[\"key\"] # keyError를 발생"
   ]
  },
  {
   "cell_type": "code",
   "execution_count": 26,
   "id": "d76d1e75",
   "metadata": {},
   "outputs": [
    {
     "name": "stdout",
     "output_type": "stream",
     "text": [
      "없습니다.\n"
     ]
    }
   ],
   "source": [
    "# d[\"key\"]의 예외처리 \n",
    "\n",
    "try:\n",
    "    d[\"key\"] # keyError를 발생\n",
    "except:\n",
    "    print(\"없습니다.\")"
   ]
  },
  {
   "cell_type": "code",
   "execution_count": 24,
   "id": "cbc9d316",
   "metadata": {},
   "outputs": [
    {
     "name": "stdout",
     "output_type": "stream",
     "text": [
      "None\n"
     ]
    }
   ],
   "source": [
    "# v =d.get(\"key\") \n",
    "# 내부적으로 정상처리를 해준다.\n",
    "\n",
    "v =d.get(\"key\") # None반환\n",
    "\n",
    "# v = d.get(\"key\",\"없음\") #설정한 default 값을 반환\n",
    "print(v)\n"
   ]
  },
  {
   "cell_type": "code",
   "execution_count": 25,
   "id": "b477e15b",
   "metadata": {},
   "outputs": [
    {
     "name": "stdout",
     "output_type": "stream",
     "text": [
      "없습니다.\n",
      "None\n"
     ]
    }
   ],
   "source": [
    "# v =d.get(\"key\") 예외처리\n",
    "\n",
    "v =d.get(\"key\") # None반환\n",
    "\n",
    "if v != None:\n",
    "    rint(v)\n",
    "else:\n",
    "    print(\"없습니다.\")\n",
    "\n",
    "print(v)\n"
   ]
  },
  {
   "cell_type": "code",
   "execution_count": 134,
   "id": "36d23d13",
   "metadata": {},
   "outputs": [
    {
     "ename": "ValueError",
     "evalue": "substring not found",
     "output_type": "error",
     "traceback": [
      "\u001b[1;31m---------------------------------------------------------------------------\u001b[0m",
      "\u001b[1;31mValueError\u001b[0m                                Traceback (most recent call last)",
      "\u001b[1;32m~\\AppData\\Local\\Temp/ipykernel_27964/795143.py\u001b[0m in \u001b[0;36m<module>\u001b[1;34m\u001b[0m\n\u001b[0;32m      3\u001b[0m \u001b[0ms\u001b[0m \u001b[1;33m=\u001b[0m \u001b[1;34m\"가나다라\"\u001b[0m\u001b[1;33m\u001b[0m\u001b[1;33m\u001b[0m\u001b[0m\n\u001b[0;32m      4\u001b[0m \u001b[0ms\u001b[0m\u001b[1;33m.\u001b[0m\u001b[0mfind\u001b[0m\u001b[1;33m(\u001b[0m\u001b[1;34m\"바\"\u001b[0m\u001b[1;33m)\u001b[0m\u001b[1;33m\u001b[0m\u001b[1;33m\u001b[0m\u001b[0m\n\u001b[1;32m----> 5\u001b[1;33m \u001b[0ms\u001b[0m\u001b[1;33m.\u001b[0m\u001b[0mindex\u001b[0m\u001b[1;33m(\u001b[0m\u001b[1;34m\"바\"\u001b[0m\u001b[1;33m)\u001b[0m\u001b[1;33m\u001b[0m\u001b[1;33m\u001b[0m\u001b[0m\n\u001b[0m",
      "\u001b[1;31mValueError\u001b[0m: substring not found"
     ]
    }
   ],
   "source": [
    "# 두번째 예제 find와 index 차이\n",
    "# 예도 위와 같이 처리해주면 된다.\n",
    "s = \"가나다라\"\n",
    "s.find(\"바\")\n",
    "s.index(\"바\")"
   ]
  },
  {
   "cell_type": "code",
   "execution_count": 36,
   "id": "f1686196",
   "metadata": {},
   "outputs": [],
   "source": [
    "# 강사님 코드 복사하기."
   ]
  },
  {
   "cell_type": "code",
   "execution_count": null,
   "id": "57c13fbd",
   "metadata": {},
   "outputs": [],
   "source": []
  },
  {
   "cell_type": "code",
   "execution_count": null,
   "id": "17a30f97",
   "metadata": {},
   "outputs": [],
   "source": []
  },
  {
   "cell_type": "code",
   "execution_count": 136,
   "id": "b47d034f",
   "metadata": {},
   "outputs": [
    {
     "ename": "IndentationError",
     "evalue": "unexpected indent (Temp/ipykernel_27964/3842423309.py, line 22)",
     "output_type": "error",
     "traceback": [
      "\u001b[1;36m  File \u001b[1;32m\"C:\\Users\\CSYJ\\AppData\\Local\\Temp/ipykernel_27964/3842423309.py\"\u001b[1;36m, line \u001b[1;32m22\u001b[0m\n\u001b[1;33m    else: # obj가 Person타입 아닐 때\u001b[0m\n\u001b[1;37m    ^\u001b[0m\n\u001b[1;31mIndentationError\u001b[0m\u001b[1;31m:\u001b[0m unexpected indent\n"
     ]
    }
   ],
   "source": [
    "# 예외처리 예제 7 _ 객체 특수메소드 비교연산자 관련하여\n",
    "\n",
    "class Person:\n",
    "    \n",
    "    def __init__(self, name, age):\n",
    "        self.name = name\n",
    "        self.age = age\n",
    "        \n",
    "    # > 연산자 재정의\n",
    "    \n",
    "    def __gt__(self, obj):\n",
    "        result = False\n",
    "        if isinstance(obj, Person): # obj가 Person 타입일 때\n",
    "            result = self.age > obj.age\n",
    "'''        \n",
    "        else: # obj가 Person타입 아니기에\n",
    "            result = self.age > obj \n",
    "'''\n",
    "\n",
    "# << exception handling \n",
    "\n",
    "        else: # obj가 Person타입 아닐 때 \n",
    "            try: # 숫자데이터 제외 예외 발생 가능성있음.\n",
    "                result = self.age > obj \n",
    "            except:\n",
    "                pass\n",
    "            \n",
    "            \n",
    "        return result\n",
    "\n",
    "    \n",
    "    \n",
    "p1 = Person(\"홍길동\", 20)\n",
    "p2 = Person(\"이순신\", 15)\n",
    "\n",
    "p1 > p2, p1 > 30   \n",
    "\n",
    "# p1이 self로,   p2가 obj로\n",
    "# p1이 self로,   30이 obj로   "
   ]
  },
  {
   "cell_type": "code",
   "execution_count": 137,
   "id": "19472b36",
   "metadata": {
    "scrolled": true
   },
   "outputs": [
    {
     "ename": "TypeError",
     "evalue": "'>' not supported between instances of 'int' and 'str'",
     "output_type": "error",
     "traceback": [
      "\u001b[1;31m---------------------------------------------------------------------------\u001b[0m",
      "\u001b[1;31mTypeError\u001b[0m                                 Traceback (most recent call last)",
      "\u001b[1;32m~\\AppData\\Local\\Temp/ipykernel_27964/834371931.py\u001b[0m in \u001b[0;36m<module>\u001b[1;34m\u001b[0m\n\u001b[0;32m      3\u001b[0m \u001b[1;33m\u001b[0m\u001b[0m\n\u001b[0;32m      4\u001b[0m \u001b[1;33m\u001b[0m\u001b[0m\n\u001b[1;32m----> 5\u001b[1;33m \u001b[0mprint\u001b[0m\u001b[1;33m(\u001b[0m\u001b[0mp1\u001b[0m\u001b[1;33m>\u001b[0m \u001b[0mp2\u001b[0m\u001b[1;33m)\u001b[0m\u001b[1;33m\u001b[0m\u001b[1;33m\u001b[0m\u001b[0m\n\u001b[0m",
      "\u001b[1;32m~\\AppData\\Local\\Temp/ipykernel_27964/1988457913.py\u001b[0m in \u001b[0;36m__gt__\u001b[1;34m(self, obj)\u001b[0m\n\u001b[0;32m     12\u001b[0m         \u001b[0mresult\u001b[0m \u001b[1;33m=\u001b[0m \u001b[1;32mFalse\u001b[0m\u001b[1;33m\u001b[0m\u001b[1;33m\u001b[0m\u001b[0m\n\u001b[0;32m     13\u001b[0m         \u001b[1;32mif\u001b[0m \u001b[0misinstance\u001b[0m\u001b[1;33m(\u001b[0m\u001b[0mobj\u001b[0m\u001b[1;33m,\u001b[0m \u001b[0mPerson\u001b[0m\u001b[1;33m)\u001b[0m\u001b[1;33m:\u001b[0m \u001b[1;31m# obj가 Person 타입일 때\u001b[0m\u001b[1;33m\u001b[0m\u001b[1;33m\u001b[0m\u001b[0m\n\u001b[1;32m---> 14\u001b[1;33m             \u001b[0mresult\u001b[0m \u001b[1;33m=\u001b[0m \u001b[0mself\u001b[0m\u001b[1;33m.\u001b[0m\u001b[0mage\u001b[0m \u001b[1;33m>\u001b[0m \u001b[0mobj\u001b[0m\u001b[1;33m.\u001b[0m\u001b[0mage\u001b[0m\u001b[1;33m\u001b[0m\u001b[1;33m\u001b[0m\u001b[0m\n\u001b[0m\u001b[0;32m     15\u001b[0m \u001b[1;33m\u001b[0m\u001b[0m\n\u001b[0;32m     16\u001b[0m         \u001b[1;32melse\u001b[0m\u001b[1;33m:\u001b[0m \u001b[1;31m# obj가 Person타입 아니기에\u001b[0m\u001b[1;33m\u001b[0m\u001b[1;33m\u001b[0m\u001b[0m\n",
      "\u001b[1;31mTypeError\u001b[0m: '>' not supported between instances of 'int' and 'str'"
     ]
    }
   ],
   "source": [
    "p1 = Person(\"홍길동\", 20)\n",
    "p2 = Person(\"이순신\", \"30\")\n",
    "\n",
    "\n",
    "print(p1> p2)"
   ]
  },
  {
   "cell_type": "code",
   "execution_count": 138,
   "id": "5684d353",
   "metadata": {},
   "outputs": [
    {
     "name": "stdout",
     "output_type": "stream",
     "text": [
      "다시 입력하시오.\n"
     ]
    }
   ],
   "source": [
    "# 예외처리 예제7 _ 호출문에서 예외처리\n",
    "# 이때 실수, 정수 같은 숫자가 아니라면 다른 타입이 들어가면 오류\n",
    "\n",
    "# 내가 한 것. result = False 출력 되나?\n",
    "\n",
    "\n",
    "p1 = Person(\"홍길동\", 20)\n",
    "p2 = Person(\"이순신\", \"30\")\n",
    "\n",
    "try:\n",
    "    print(p1> p2)\n",
    "    \n",
    "except:\n",
    "    print(\"다시 입력하시오.\")\n",
    "    \n"
   ]
  },
  {
   "cell_type": "markdown",
   "id": "799eef6a",
   "metadata": {},
   "source": [
    "## 3. 사용자 정의 예외 구현 및 예외 발생시키기\n",
    "\n",
    "**1. 예외상속구조**\n",
    "- 예외를 모두 클래스로 정의해 사용한다.\n",
    "    - 예외가 발생하는 상황과 관련된 instance변수, 메소드 정의한 클래스\n",
    "    - ValueError ... 오류는 모두 클래스이다.!\n",
    "        - 예외가 발생한 상황에 따라 클래스가 나눠지는 것.\n",
    "\n",
    "- except ValueError as 변수 : 클래스에서 만들어진 객체의 변수\n",
    ".\n",
    "\n",
    "\n",
    "**2. 예외 클래스 작성**\n",
    "- 프로그램 조직 흐름상 예외가 발생해야 하는 경우 예외 클래스를 정의할 수 있다.\n",
    "- 사용자 정의 예외는 Exception을 상속받아 만든다.\n",
    "    - 왜? 모든 예외는 Exception(클래스)을 상속받아 구현되기 때문에\n",
    "\n",
    "**3. 예외 발생시키기**\n",
    "- rasie 예외객체\n",
    "    - 예외를 발생시킨다.\n",
    "    - 대부분 if문에 작성한다.\n",
    "        - 예외가 발생해야 하는 조건 True일 경우\n",
    "\n",
    "**4.return과 raie의 의미**\n",
    "- **return의 의미 : 정상 종료 상태로. 호출한 곳으로 돌아가라.**\n",
    "- **rasie의 의미 : 비정상 종료 상태로. 호출한 곳으로 돌아가라.**\n"
   ]
  },
  {
   "cell_type": "code",
   "execution_count": 77,
   "id": "c24bc761",
   "metadata": {},
   "outputs": [],
   "source": [
    "# 사용자정의 예외 구현 및 발생 정의 예제(클래스 선언부)\n",
    "\n",
    "\n",
    "class InvalidMonthException(Exception): # Exception 상속\n",
    "    \n",
    "    def __init__(self, invalid_month):\n",
    "        self.invalid_month = invalid_month\n",
    "    def __str__(self):\n",
    "        return f\"월은 1_ 12 사이의 정수만 가능합니다. 사용된 월은: {self.invalid_month}입니다.\"\n",
    "    "
   ]
  },
  {
   "cell_type": "code",
   "execution_count": 78,
   "id": "bcfb8d7b",
   "metadata": {},
   "outputs": [],
   "source": [
    "# 사용자정의 예외 구현 및 발생 정의 예제(함수부)\n",
    "\n",
    "def set_month(month):\n",
    "    if month >=1 and month <=12:\n",
    "        print(f\"{month}월을 설정했습니다.\")\n",
    "        \n",
    "    else:\n",
    "        raise InvalidMonthException(month) # else 일 경우 모두 예외 발생\n",
    "        \n",
    "        \n",
    "        \n",
    "        # raise Exception() #예외발생 \n",
    "        # Exception 클래스로 해도 되지만 구체적으로 무슨 에러인지 모름. 그래서 클래스 정의를 한다.\n",
    "        \n",
    "        \n",
    "        \n",
    "# 잘못된 상황인지 어떤 상황인 지 알 수 있어야 한다.해결할 수 있게\n",
    "# 잘 못되면 호출하는 곳에서 해결 할 수 있게 \n",
    "# => raise를 else에 넣음."
   ]
  },
  {
   "cell_type": "code",
   "execution_count": 80,
   "id": "29b9d3e8",
   "metadata": {},
   "outputs": [
    {
     "name": "stdout",
     "output_type": "stream",
     "text": [
      "10월을 설정했습니다.\n",
      "1월을 설정했습니다.\n",
      "처리 월은 1_ 12 사이의 정수만 가능합니다. 사용된 월은: -10입니다.\n"
     ]
    }
   ],
   "source": [
    "# 사용자정의 예외 구현 및 발생 정의 예제 (호출)\n",
    "\n",
    "\n",
    "set_month(10) # 정상 return\n",
    "set_month(1)  # 정상 return\n",
    "\n",
    "try:\n",
    "    set_month(-10) # else 블럭의 raise에 의해 -> 예외 발생\n",
    "    \n",
    "except InvalidMonthException as e: # 예외처리 실행 \n",
    "    \n",
    "    # 사용자 정의 예외 객체가 할당된 변수 e에 의해 __str__ 메소드 호출\n",
    "    print(\"처리\", e)\n",
    "\n",
    "    \n",
    "\n",
    "# => Exception 클래스로 바로 해도 되지만    \n",
    "# except Exception as e: # 변수 e는 raise한 Exception 객체가 할당된다.\n",
    "#       print(\"처리\")\n",
    "\n",
    "    \n",
    "    "
   ]
  },
  {
   "cell_type": "code",
   "execution_count": null,
   "id": "3278b7fb",
   "metadata": {},
   "outputs": [],
   "source": []
  },
  {
   "cell_type": "code",
   "execution_count": 139,
   "id": "145338b9",
   "metadata": {},
   "outputs": [],
   "source": [
    "# 실전 예제 : 주문 처리하는 코드\n",
    "\n",
    "class  NotEnoughStockException(Exception):\n",
    "    \n",
    "    # 주문량, 재고량을 Attribute로 저장.\n",
    "    def __init__(self, order_amount, stock_amount):\n",
    "        self.order_amount = order_amount\n",
    "        self.stock_amount = stock_amount\n",
    "\n",
    "    # 문자열로 변환 시 왜 발생했는 지를 반환.\n",
    "    def __str__(self):\n",
    "        return f\"재고량:{self.stock_amount} 주문량:{self.order_amount}으로 주문하실 수 없습니다.\"\n",
    "    \n",
    "    \n",
    "\n",
    "def order(order_amount:int):\n",
    "    \"\"\"\n",
    "    주문 처리하는 함수\n",
    "    [parameter]\n",
    "        order_amount: int -> 주문량\n",
    "    [return]\n",
    "    [Exception]\n",
    "        NotEnoughStockException: 주문량이 재고량보다 많으면 발생.\n",
    "    \"\"\"\n",
    "    \n",
    "    stock_amount = 10 # 재고량\n",
    "    \n",
    "    if stock_amount >= order_amount :\n",
    "        print(\"주문처리 시작\")\n",
    "        stock_amount -= order_amount  # 재고량 변경  \n",
    "        print(\"주문정보 저장\")\n",
    "        print(\"주문완료! 남은 재고량:\", stock_amount)\n",
    "    \n",
    "    else:\n",
    "        raise NotEnoughStockException(order_amount, stock_amount)\n",
    "\n",
    "    "
   ]
  },
  {
   "cell_type": "code",
   "execution_count": 132,
   "id": "ff08910a",
   "metadata": {},
   "outputs": [
    {
     "name": "stdout",
     "output_type": "stream",
     "text": [
      "주문처리 시작\n",
      "주문정보 저장\n",
      "주문완료! 남은 재고량: 9\n",
      "주문 후 처리할 것\n",
      "다음 단계 작업\n"
     ]
    }
   ],
   "source": [
    "try:\n",
    "    order(1)\n",
    "    print(\"주문 후 처리할 것\")\n",
    "    \n",
    "except NotEnoughStockException as o:\n",
    "    print(\"1차 주문 실패\",e, e.stock_amount)\n",
    "    print(e.stock_amount())\n",
    "\n",
    "print(\"다음 단계 작업\")"
   ]
  },
  {
   "cell_type": "code",
   "execution_count": 140,
   "id": "b67faddc",
   "metadata": {},
   "outputs": [
    {
     "name": "stdout",
     "output_type": "stream",
     "text": [
      "1차 주문 실패!\n",
      "재고량:10 주문량:30으로 주문하실 수 없습니다.\n",
      "남은 재고량으로 주문됩니다. 재고량: 10\n",
      "주문처리 시작\n",
      "주문정보 저장\n",
      "주문완료! 남은 재고량: 0\n",
      "다음 단계 작업\n"
     ]
    }
   ],
   "source": [
    "try:\n",
    "    order(30)\n",
    "    print(\"주문 후 처리할 것\")\n",
    "    \n",
    "except NotEnoughStockException as o:\n",
    "    print(\"1차 주문 실패!\")\n",
    "    print(o)\n",
    "    print(\"남은 재고량으로 주문됩니다. 재고량:\", o.stock_amount)\n",
    "    order(o.stock_amount)\n",
    "\n",
    "print(\"다음 단계 작업\")\n",
    "\n",
    "# order.stock_amount 로 호출할 수 없는 것은 지역변수 때문이다.\n"
   ]
  },
  {
   "cell_type": "code",
   "execution_count": null,
   "id": "7c1d33ce",
   "metadata": {},
   "outputs": [],
   "source": [
    "예외처리 주문코드 마지막 설명에서 \n",
    "o.stock_amount을 쓰고 order.stock_amount를 쓰면 오류나는데, \n",
    "이유가 함수의 지역변수때문인가요?\n"
   ]
  }
 ],
 "metadata": {
  "kernelspec": {
   "display_name": "Python 3 (ipykernel)",
   "language": "python",
   "name": "python3"
  },
  "language_info": {
   "codemirror_mode": {
    "name": "ipython",
    "version": 3
   },
   "file_extension": ".py",
   "mimetype": "text/x-python",
   "name": "python",
   "nbconvert_exporter": "python",
   "pygments_lexer": "ipython3",
   "version": "3.9.7"
  }
 },
 "nbformat": 4,
 "nbformat_minor": 5
}
