{
 "cells": [
  {
   "cell_type": "code",
   "execution_count": 48,
   "id": "375a49f8",
   "metadata": {},
   "outputs": [
    {
     "name": "stdout",
     "output_type": "stream",
     "text": [
      "2324\n",
      "2324는 잘못된 점수입니다.\n"
     ]
    }
   ],
   "source": [
    "#(1) 다음 점수 구간에 맞게 학점을 출력하세요.\n",
    "# 91 ~ 100 : A학점\n",
    "# 81 ~ 90 :  B학점\n",
    "# 71 ~ 80 :  C학점\n",
    "# 61 ~ 70 :  D학점\n",
    "# 60이하   :  F학점\n",
    "\n",
    "# 범위 안에 안 든 점수가 들어올 수 도 있다. else보다 elif 해주자.\n",
    "\n",
    "score = int(input())\n",
    "if score >= 91 and score <=100:\n",
    "    print(\"A학점\")\n",
    "elif score >= 81 and score <=90:\n",
    "    print(\"B학점\")\n",
    "elif score >= 71 and score <=80:\n",
    "    print(\"C학점\")\n",
    "elif score >= 61 and score <=70:\n",
    "    print(\"D학점\")\n",
    "elif score <= 60:\n",
    "    print(\"F학점\")\n",
    "    \n",
    "else:\n",
    "    print(f\"{score}는 잘못된 점수입니다.\")"
   ]
  },
  {
   "cell_type": "code",
   "execution_count": 3,
   "id": "f567873d",
   "metadata": {},
   "outputs": [
    {
     "name": "stdout",
     "output_type": "stream",
     "text": [
      "남러ㅣㅏㄴ어리ㅏㅓㅇ나ㅣㅁ러\n",
      "사용할 수 있습니다.\n"
     ]
    }
   ],
   "source": [
    "#(2) 사용자로 부터 ID를 입력 받은 뒤 입력받은 ID가 5글자 이상이면 \"사용할 수 있습니다.\"를 5글자 미만이면 \"사용할 수 없는 ID입니다.\"를 출력하세요.\n",
    "\n",
    "id = input()\n",
    "\n",
    "if len(id) >= 5:\n",
    "    print(\"사용할 수 있습니다.\")\n",
    "else:\n",
    "    print(\"사용할 수 없습니다.\")"
   ]
  },
  {
   "cell_type": "code",
   "execution_count": 50,
   "id": "d8d8b910",
   "metadata": {},
   "outputs": [
    {
     "name": "stdout",
     "output_type": "stream",
     "text": [
      "도시명:부산\n",
      "부산는 광역시입니다.\n"
     ]
    }
   ],
   "source": [
    "#(3) 사용자로부터 우리나라 도시명을 입력 받은 뒤 입력받은 도시명이 서울이면 \"특별시\"를 인천,부산,광주,대구,대전,울산 이면 \"광역시\"를 나머지는 \"특별시나 광역시가 아닙니다.\"를 출력하세요.\n",
    "\n",
    "city = input(\"도시명:\")\n",
    "label = None\n",
    "\n",
    "if city == \"서울\":\n",
    "    label = \"특별시\"\n",
    "    \n",
    "# elif city == \"인천\" or city == \"광주\" or city == \"부산\" ...\n",
    "\n",
    "elif city in [\"인천\", \"부산\", \"대구\", \"대전\", \"울산\"]:\n",
    "    label = \"광역시\"\n",
    "\n",
    "else:\n",
    "    label = \"일반도시\"\n",
    "    #print(\"특별시나 광역시가 아닙니다.\")\n",
    "\n",
    "print(f\"{city}는 {label}입니다.\")"
   ]
  },
  {
   "cell_type": "code",
   "execution_count": 59,
   "id": "35fb187b",
   "metadata": {},
   "outputs": [
    {
     "name": "stdout",
     "output_type": "stream",
     "text": [
      "89.0\n"
     ]
    }
   ],
   "source": [
    "#(4) 아래 리스트의 평균을 구하시오. \n",
    "jumsu = [100, 90, 100, 80, 70, 100, 80, 90, 95, 85]\n",
    "sums = 0\n",
    "\n",
    "for i in jumsu:\n",
    "    sums += i\n",
    "    \n",
    "average = sums/len(jumsu)\n",
    "print(average)"
   ]
  },
  {
   "cell_type": "code",
   "execution_count": 60,
   "id": "a0d7d5c0",
   "metadata": {},
   "outputs": [
    {
     "name": "stdout",
     "output_type": "stream",
     "text": [
      "890 89.0\n"
     ]
    }
   ],
   "source": [
    "# s= sum(iterable)  interable의 원소들의 합게를 반환\n",
    "# 평균 구해주는 것은 없다.\n",
    "\n",
    "s = sum(jumsu)\n",
    "m=s/len(jumsu)\n",
    "print(s,m)"
   ]
  },
  {
   "cell_type": "code",
   "execution_count": 61,
   "id": "7610dd7b",
   "metadata": {},
   "outputs": [
    {
     "name": "stdout",
     "output_type": "stream",
     "text": [
      "0 -pass\n",
      "1 -pass\n",
      "2 -pass\n",
      "3 -fail\n",
      "4 -fail\n",
      "5 -pass\n",
      "6 -fail\n",
      "7 -pass\n",
      "8 -pass\n",
      "9 -fail\n"
     ]
    }
   ],
   "source": [
    "#(5) 위 jumsu리스트에서 평균점수이상은 pass, 미만은 fail을 index번호와 함께 출력하시오. \n",
    "# (ex: 0-pass, 1-pass, 2-fail)\n",
    "\n",
    "for idx,i in enumerate(jumsu):\n",
    "    if  average <= i:\n",
    "        print(idx,\"-pass\")\n",
    "    else:\n",
    "        print(idx,\"-fail\")"
   ]
  },
  {
   "cell_type": "code",
   "execution_count": 62,
   "id": "53e70c6e",
   "metadata": {},
   "outputs": [
    {
     "name": "stdout",
     "output_type": "stream",
     "text": [
      "최댓값: 95\n"
     ]
    }
   ],
   "source": [
    "#(6) 아래 리스트 값들 중 최대값을 조회해 출력\n",
    "jumsu = [60, 90, 80, 80, 70, 55, 80, 90, 95, 85]\n",
    "\n",
    "max1 = 0\n",
    "for i in jumsu :\n",
    "    if i > max1:\n",
    "        max1 = i\n",
    "print(\"최댓값:\",max1)"
   ]
  },
  {
   "cell_type": "code",
   "execution_count": 63,
   "id": "9e4e2f8b",
   "metadata": {},
   "outputs": [
    {
     "data": {
      "text/plain": [
       "(95, 55)"
      ]
     },
     "execution_count": 63,
     "metadata": {},
     "output_type": "execute_result"
    }
   ],
   "source": [
    "#iterable의 최댓값과 최솟값을 반환하는 함수.\n",
    "max(jumsu), min(jumsu) "
   ]
  },
  {
   "cell_type": "code",
   "execution_count": 67,
   "id": "25995c58",
   "metadata": {},
   "outputs": [
    {
     "name": "stdout",
     "output_type": "stream",
     "text": [
      "소\n",
      "호랑이\n",
      "용\n",
      "뱀\n"
     ]
    }
   ],
   "source": [
    "#(8) 다음 리스트 중에서 \"쥐\"와 \"토끼\" 제외한 나머지를 출력하세요.\n",
    "str_list = [\"쥐\", \"소\", \"호랑이\", \"토끼\", \"용\", \"뱀\"]\n",
    "for x in str_list:\n",
    "    if x not in [\"쥐\", \"토끼\"]:\n",
    "        print(x)"
   ]
  },
  {
   "cell_type": "code",
   "execution_count": 68,
   "id": "9534577b",
   "metadata": {},
   "outputs": [
    {
     "name": "stdout",
     "output_type": "stream",
     "text": [
      "소\n",
      "호랑이\n",
      "용\n",
      "뱀\n"
     ]
    }
   ],
   "source": [
    "for x in str_list:\n",
    "    if x in [\"쥐\", \"토끼\"]:\n",
    "        continue\n",
    "    print(x)"
   ]
  },
  {
   "cell_type": "code",
   "execution_count": 65,
   "id": "cbc91454",
   "metadata": {},
   "outputs": [
    {
     "name": "stdout",
     "output_type": "stream",
     "text": [
      "['쥐', '호랑이', '토끼', '뱀']\n"
     ]
    }
   ],
   "source": [
    "# 강사님이 내주신 것은 리스트 자체를 바꾸는 것이 아니라 해당 값 제외 출력만을 하라는 것.\n",
    "\n",
    "for x in str_list:\n",
    "    if x not in [\"쥐\", \"토끼\"]:\n",
    "        str_list.remove(x)        \n",
    "\n",
    "print(str_list)"
   ]
  },
  {
   "cell_type": "code",
   "execution_count": 72,
   "id": "9880f235",
   "metadata": {},
   "outputs": [
    {
     "name": "stdout",
     "output_type": "stream",
     "text": [
      "단을 입력하시오 :9\n",
      "9 x 1 = 9\n",
      "9 x 2 = 18\n",
      "9 x 3 = 27\n",
      "9 x 4 = 36\n",
      "9 x 5 = 45\n",
      "9 x 6 = 54\n",
      "9 x 7 = 63\n",
      "9 x 8 = 72\n",
      "9 x 9 = 81\n"
     ]
    }
   ],
   "source": [
    "#(9) 사용자로부터 정수를 입력받아 그 단의 구구단을 출력하시오. \n",
    "# ex) 단을 입력하시오 : 2  \n",
    "# 2 x 1 = 2\n",
    "# 2 x 2 = 4\n",
    "#..\n",
    "# 2 x 9 = 18\n",
    "\n",
    "x = int(input(\"단을 입력하시오 :\"))\n",
    "\n",
    "for i in range(1,10):\n",
    "    # print(x,\"x\",i,\"=\",i*x)\n",
    "    print(f\"{x} x {i} = {x*i}\")"
   ]
  },
  {
   "cell_type": "code",
   "execution_count": 31,
   "id": "6c046188",
   "metadata": {},
   "outputs": [
    {
     "name": "stdout",
     "output_type": "stream",
     "text": [
      "[20, 60, 140, 10, 240, 1400, 2, 70]\n"
     ]
    }
   ],
   "source": [
    "#컴프리헨션\n",
    "\n",
    "#(10) 다음 리스트가 가진 값에 두배(* 2)를 가지는 새로운 리스트를 만드시오. (리스트 컴프리헨션 이용)\n",
    "lst = [10, 30, 70, 5, 120, 700, 1, 35]\n",
    "\n",
    "new_lst = [i*2 for i in lst]\n",
    "print(new_lst)\n"
   ]
  },
  {
   "cell_type": "code",
   "execution_count": 74,
   "id": "093469ae",
   "metadata": {},
   "outputs": [
    {
     "data": {
      "text/plain": [
       "[(10, 100),\n",
       " (30, 300),\n",
       " (70, 700),\n",
       " (5, 50),\n",
       " (5, 50),\n",
       " (120, 1200),\n",
       " (700, 7000),\n",
       " (1, 10),\n",
       " (35, 350),\n",
       " (35, 350)]"
      ]
     },
     "execution_count": 74,
     "metadata": {},
     "output_type": "execute_result"
    }
   ],
   "source": [
    "#(11) 다음 리스트가 가진 값에 10배의 값을 가지는 값을 (원래값, 10배값) 의 튜플 묶음으로 가지는 리스트를 만드시오 (리스트 컴프리헨션 이용)\n",
    "# Ex) [(10,100), (30,300), .., (35, 350)]\n",
    "lst = [10, 30, 70, 5, 5, 120, 700, 1, 35, 35]\n",
    "\n",
    "new_dic = [(i,i*10) for i in lst]\n",
    "new_dic\n",
    "\n",
    "# dic은 키가 중복된 값이 나올 수 있기 때문에 좋지 않은 방법이다."
   ]
  },
  {
   "cell_type": "code",
   "execution_count": 40,
   "id": "e2444249",
   "metadata": {},
   "outputs": [
    {
     "name": "stdout",
     "output_type": "stream",
     "text": [
      "[3, 33, 21, 33, 60, 120]\n"
     ]
    }
   ],
   "source": [
    "#(12) 다음 리스트가 가진 값들 중 3의 배수만 가지는 리스트를 만드시오. (리스트 컴프리헨션 이용)\n",
    "lst2 = [ 3, 20, 33, 21, 33, 8, 11, 10, 7, 17, 60, 120, 2]\n",
    "\n",
    "new_lst = [i for i in lst2 if (i%3)==0 ]\n",
    "print(new_lst)\n"
   ]
  },
  {
   "cell_type": "code",
   "execution_count": 75,
   "id": "d9502cc1",
   "metadata": {},
   "outputs": [
    {
     "name": "stdout",
     "output_type": "stream",
     "text": [
      "['a.exe', 'function.exe', 'b.exe', 'run.exe']\n"
     ]
    }
   ],
   "source": [
    "#(13) 다음 파일이름들을 담은 리스트에서 확장자가 exe인 파일만 골라서 새로운 리스트에 담으시오.(string의 endswith()함수 이용)\n",
    "file_name=[\"test.txt\", \"a.exe\", \"jupyter.bat\", \"function.exe\", \"b.exe\", \"cat.jpg\", \"dog.png\", \"run.exe\", \"i.dll\"]\n",
    "\n",
    "new_lst = [i for i in file_name if i.endswith(\".exe\")]\n",
    "print(new_lst)"
   ]
  },
  {
   "cell_type": "code",
   "execution_count": 76,
   "id": "47811066",
   "metadata": {},
   "outputs": [
    {
     "name": "stdout",
     "output_type": "stream",
     "text": [
      "[('mystroy.txt', 11), ('jupyter.bat', 11), ('function.exe', 12)]\n"
     ]
    }
   ],
   "source": [
    "#(14) 다음 중 10글자 이상인 파일명(확장자포함)만 가지는 리스트를 만드시오.\n",
    "file_name=[\"mystroy.txt\", \"a.exe\", \"jupyter.bat\", \"function.exe\", \"b.exe\", \"cat.jpg\", \"dog.png\", \"run.exe\", \"i.dll\"]\n",
    "\n",
    "new_lst = [(i, len(i))for i in file_name if len(i)>=10 ]\n",
    "print(new_lst)\n",
    "\n",
    "# 반환하는 값을 튜플 괄호 쳐서 반환가능하다."
   ]
  },
  {
   "cell_type": "code",
   "execution_count": 79,
   "id": "70d79fca",
   "metadata": {},
   "outputs": [
    {
     "name": "stdout",
     "output_type": "stream",
     "text": [
      "['c', 'g', 'h', 'k']\n",
      "['c', 'g', 'h', 'k']\n"
     ]
    }
   ],
   "source": [
    "#(15) 다음 리스트에서 소문자만 가지는 새로운 리스트를 만드시오.\n",
    "str_list = [\"A\", \"B\", \"c\", \"D\", \"E\", \"F\", \"g\", \"h\", \"I\", \"J\", \"k\"]\n",
    "\n",
    "new_lst = [i for i in str_list if i.islower()]\n",
    "print(new_lst)\n",
    "\n",
    "new_lst = [i for i in str_list if i == i.lower() ]\n",
    "print(new_lst)"
   ]
  },
  {
   "cell_type": "code",
   "execution_count": 77,
   "id": "5cd426e0",
   "metadata": {},
   "outputs": [
    {
     "data": {
      "text/plain": [
       "(False, True)"
      ]
     },
     "execution_count": 77,
     "metadata": {},
     "output_type": "execute_result"
    }
   ],
   "source": [
    "# 한글자에 대해 대소문자를 알 수 있는 함수가 있다. bool로\n",
    "\"A\".islower(), 'a'.islower() "
   ]
  },
  {
   "cell_type": "code",
   "execution_count": 78,
   "id": "446b108e",
   "metadata": {},
   "outputs": [
    {
     "data": {
      "text/plain": [
       "(True, False)"
      ]
     },
     "execution_count": 78,
     "metadata": {},
     "output_type": "execute_result"
    }
   ],
   "source": [
    "'A'.isupper(), \"a\".isupper()"
   ]
  },
  {
   "cell_type": "code",
   "execution_count": null,
   "id": "518066e4",
   "metadata": {},
   "outputs": [],
   "source": []
  }
 ],
 "metadata": {
  "kernelspec": {
   "display_name": "Python 3 (ipykernel)",
   "language": "python",
   "name": "python3"
  },
  "language_info": {
   "codemirror_mode": {
    "name": "ipython",
    "version": 3
   },
   "file_extension": ".py",
   "mimetype": "text/x-python",
   "name": "python",
   "nbconvert_exporter": "python",
   "pygments_lexer": "ipython3",
   "version": "3.9.7"
  }
 },
 "nbformat": 4,
 "nbformat_minor": 5
}
