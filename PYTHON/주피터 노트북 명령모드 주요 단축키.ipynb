{
 "cells": [
  {
   "cell_type": "markdown",
   "id": "fa5bd64f",
   "metadata": {},
   "source": [
    "## <명령모드 주요 단축키>\n",
    "\n",
    "셀 편집모드에서 명령모드로 : esc\n",
    "\n",
    "저장하고 싶을 때 : esc 누르고() s 또는 ctrl + s\n",
    "\n",
    "* 명령모드에서 명령키\n",
    "\n",
    "셀 추가하라고 명령하는 키 : 위 a 아래 b  (그리고 만들어진 셀로 간다.)\n",
    "\n",
    "셀 삭제하라고 명령하는 키 : x\n",
    "\n",
    "되돌리기 : z\n",
    "\n",
    "셀 카피 : c 아래 셀 붙이기 : v 위 셀에 붙이기 : shift + v\n",
    "\n",
    "마크다운문서 셀 : m 코드작성 셀 : y\n",
    "\n",
    "## <마크다운>\n",
    "\n",
    "* 헤더\n",
    "\n",
    "# 대제목\n",
    "## 중제목\n",
    "### 소제목\n",
    "\n",
    "* 마크다운에 없는 문법은 HTML 문법을 사용하면 된다.\n",
    "\n",
    "- 항목이 생김.\n",
    "    - tap키를 누르면 하위로 들어감.\n",
    "    \n",
    "1. 순서가 있는\n",
    "2. 목록을 만들어준다.\n",
    "1. 사실 중간에 1써도 실행하면 순서대로 3됨.\n",
    "\n",
    "*기울기*  _기울기_\n",
    "\n",
    "**두개 하면 볼드체** __볼드체__\n",
    "\n",
    "- 주피터 노트북 마크다운에서 지원 안 하는 것도 있다. 기본은 지원하는데, 깃허브 마크다운은 거의 되는데 확장된 문법 안 되는 것도 있다.\n",
    "\n",
    "- 이미지, 그래프 넣을 수 있다. 데이터 과학, 보고서 작성 시 편리\n",
    "\n",
    "- 아래 셀에 코드도 작성 가능하기에 편리한 것."
   ]
  },
  {
   "cell_type": "code",
   "execution_count": null,
   "id": "b81b0cbc",
   "metadata": {},
   "outputs": [],
   "source": []
  },
  {
   "cell_type": "code",
   "execution_count": null,
   "id": "1cbbe5f3",
   "metadata": {},
   "outputs": [],
   "source": []
  }
 ],
 "metadata": {
  "kernelspec": {
   "display_name": "Python 3 (ipykernel)",
   "language": "python",
   "name": "python3"
  },
  "language_info": {
   "codemirror_mode": {
    "name": "ipython",
    "version": 3
   },
   "file_extension": ".py",
   "mimetype": "text/x-python",
   "name": "python",
   "nbconvert_exporter": "python",
   "pygments_lexer": "ipython3",
   "version": "3.9.7"
  }
 },
 "nbformat": 4,
 "nbformat_minor": 5
}
