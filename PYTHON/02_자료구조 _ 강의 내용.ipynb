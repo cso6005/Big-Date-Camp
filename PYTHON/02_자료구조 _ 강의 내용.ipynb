{
 "cells": [
  {
   "cell_type": "markdown",
   "id": "c9fb409e",
   "metadata": {},
   "source": [
    "제목 만들 때 코드 명령모드에서 1 누르면 제목 생김 1,2,3,4, ... 점점 소제목"
   ]
  },
  {
   "cell_type": "markdown",
   "id": "72dfc297",
   "metadata": {},
   "source": [
    "# 1. 리스트\n",
    "- 순서가 있는 자료구조\n",
    "    - 원소들을 index로 관리한다.\n",
    "- 생성\n",
    "    - l=[값, 값, 값,]"
   ]
  },
  {
   "cell_type": "code",
   "execution_count": 23,
   "id": "74fa5533",
   "metadata": {},
   "outputs": [],
   "source": [
    "l1=[1,2,10,40]\n",
    "l2=[10.5,'abc',True, None, 30]"
   ]
  },
  {
   "cell_type": "code",
   "execution_count": 7,
   "id": "6bad20aa",
   "metadata": {},
   "outputs": [
    {
     "name": "stdout",
     "output_type": "stream",
     "text": [
      "1 40\n",
      "10 True\n"
     ]
    }
   ],
   "source": [
    "#  조회 : indexing slicing\n",
    "\n",
    "# indexing\n",
    "print(l1[0], l1[3])\n",
    "print(l2[0], l2[3])"
   ]
  },
  {
   "cell_type": "code",
   "execution_count": 8,
   "id": "f037d1fb",
   "metadata": {
    "collapsed": true
   },
   "outputs": [
    {
     "ename": "IndexError",
     "evalue": "list index out of range",
     "output_type": "error",
     "traceback": [
      "\u001b[1;31m---------------------------------------------------------------------------\u001b[0m",
      "\u001b[1;31mIndexError\u001b[0m                                Traceback (most recent call last)",
      "\u001b[1;32m~\\AppData\\Local\\Temp/ipykernel_8480/2138586888.py\u001b[0m in \u001b[0;36m<module>\u001b[1;34m\u001b[0m\n\u001b[0;32m      1\u001b[0m \u001b[1;31m# 없는 index 조회 -> indexerror 에러 발생\u001b[0m\u001b[1;33m\u001b[0m\u001b[1;33m\u001b[0m\u001b[0m\n\u001b[1;32m----> 2\u001b[1;33m \u001b[0ml1\u001b[0m\u001b[1;33m[\u001b[0m\u001b[1;36m10\u001b[0m\u001b[1;33m]\u001b[0m\u001b[1;33m\u001b[0m\u001b[1;33m\u001b[0m\u001b[0m\n\u001b[0m",
      "\u001b[1;31mIndexError\u001b[0m: list index out of range"
     ]
    }
   ],
   "source": [
    "# 없는 index 조회 -> indexerror 에러 발생\n",
    "l1[10]"
   ]
  },
  {
   "cell_type": "code",
   "execution_count": 9,
   "id": "3ad8f36b",
   "metadata": {},
   "outputs": [
    {
     "name": "stdout",
     "output_type": "stream",
     "text": [
      "l1 원소 개수 : 4\n",
      "ㅣ2 원소 개수 : 6\n"
     ]
    }
   ],
   "source": [
    "# index 내의 원소 개수 조회\n",
    "print(\"l1 원소 개수 :\", len(l1))\n",
    "print(\"l2 원소 개수 :\", len(l2))"
   ]
  },
  {
   "cell_type": "code",
   "execution_count": 15,
   "id": "9dbd57bb",
   "metadata": {},
   "outputs": [
    {
     "name": "stdout",
     "output_type": "stream",
     "text": [
      "[True, None, 30]\n",
      "[10.5, 'abc', True]\n",
      "[None, 30]\n",
      "[10.5, True, 30]\n"
     ]
    }
   ],
   "source": [
    "# slicing 마지막 인데스 빠지는 것 실수하지 않기\n",
    "print(l2[2:5])\n",
    "print(l2[:3])\n",
    "print(l2[3:])\n",
    "print(l2[::2])"
   ]
  },
  {
   "cell_type": "code",
   "execution_count": 24,
   "id": "a3aba61c",
   "metadata": {},
   "outputs": [
    {
     "name": "stdout",
     "output_type": "stream",
     "text": [
      "[10.5, 'abc', True, None, 30]\n",
      "[100, 'abc', True, None, 30]\n",
      "[100, 'abc', True, None, '가나다']\n"
     ]
    }
   ],
   "source": [
    "# 리스트는 원소를 변경할 수 있다. 변경 -> 대입연산\n",
    "print(l2)\n",
    "l2[0] = 100\n",
    "print(l2)\n",
    "l2[4] = '가나다'\n",
    "print(l2)"
   ]
  },
  {
   "cell_type": "code",
   "execution_count": 31,
   "id": "e6678811",
   "metadata": {},
   "outputs": [
    {
     "data": {
      "text/plain": [
       "[1, 2, 3, 4, 5, 5, 4, 5, None, '가나다']"
      ]
     },
     "execution_count": 31,
     "metadata": {},
     "output_type": "execute_result"
    }
   ],
   "source": [
    "# slicing을 이용하면 지정한 범위의 원소들을 한번에 바꿀 수 있다.\n",
    "\n",
    "l2[:3] = [1,2,3,4,5] # 0 ~ 2 index의 값들을 1,2,3,4,5 \n",
    "\n",
    "l2"
   ]
  },
  {
   "cell_type": "code",
   "execution_count": 33,
   "id": "1d16115b",
   "metadata": {},
   "outputs": [
    {
     "data": {
      "text/plain": [
       "[1, 2, None, '가나다']"
      ]
     },
     "execution_count": 33,
     "metadata": {},
     "output_type": "execute_result"
    }
   ],
   "source": [
    "# 만약 중간에 삭제하고 싶다면?\n",
    "# 특정 범위의 원소들을 삭제\n",
    "l2[2:5] = [] \n",
    "l2"
   ]
  },
  {
   "cell_type": "code",
   "execution_count": 34,
   "id": "da60279a",
   "metadata": {},
   "outputs": [
    {
     "data": {
      "text/plain": [
       "[2, None, '가나다']"
      ]
     },
     "execution_count": 34,
     "metadata": {},
     "output_type": "execute_result"
    }
   ],
   "source": [
    "# 하나의 원소만 삭제 : del 명령어 사용\n",
    "del l2[0]\n",
    "l2"
   ]
  },
  {
   "cell_type": "markdown",
   "id": "721b20e9",
   "metadata": {},
   "source": [
    "**리스트를 포함한 자료구조도 값이다.**\n",
    "- 리스트(자료구조)에 다른 자료구조들을 원소로 추가할 수 있다.\n"
   ]
  },
  {
   "cell_type": "code",
   "execution_count": 40,
   "id": "cf1e994d",
   "metadata": {},
   "outputs": [
    {
     "name": "stdout",
     "output_type": "stream",
     "text": [
      "[1, 2]\n",
      "2\n",
      "4\n"
     ]
    }
   ],
   "source": [
    "# l3[0] = [1,2] 반환\n",
    "l3 =[[1,2], [3,4],[5,6]] # 내부적으로 참조관계\n",
    "print(l3[0])\n",
    "print(l3[0][1])\n",
    "\n",
    "l3[2][0] = 4\n",
    "print(l3[2][0])"
   ]
  },
  {
   "cell_type": "code",
   "execution_count": 43,
   "id": "baffc83c",
   "metadata": {},
   "outputs": [
    {
     "name": "stdout",
     "output_type": "stream",
     "text": [
      "4\n",
      "60\n"
     ]
    }
   ],
   "source": [
    "# 괄호 복잡할 때 엔터\n",
    "l4 =[\n",
    "    [\n",
    "        [1,2], [3,4], [4,6]\n",
    "    ],\n",
    "    [\n",
    "        [10,20], [30,40], [50,60]\n",
    "    ]\n",
    "]\n",
    "\n",
    "print(l4[0][1][1])\n",
    "print(l4[1][2][1])"
   ]
  },
  {
   "cell_type": "markdown",
   "id": "6870c705",
   "metadata": {},
   "source": [
    "### 리스트 연산자\n",
    "1. 리스트 + 리스트 : 두 리스트를 합친 새로운 리스트 반환\n",
    "2. 리스트 * 정수 : 리스트를 정수만큼 반복해서 합친 새로운 리스트를 반환\n",
    "3. 값 in 리스트, 값 not in 리스트 : 리스트 안에 값이 있는지(in), 없는지(not in) bool 값으로 반환"
   ]
  },
  {
   "cell_type": "code",
   "execution_count": 44,
   "id": "89ce1332",
   "metadata": {},
   "outputs": [
    {
     "name": "stdout",
     "output_type": "stream",
     "text": [
      "[1, 2, 3, 10, 20, 30]\n"
     ]
    }
   ],
   "source": [
    "#1\n",
    "l1 = [1,2,3]\n",
    "l2 = [10,20,30]\n",
    "l3 = l1 + l2\n",
    "print(l3)"
   ]
  },
  {
   "cell_type": "code",
   "execution_count": 45,
   "id": "f976a4b1",
   "metadata": {},
   "outputs": [
    {
     "name": "stdout",
     "output_type": "stream",
     "text": [
      "[1, 2, 3, 1, 2, 3, 1, 2, 3]\n"
     ]
    }
   ],
   "source": [
    "#2\n",
    "l4 = l1*3\n",
    "print(l4)"
   ]
  },
  {
   "cell_type": "code",
   "execution_count": 48,
   "id": "29798335",
   "metadata": {},
   "outputs": [
    {
     "name": "stdout",
     "output_type": "stream",
     "text": [
      "False\n"
     ]
    },
    {
     "data": {
      "text/plain": [
       "True"
      ]
     },
     "execution_count": 48,
     "metadata": {},
     "output_type": "execute_result"
    }
   ],
   "source": [
    "#3\n",
    "print(10 in l1)\n",
    "10 not in l1"
   ]
  },
  {
   "cell_type": "markdown",
   "id": "a36b4b5b",
   "metadata": {},
   "source": [
    "### 리스트 대입\n",
    "여러개의 변수에 리스트의 값들을 한번에 대입"
   ]
  },
  {
   "cell_type": "code",
   "execution_count": 51,
   "id": "66b8142b",
   "metadata": {
    "scrolled": true
   },
   "outputs": [
    {
     "name": "stdout",
     "output_type": "stream",
     "text": [
      "1\n",
      "6\n",
      "4\n"
     ]
    }
   ],
   "source": [
    "# 리스트 대입\n",
    "# 변수와 리스트 원소의 개수가 같아야 한다.\n",
    "a, b, c = [1,2,3] #변수에 정수값 대입.\n",
    "print(a)\n",
    "print(a+b+c)\n",
    "\n",
    "# 튜플 대입 변수에 선언하면서 대입할 때는 굳이 대괄호 치기 귀찮으니깐 이 방법으로\n",
    "# 함수 때 리스트 대입을 써야 한다.\n",
    "# 딕셔너리 set 대입은 없다.\n",
    "\n",
    "d, e, f = 4,5,6\n",
    "print(d)"
   ]
  },
  {
   "cell_type": "markdown",
   "id": "a2b68cb2",
   "metadata": {},
   "source": [
    "### list 주요 함수"
   ]
  },
  {
   "cell_type": "code",
   "execution_count": 52,
   "id": "0d837633",
   "metadata": {},
   "outputs": [
    {
     "name": "stdout",
     "output_type": "stream",
     "text": [
      "원소개수: 3\n"
     ]
    }
   ],
   "source": [
    "print(\"원소개수:\", len(l1))"
   ]
  },
  {
   "cell_type": "code",
   "execution_count": 53,
   "id": "95c0adcc",
   "metadata": {},
   "outputs": [
    {
     "data": {
      "text/plain": [
       "[1, 2, 3, 10]"
      ]
     },
     "execution_count": 53,
     "metadata": {},
     "output_type": "execute_result"
    }
   ],
   "source": [
    "# 마지막 인덱스에 원하는 원소 추가.\n",
    "l1.append(10) #list.append(추가할 값)\n",
    "l1"
   ]
  },
  {
   "cell_type": "code",
   "execution_count": 54,
   "id": "73b8dd35",
   "metadata": {},
   "outputs": [
    {
     "data": {
      "text/plain": [
       "[1, 2, 3, 10, 3, 4, 5]"
      ]
     },
     "execution_count": 54,
     "metadata": {},
     "output_type": "execute_result"
    }
   ],
   "source": [
    "\n",
    "# extend는 리스트 자체에 더하는 것\n",
    "#l1 리스트에 추가. l1 리스트는 바뀜.\n",
    "\n",
    "# + 는 더한 것에 대한 새로운 리스트가 반환되는 것이기에 이 더한 것을 변수에 다시 넣어줘야 함. 대입.\n",
    "# l1과 []을 합친 새로운 리스트가 반환(l1은 안 바뀐다.)\n",
    "\n",
    "l1.extend([3,4,5])\n",
    "l1"
   ]
  },
  {
   "cell_type": "code",
   "execution_count": 58,
   "id": "81db2d14",
   "metadata": {},
   "outputs": [
    {
     "name": "stdout",
     "output_type": "stream",
     "text": [
      "[1, 2, 3, 10, 3, 4, 5]\n",
      "[1, 2, 3, 3, 4, 5, 10]\n"
     ]
    }
   ],
   "source": [
    "# 정렬\n",
    "# 원본 리스트를 변경하지 않고 정렬한 새로운 리스트를 반환\n",
    "# 원본은 그대로이다. l1 출력하면 기존대로\n",
    "# 정렬한 것을 쓰고 싶다면 새로운 변수에 대입.\n",
    "\n",
    "sorted(l1) # 오름차순\n",
    "sorted(l1, reverse=True) # 내림차순\n",
    "x = sorted(l1)\n",
    "print(l1)\n",
    "print(x)"
   ]
  },
  {
   "cell_type": "code",
   "execution_count": 61,
   "id": "bd0f75ee",
   "metadata": {},
   "outputs": [
    {
     "data": {
      "text/plain": [
       "[10, 5, 4, 3, 3, 2, 1]"
      ]
     },
     "execution_count": 61,
     "metadata": {},
     "output_type": "execute_result"
    }
   ],
   "source": [
    "# 정렬 - 리스트.sort() : 원본 리스트 자체를 정렬한다. 원본이 바뀜.\n",
    "l1.sort() #오름차순\n",
    "l1\n",
    "l1.sort(reverse=True) #내림차순\n",
    "l1"
   ]
  },
  {
   "cell_type": "code",
   "execution_count": 63,
   "id": "070a37d8",
   "metadata": {},
   "outputs": [
    {
     "data": {
      "text/plain": [
       "[10, 5, 4, '가나다', '가나다', 3, 3, 2, 1]"
      ]
     },
     "execution_count": 63,
     "metadata": {},
     "output_type": "execute_result"
    }
   ],
   "source": [
    "l1.insert(3, '가나다') # index 3에 '가나다'를 삽입. 기존 원소 뒤로 밀림.\n",
    "l1 "
   ]
  },
  {
   "cell_type": "code",
   "execution_count": 64,
   "id": "84f78e08",
   "metadata": {},
   "outputs": [
    {
     "data": {
      "text/plain": [
       "[5, 4, '가나다', '가나다', 3, 3, 2, 1]"
      ]
     },
     "execution_count": 64,
     "metadata": {},
     "output_type": "execute_result"
    }
   ],
   "source": [
    "# index로 원소 삭제 : del\n",
    "del l1[0]\n",
    "l1"
   ]
  },
  {
   "cell_type": "code",
   "execution_count": 67,
   "id": "5e9a57f3",
   "metadata": {},
   "outputs": [
    {
     "ename": "ValueError",
     "evalue": "list.remove(x): x not in list",
     "output_type": "error",
     "traceback": [
      "\u001b[1;31m---------------------------------------------------------------------------\u001b[0m",
      "\u001b[1;31mValueError\u001b[0m                                Traceback (most recent call last)",
      "\u001b[1;32m~\\AppData\\Local\\Temp/ipykernel_8480/62558293.py\u001b[0m in \u001b[0;36m<module>\u001b[1;34m\u001b[0m\n\u001b[0;32m      1\u001b[0m \u001b[1;31m# 값으로 삭제 : remove\u001b[0m\u001b[1;33m\u001b[0m\u001b[1;33m\u001b[0m\u001b[0m\n\u001b[1;32m----> 2\u001b[1;33m \u001b[0ml1\u001b[0m\u001b[1;33m.\u001b[0m\u001b[0mremove\u001b[0m\u001b[1;33m(\u001b[0m\u001b[1;34m'가나다'\u001b[0m\u001b[1;33m)\u001b[0m\u001b[1;33m\u001b[0m\u001b[1;33m\u001b[0m\u001b[0m\n\u001b[0m\u001b[0;32m      3\u001b[0m \u001b[0ml1\u001b[0m\u001b[1;33m\u001b[0m\u001b[1;33m\u001b[0m\u001b[0m\n",
      "\u001b[1;31mValueError\u001b[0m: list.remove(x): x not in list"
     ]
    }
   ],
   "source": [
    "# 값으로 삭제 : remove\n",
    "l1.remove('가나다')\n",
    "l1"
   ]
  },
  {
   "cell_type": "code",
   "execution_count": 69,
   "id": "de820fcb",
   "metadata": {},
   "outputs": [
    {
     "data": {
      "text/plain": [
       "[1.2, 2, 10, 10]"
      ]
     },
     "execution_count": 69,
     "metadata": {},
     "output_type": "execute_result"
    }
   ],
   "source": [
    "l4 = [1.2,10, 2, 10, 10]\n",
    "l4.remove(10) # 값이 여러개 일 경우 첫번째 값만 삭제\n",
    "l4"
   ]
  },
  {
   "cell_type": "code",
   "execution_count": 71,
   "id": "6192afcd",
   "metadata": {},
   "outputs": [
    {
     "data": {
      "text/plain": [
       "1"
      ]
     },
     "execution_count": 71,
     "metadata": {},
     "output_type": "execute_result"
    }
   ],
   "source": [
    "l1.count(1) # 값 10이 몇 개인지"
   ]
  },
  {
   "cell_type": "code",
   "execution_count": 72,
   "id": "3966b042",
   "metadata": {},
   "outputs": [
    {
     "data": {
      "text/plain": [
       "[]"
      ]
     },
     "execution_count": 72,
     "metadata": {},
     "output_type": "execute_result"
    }
   ],
   "source": [
    "l1.clear() # 모든 원소 다 삭제\n",
    "l1"
   ]
  },
  {
   "cell_type": "markdown",
   "id": "8ba3e21c",
   "metadata": {},
   "source": [
    "# 2. 튜플(Tuple)\n",
    "- 리스트 처럼 순서가 있는 자료구조\n",
    "    - index (양수, 음수)로 원소를 관리\n",
    "    - 원소를 변경할 수 없다. (추가, 삭제, 변경이 안된다.)\n",
    "- 생성"
   ]
  },
  {
   "cell_type": "code",
   "execution_count": 75,
   "id": "3702d389",
   "metadata": {},
   "outputs": [
    {
     "data": {
      "text/plain": [
       "(10, 20, 30, 40, 50)"
      ]
     },
     "execution_count": 75,
     "metadata": {},
     "output_type": "execute_result"
    }
   ],
   "source": [
    "t1 = (1, 2, 3, 4, 5) # 소괄호를 묶는다.\n",
    "t2 = 10, 20, 30, 40, 50 # 소괄호 생략 가능.\n",
    "t1\n",
    "t2"
   ]
  },
  {
   "cell_type": "code",
   "execution_count": 77,
   "id": "56d0bab9",
   "metadata": {},
   "outputs": [
    {
     "data": {
      "text/plain": [
       "(10, '가', True)"
      ]
     },
     "execution_count": 77,
     "metadata": {},
     "output_type": "execute_result"
    }
   ],
   "source": [
    "t3 = 10, '가', True # 서로 다른 타입의 값 넣을 수 있다.\n",
    "t3"
   ]
  },
  {
   "cell_type": "code",
   "execution_count": 79,
   "id": "a3668746",
   "metadata": {},
   "outputs": [
    {
     "data": {
      "text/plain": [
       "(100, int, tuple)"
      ]
     },
     "execution_count": 79,
     "metadata": {},
     "output_type": "execute_result"
    }
   ],
   "source": [
    "t4 = (100) # t4 = 100 그냥 대입. int. 튜플 아님.\n",
    "t4, type(t4), type(t3)\n",
    "# 변수 , 써서 한 줄로 썼음. 이때 출력 메시지 지금 괄호로 출력됨. 이것도 튜플임."
   ]
  },
  {
   "cell_type": "code",
   "execution_count": 81,
   "id": "042354f5",
   "metadata": {},
   "outputs": [
    {
     "name": "stdout",
     "output_type": "stream",
     "text": [
      "(100,) (100,)\n",
      "<class 'tuple'> <class 'tuple'>\n"
     ]
    }
   ],
   "source": [
    "t5 = (100,) # 원소가 하나일 경우 뒤에 , 를 붙인다.\n",
    "t6 = 100,\n",
    "print(t5, t6)\n",
    "print(type(t5), type(t6))"
   ]
  },
  {
   "cell_type": "markdown",
   "id": "4dd2bef6",
   "metadata": {},
   "source": [
    "### 튜플대입"
   ]
  },
  {
   "cell_type": "code",
   "execution_count": 83,
   "id": "ca0a9181",
   "metadata": {},
   "outputs": [
    {
     "name": "stdout",
     "output_type": "stream",
     "text": [
      "홍길동 30 서울\n"
     ]
    }
   ],
   "source": [
    "name, age, address = ('홍길동', 30, '서울') # 튜플 대입\n",
    "name, age, address = ['홍길동', 30, '서울'] # 리스트 대입\n",
    "print(name, age, address)"
   ]
  },
  {
   "cell_type": "code",
   "execution_count": 85,
   "id": "2cc5a44b",
   "metadata": {},
   "outputs": [
    {
     "name": "stdout",
     "output_type": "stream",
     "text": [
      "이순신 32 부산\n"
     ]
    }
   ],
   "source": [
    "name, age, address = '이순신', 32, '부산' # 튜플 대입\n",
    "print(name, age, address)"
   ]
  },
  {
   "cell_type": "markdown",
   "id": "9e8fc214",
   "metadata": {},
   "source": [
    "### indexing & slicing\n",
    "- 조회만 가능하고 원소를 변경할 수 없다.\n"
   ]
  },
  {
   "cell_type": "code",
   "execution_count": 87,
   "id": "f714fdbc",
   "metadata": {},
   "outputs": [
    {
     "data": {
      "text/plain": [
       "(100, 20, 8)"
      ]
     },
     "execution_count": 87,
     "metadata": {},
     "output_type": "execute_result"
    }
   ],
   "source": [
    "t7 = 100, 4, 8, 20, 20, 1, 8\n",
    "t7[0], t7[3], t7[6]"
   ]
  },
  {
   "cell_type": "code",
   "execution_count": 88,
   "id": "79eb8165",
   "metadata": {
    "collapsed": true
   },
   "outputs": [
    {
     "ename": "TypeError",
     "evalue": "'tuple' object does not support item assignment",
     "output_type": "error",
     "traceback": [
      "\u001b[1;31m---------------------------------------------------------------------------\u001b[0m",
      "\u001b[1;31mTypeError\u001b[0m                                 Traceback (most recent call last)",
      "\u001b[1;32m~\\AppData\\Local\\Temp/ipykernel_8480/2606818436.py\u001b[0m in \u001b[0;36m<module>\u001b[1;34m\u001b[0m\n\u001b[1;32m----> 1\u001b[1;33m \u001b[0mt7\u001b[0m\u001b[1;33m[\u001b[0m\u001b[1;36m0\u001b[0m\u001b[1;33m]\u001b[0m \u001b[1;33m=\u001b[0m \u001b[1;36m40\u001b[0m\u001b[1;33m\u001b[0m\u001b[1;33m\u001b[0m\u001b[0m\n\u001b[0m",
      "\u001b[1;31mTypeError\u001b[0m: 'tuple' object does not support item assignment"
     ]
    }
   ],
   "source": [
    "# 인덱스 원소 변경 안됨.\n",
    "t7[0] = 40"
   ]
  },
  {
   "cell_type": "code",
   "execution_count": 89,
   "id": "aaf20707",
   "metadata": {},
   "outputs": [
    {
     "data": {
      "text/plain": [
       "(100, 8, 20, 8)"
      ]
     },
     "execution_count": 89,
     "metadata": {},
     "output_type": "execute_result"
    }
   ],
   "source": [
    "# 슬라이싱 조회는 됨.\n",
    "t7[::2]"
   ]
  },
  {
   "cell_type": "code",
   "execution_count": 90,
   "id": "3697f044",
   "metadata": {},
   "outputs": [
    {
     "data": {
      "text/plain": [
       "(8, 1, 20, 20, 8, 4, 100)"
      ]
     },
     "execution_count": 90,
     "metadata": {},
     "output_type": "execute_result"
    }
   ],
   "source": [
    "t7[::-1] # 뒤에서 부터"
   ]
  },
  {
   "cell_type": "code",
   "execution_count": 91,
   "id": "dc76ba7f",
   "metadata": {},
   "outputs": [
    {
     "data": {
      "text/plain": [
       "20"
      ]
     },
     "execution_count": 91,
     "metadata": {},
     "output_type": "execute_result"
    }
   ],
   "source": [
    " t7[-3] # 음수 인덱스 조회"
   ]
  },
  {
   "cell_type": "markdown",
   "id": "df1d58f6",
   "metadata": {},
   "source": [
    "### 연산자"
   ]
  },
  {
   "cell_type": "code",
   "execution_count": 102,
   "id": "9fcb63ac",
   "metadata": {},
   "outputs": [
    {
     "data": {
      "text/plain": [
       "False"
      ]
     },
     "execution_count": 102,
     "metadata": {},
     "output_type": "execute_result"
    }
   ],
   "source": [
    "10 in t7\n",
    "8 in t7\n",
    "\n",
    "10 not in t7\n",
    "8 not in t7"
   ]
  },
  {
   "cell_type": "code",
   "execution_count": 97,
   "id": "938c7a0c",
   "metadata": {},
   "outputs": [
    {
     "data": {
      "text/plain": [
       "(1, 2, 3, 4, 5, 1, 2, 3, 4, 5)"
      ]
     },
     "execution_count": 97,
     "metadata": {},
     "output_type": "execute_result"
    }
   ],
   "source": [
    "t1+ t2\n",
    "t1 * 2"
   ]
  },
  {
   "cell_type": "code",
   "execution_count": 101,
   "id": "a3a9480c",
   "metadata": {},
   "outputs": [
    {
     "name": "stdout",
     "output_type": "stream",
     "text": [
      "(100, 4, 8, 20, 20, 1, 8)\n",
      "[1, 4, 8, 8, 20, 20, 100]\n"
     ]
    }
   ],
   "source": [
    "# sorted는 무조건 리스트로 반환하기에 튜플을 정렬하여 리스트로 반환함.\n",
    "# t7는 원본 데이터 그대로.\n",
    "x = sorted(t7)\n",
    "print(t7)\n",
    "print(x)"
   ]
  },
  {
   "cell_type": "markdown",
   "id": "4390fc67",
   "metadata": {},
   "source": [
    "# 3. dictionary, 사전\n",
    "- 데이터를 key:value 쌍(pair)로 모아서 관리하는 자료구조"
   ]
  },
  {
   "cell_type": "code",
   "execution_count": 142,
   "id": "8697c7e0",
   "metadata": {},
   "outputs": [
    {
     "name": "stdout",
     "output_type": "stream",
     "text": [
      "홍길동 이순신\n"
     ]
    }
   ],
   "source": [
    "# 생성\n",
    "# list는 순서가 중요하다. 인덱스로 조회하기에 이름 나이 주소 순서가 중요하다. 값을 조회할 때\n",
    "# 딕셔너리는 어차피 name 키 값으로 조회하기에 넣는 순서가 상관없다.\n",
    "# 변수마다 이름 나이 주소 나 이름 주소 나이 이렇게 순서를 다르게 넣어도 상관없는 것.\n",
    "\n",
    "person1 = {\"name\":\"홍길동\", \"age\":20, \"address\":\"서울\"}\n",
    "person2 = {\"age\": 30, \"name\":\"이순신\", \"address\":\"부산\"}\n",
    "print(person1['name'], person2['name']) # 값을 반환\n",
    "\n",
    "#get이든 []이든 pop이든 모두 특정 key를 통해 값을 반환.\n",
    "\n",
    "#슬라이싱은 없다. 순서가 없기에."
   ]
  },
  {
   "cell_type": "code",
   "execution_count": 143,
   "id": "571c8845",
   "metadata": {},
   "outputs": [
    {
     "data": {
      "text/plain": [
       "{'name': '박철웅', 'age': 20, 'address': '서울'}"
      ]
     },
     "execution_count": 143,
     "metadata": {},
     "output_type": "execute_result"
    }
   ],
   "source": [
    "# 값 변경. 있는 key에 값을 대입하면 변경이 된다.\n",
    "\n",
    "person1['name'] = '박철웅'\n",
    "person1"
   ]
  },
  {
   "cell_type": "code",
   "execution_count": 144,
   "id": "c9e61537",
   "metadata": {},
   "outputs": [
    {
     "data": {
      "text/plain": [
       "{'name': '박철웅', 'age': 20, 'address': '서울', 'tel': '010-111-1111'}"
      ]
     },
     "execution_count": 144,
     "metadata": {},
     "output_type": "execute_result"
    }
   ],
   "source": [
    "# 값 추가. 없는 key에 값을 대입하면 추가가 된다.\n",
    "person1['tel'] = '010-111-1111'\n",
    "person1"
   ]
  },
  {
   "cell_type": "code",
   "execution_count": 145,
   "id": "d95ba540",
   "metadata": {},
   "outputs": [
    {
     "ename": "KeyError",
     "evalue": "'email'",
     "output_type": "error",
     "traceback": [
      "\u001b[1;31m---------------------------------------------------------------------------\u001b[0m",
      "\u001b[1;31mKeyError\u001b[0m                                  Traceback (most recent call last)",
      "\u001b[1;32m~\\AppData\\Local\\Temp/ipykernel_8480/685817827.py\u001b[0m in \u001b[0;36m<module>\u001b[1;34m\u001b[0m\n\u001b[0;32m      1\u001b[0m \u001b[1;31m# 없는 key로 조회하면 keyError\u001b[0m\u001b[1;33m\u001b[0m\u001b[1;33m\u001b[0m\u001b[0m\n\u001b[1;32m----> 2\u001b[1;33m \u001b[0mperson1\u001b[0m\u001b[1;33m[\u001b[0m\u001b[1;34m\"email\"\u001b[0m\u001b[1;33m]\u001b[0m\u001b[1;33m\u001b[0m\u001b[1;33m\u001b[0m\u001b[0m\n\u001b[0m",
      "\u001b[1;31mKeyError\u001b[0m: 'email'"
     ]
    }
   ],
   "source": [
    "# 없는 key로 조회하면 keyError\n",
    "person1[\"email\"]"
   ]
  },
  {
   "cell_type": "code",
   "execution_count": 149,
   "id": "e27b3e0d",
   "metadata": {},
   "outputs": [
    {
     "name": "stdout",
     "output_type": "stream",
     "text": [
      "이순신\n",
      "없음\n"
     ]
    }
   ],
   "source": [
    "# dictionary.get(\"key\") : 조회. 위 그냥 []로 조회하는 것과 동일한데,\n",
    "# get함수로 조회할 때 없는 key 값을 조회하면 None.\n",
    "\n",
    "# 이때 None 대신 반환할 기본값을 설정할 수도 있다.\n",
    "# 없을 때 반환할 값을 설정 가능한 것.\n",
    "\n",
    "print(person2.get(\"name\"))\n",
    "v=person2.get('email')\n",
    "v=person2.get('email', \"없음\")\n",
    "print(v)"
   ]
  },
  {
   "cell_type": "code",
   "execution_count": 147,
   "id": "0ef4fdf9",
   "metadata": {},
   "outputs": [
    {
     "name": "stdout",
     "output_type": "stream",
     "text": [
      "True\n",
      "False\n"
     ]
    }
   ],
   "source": [
    "# in 연산자는 value를 찾는 것이 아니라 key!!를 찾는 것\n",
    "print('name' in person1)\n",
    "print('박철웅' in person1)"
   ]
  },
  {
   "cell_type": "code",
   "execution_count": 148,
   "id": "7e72542d",
   "metadata": {},
   "outputs": [
    {
     "name": "stdout",
     "output_type": "stream",
     "text": [
      "박철웅\n",
      "{'age': 20, 'address': '서울', 'tel': '010-111-1111'}\n"
     ]
    }
   ],
   "source": [
    "# pip dictionary의 아이템 즉 쌍을 삭제하면서! 반환한다.\n",
    "a = person1.pop('name')\n",
    "print(a)\n",
    "print(person1)"
   ]
  },
  {
   "cell_type": "code",
   "execution_count": 140,
   "id": "ac390abd",
   "metadata": {},
   "outputs": [
    {
     "data": {
      "text/plain": [
       "{'address': '서울', 'tel': '010-111-1111'}"
      ]
     },
     "execution_count": 140,
     "metadata": {},
     "output_type": "execute_result"
    }
   ],
   "source": [
    "# 특정 item (key-값) 삭제\n",
    "del person1['age']\n",
    "person1"
   ]
  },
  {
   "cell_type": "code",
   "execution_count": 121,
   "id": "548d6867",
   "metadata": {},
   "outputs": [
    {
     "data": {
      "text/plain": [
       "dict_items([('address', '서울'), ('tel', '010-111-1111')])"
      ]
     },
     "execution_count": 121,
     "metadata": {},
     "output_type": "execute_result"
    }
   ],
   "source": [
    "# key와 values를 듀플로 묶어 리턴. 이는 리스트로 전체 묶여있다.\n",
    "person1.items()"
   ]
  },
  {
   "cell_type": "code",
   "execution_count": 124,
   "id": "4dc3b3c6",
   "metadata": {},
   "outputs": [
    {
     "data": {
      "text/plain": [
       "dict_values(['서울', '010-111-1111'])"
      ]
     },
     "execution_count": 124,
     "metadata": {},
     "output_type": "execute_result"
    }
   ],
   "source": [
    "# key값만 모아서 리턴. values값만 모아서 리턴.\n",
    "person1.keys()\n",
    "person1.values()"
   ]
  },
  {
   "cell_type": "markdown",
   "id": "c0c318e4",
   "metadata": {},
   "source": [
    "# 4. Set(집합)\n",
    "- 중복을 허용하지 않는 자료구조"
   ]
  },
  {
   "cell_type": "code",
   "execution_count": 154,
   "id": "eefb7fc9",
   "metadata": {},
   "outputs": [
    {
     "name": "stdout",
     "output_type": "stream",
     "text": [
      "{False, 1, 2, 3, 'a'}\n",
      "{False, True, 2, 3, 'a'}\n",
      "{0, True, 2, 3, 'a'}\n"
     ]
    }
   ],
   "source": [
    "s1 = {1,1,1,2,2,2,3,3,3,\"a\",\"a\",\"a\",True,True,True,False,False}\n",
    "print(s1) # 중복된 값 하나도 안 들어감.\n",
    "\n",
    "#True가 안 들어감. False 들어감.\n",
    "# 이유는 1이 들어가서.\n",
    "\n",
    "# set에서 True,1 -> True를 1로 취급 \n",
    "# False, 0 -> False를 0로 취급\n",
    "# booㅣ값과 0과 1 같이 있으면 0과 1로 취급하는 것.\n",
    "\n",
    "# 출력하면 순서가 달라짐. 순서가 없기에.\n",
    "s2 = {2,2,2,3,3,3,\"a\",\"a\",\"a\",True,True,True,False,False}\n",
    "print(s2)\n",
    "\n",
    "s3 = {0,0,0,2,2,2,3,3,3,\"a\",\"a\",\"a\",True,True,True,False,False}\n",
    "print(s3)"
   ]
  },
  {
   "cell_type": "code",
   "execution_count": 155,
   "id": "3e4122ab",
   "metadata": {
    "collapsed": true
   },
   "outputs": [
    {
     "ename": "TypeError",
     "evalue": "'set' object is not subscriptable",
     "output_type": "error",
     "traceback": [
      "\u001b[1;31m---------------------------------------------------------------------------\u001b[0m",
      "\u001b[1;31mTypeError\u001b[0m                                 Traceback (most recent call last)",
      "\u001b[1;32m~\\AppData\\Local\\Temp/ipykernel_8480/2739130324.py\u001b[0m in \u001b[0;36m<module>\u001b[1;34m\u001b[0m\n\u001b[0;32m      1\u001b[0m \u001b[1;31m# set은 가지고 있는 원소 하나를 조회하는 것은 안된다. => 반복문을 이용해야 함.\u001b[0m\u001b[1;33m\u001b[0m\u001b[1;33m\u001b[0m\u001b[0m\n\u001b[1;32m----> 2\u001b[1;33m \u001b[0ms1\u001b[0m\u001b[1;33m[\u001b[0m\u001b[1;36m0\u001b[0m\u001b[1;33m]\u001b[0m\u001b[1;33m\u001b[0m\u001b[1;33m\u001b[0m\u001b[0m\n\u001b[0m",
      "\u001b[1;31mTypeError\u001b[0m: 'set' object is not subscriptable"
     ]
    }
   ],
   "source": [
    "# set은 가지고 있는 원소 하나를 조회하는 것은 안된다. => 반복문을 이용해야 함.\n",
    "s1[0]"
   ]
  },
  {
   "cell_type": "markdown",
   "id": "a7c526bc",
   "metadata": {},
   "source": [
    "### 연산자"
   ]
  },
  {
   "cell_type": "code",
   "execution_count": 157,
   "id": "f06e82b2",
   "metadata": {},
   "outputs": [
    {
     "data": {
      "text/plain": [
       "False"
      ]
     },
     "execution_count": 157,
     "metadata": {},
     "output_type": "execute_result"
    }
   ],
   "source": [
    "1 in s1\n",
    "100 in s1"
   ]
  },
  {
   "cell_type": "code",
   "execution_count": 159,
   "id": "c4969aaf",
   "metadata": {},
   "outputs": [
    {
     "data": {
      "text/plain": [
       "True"
      ]
     },
     "execution_count": 159,
     "metadata": {},
     "output_type": "execute_result"
    }
   ],
   "source": [
    "1 not in s1\n",
    "100 not in s1"
   ]
  },
  {
   "cell_type": "code",
   "execution_count": 161,
   "id": "24d0288d",
   "metadata": {},
   "outputs": [
    {
     "name": "stdout",
     "output_type": "stream",
     "text": [
      "{1, 2, 3, 4, 5}\n",
      "{1, 2, 3, 4, 5}\n"
     ]
    }
   ],
   "source": [
    "# 합집합\n",
    "s1 = {1,2,3}\n",
    "s2 = {3,4,5}\n",
    "\n",
    "# 합집합 중복허용되지 않으니 당연히 3 하나만 출력\n",
    "# 변경이 아니라 새로운 set을 반환하는 것 . s1 s2 그대로\n",
    "\n",
    "s3 = s1|s2\n",
    "s4 = s1.union(s2)\n",
    "print(s3)\n",
    "print(s4)"
   ]
  },
  {
   "cell_type": "code",
   "execution_count": 163,
   "id": "2493ba10",
   "metadata": {},
   "outputs": [
    {
     "name": "stdout",
     "output_type": "stream",
     "text": [
      "{3} {3}\n"
     ]
    }
   ],
   "source": [
    "# 교집합\n",
    "s5 = s1 & s2\n",
    "s6 = s1.intersection(s2)\n",
    "print(s5, s6)"
   ]
  },
  {
   "cell_type": "code",
   "execution_count": 165,
   "id": "bf7f43fb",
   "metadata": {},
   "outputs": [
    {
     "name": "stdout",
     "output_type": "stream",
     "text": [
      "{1, 2}\n",
      "{1, 2}\n"
     ]
    }
   ],
   "source": [
    "# 차집합\n",
    "s7 = s1 - s2\n",
    "s8 = s1.difference(s2)\n",
    "print(s7)\n",
    "print(s8)"
   ]
  },
  {
   "cell_type": "markdown",
   "id": "84d63eb7",
   "metadata": {},
   "source": [
    "###  메소드"
   ]
  },
  {
   "cell_type": "code",
   "execution_count": 167,
   "id": "86b4e236",
   "metadata": {},
   "outputs": [
    {
     "name": "stdout",
     "output_type": "stream",
     "text": [
      "{1, 2, 3, 4, 5, 10}\n",
      "{1, 2, 3, 4, 5, 10}\n"
     ]
    }
   ],
   "source": [
    "# 추가\n",
    "s3.add(10)\n",
    "print(s3)\n",
    "s3.add(10) # 있는 값을 .add 하면 중복이니 추가가 안됨.\n",
    "print(s3)\n"
   ]
  },
  {
   "cell_type": "code",
   "execution_count": 169,
   "id": "7b1b4f1b",
   "metadata": {},
   "outputs": [
    {
     "data": {
      "text/plain": [
       "{1, 2, 3, 4, 5, 10, 100, 200, 300}"
      ]
     },
     "execution_count": 169,
     "metadata": {},
     "output_type": "execute_result"
    }
   ],
   "source": [
    "# 리스트, 튜플로 묶어서 넣을 수 있는데\n",
    "# 역시 중복되는 것은 추가가 안 된다.\n",
    "\n",
    "s3.update([1,2,3,100,200,300])\n",
    "s3"
   ]
  },
  {
   "cell_type": "code",
   "execution_count": 170,
   "id": "c24a5e46",
   "metadata": {},
   "outputs": [
    {
     "name": "stdout",
     "output_type": "stream",
     "text": [
      "1\n"
     ]
    },
    {
     "data": {
      "text/plain": [
       "{2, 3, 4, 5, 10, 100, 200, 300}"
      ]
     },
     "execution_count": 170,
     "metadata": {},
     "output_type": "execute_result"
    }
   ],
   "source": [
    "v = s3.pop()\n",
    "print(v)\n",
    "s3"
   ]
  },
  {
   "cell_type": "code",
   "execution_count": 171,
   "id": "1b85cb43",
   "metadata": {},
   "outputs": [
    {
     "data": {
      "text/plain": [
       "{2, 3, 4, 10, 100, 200, 300}"
      ]
     },
     "execution_count": 171,
     "metadata": {},
     "output_type": "execute_result"
    }
   ],
   "source": [
    "s3.remove(5) #s3의 원소 중 5를 삭제\n",
    "s3"
   ]
  },
  {
   "cell_type": "code",
   "execution_count": 172,
   "id": "75e3bf5e",
   "metadata": {},
   "outputs": [
    {
     "ename": "KeyError",
     "evalue": "'가'",
     "output_type": "error",
     "traceback": [
      "\u001b[1;31m---------------------------------------------------------------------------\u001b[0m",
      "\u001b[1;31mKeyError\u001b[0m                                  Traceback (most recent call last)",
      "\u001b[1;32m~\\AppData\\Local\\Temp/ipykernel_8480/2854672158.py\u001b[0m in \u001b[0;36m<module>\u001b[1;34m\u001b[0m\n\u001b[1;32m----> 1\u001b[1;33m \u001b[0ms3\u001b[0m\u001b[1;33m.\u001b[0m\u001b[0mremove\u001b[0m\u001b[1;33m(\u001b[0m\u001b[1;34m'가'\u001b[0m\u001b[1;33m)\u001b[0m \u001b[1;31m#없는 값 삭제 시 keyError 발생.\u001b[0m\u001b[1;33m\u001b[0m\u001b[1;33m\u001b[0m\u001b[0m\n\u001b[0m",
      "\u001b[1;31mKeyError\u001b[0m: '가'"
     ]
    }
   ],
   "source": [
    "s3.remove('가') #없는 값 삭제 시 keyError 발생."
   ]
  },
  {
   "cell_type": "code",
   "execution_count": 179,
   "id": "94afe4a1",
   "metadata": {},
   "outputs": [
    {
     "name": "stdout",
     "output_type": "stream",
     "text": [
      "<class 'dict'>\n",
      "{'a': 4}\n"
     ]
    }
   ],
   "source": [
    "# 빈 리스트. 나중에 추가할 목적으로 만들다.\n",
    "var1 = [] \n",
    "var1\n",
    "var1.append(10)\n",
    "var1\n",
    "\n",
    "var2=() # 튜플은 굳이\n",
    "\n",
    "var3 ={} # 빈 dic인가 빈 set인가? -> 빈 dic 이다.\n",
    "print(type(var3))\n",
    "\n",
    "var3[\"a\"]=4\n",
    "print(var3)"
   ]
  },
  {
   "cell_type": "markdown",
   "id": "9452f730",
   "metadata": {},
   "source": [
    "# 5.  자료구조 변환 함수\n",
    "- list(자료구조) : 자료구조를 list로 변환\n",
    "- tuple(자료구조) : 자료구조를 Turple로 변환\n",
    "- set(자료구조) : 자료구조를 set으로 변환.\n",
    "- dict 로 변환하는 함수는 없다.\n",
    "- 변경할 대상 자료구조가 dictionary 일 경우에는 **key**값들만 모아서 반환"
   ]
  },
  {
   "cell_type": "code",
   "execution_count": 182,
   "id": "7f6ab6c2",
   "metadata": {},
   "outputs": [
    {
     "data": {
      "text/plain": [
       "([1, 2, 10, 5, 10, 2], list)"
      ]
     },
     "execution_count": 182,
     "metadata": {},
     "output_type": "execute_result"
    }
   ],
   "source": [
    "#  t는 원본은 그대로 새로운 list 가 만들어지는 것.\n",
    "t = 1,2,10,5,10,2\n",
    "l = list(t)\n",
    "l, type(l)"
   ]
  },
  {
   "cell_type": "code",
   "execution_count": 183,
   "id": "48ccce25",
   "metadata": {},
   "outputs": [
    {
     "data": {
      "text/plain": [
       "({1, 2, 5, 10}, set)"
      ]
     },
     "execution_count": 183,
     "metadata": {},
     "output_type": "execute_result"
    }
   ],
   "source": [
    "# set이니 중복 빼고 순서 바껴서 정렬된 상태로.\n",
    "# set은 보통 중복된 값을 빼고 모으고 변환하고 싶을 때 쓴다.\n",
    "s =set(t)\n",
    "s, type(s)"
   ]
  },
  {
   "cell_type": "code",
   "execution_count": 185,
   "id": "1d108ea2",
   "metadata": {},
   "outputs": [
    {
     "data": {
      "text/plain": [
       "(1, 3, 10, 5)"
      ]
     },
     "execution_count": 185,
     "metadata": {},
     "output_type": "execute_result"
    }
   ],
   "source": [
    "# list -> tuple\n",
    "t1 = tuple([1,3,10,5])\n",
    "t1"
   ]
  },
  {
   "cell_type": "code",
   "execution_count": 188,
   "id": "b7b7734c",
   "metadata": {},
   "outputs": [
    {
     "data": {
      "text/plain": [
       "{'a', 'b', 'c', 'd'}"
      ]
     },
     "execution_count": 188,
     "metadata": {},
     "output_type": "execute_result"
    }
   ],
   "source": [
    "# dict -> set // key값만 바뀌어 반환한다.\n",
    "# 어차피 key만 반환이니 뭐 dict 값이 같아도 아무 상관없쥐.\n",
    "d = {'a':10, 'b':20, 'c':40, 'd':40}\n",
    "set(d) #dict -> set"
   ]
  },
  {
   "cell_type": "code",
   "execution_count": 187,
   "id": "8bcc7033",
   "metadata": {},
   "outputs": [
    {
     "data": {
      "text/plain": [
       "('a', 'b', 'c')"
      ]
     },
     "execution_count": 187,
     "metadata": {},
     "output_type": "execute_result"
    }
   ],
   "source": [
    "# dict -> tuple // key값만 바뀌어 반환한다.\n",
    "tuple(d)"
   ]
  },
  {
   "cell_type": "code",
   "execution_count": 189,
   "id": "02ef08e6",
   "metadata": {},
   "outputs": [
    {
     "data": {
      "text/plain": [
       "{'name': '홍길동', 'age': 20, 'address': '부산'}"
      ]
     },
     "execution_count": 189,
     "metadata": {},
     "output_type": "execute_result"
    }
   ],
   "source": [
    "# dict(key=value,key=value) dictionary를 쉽게 만들도록 도와주는 함수\n",
    "# dict() 이것은 변환하는 함수가 아님. 착각 ㄴㄴ.\n",
    "# 그냥 변수를 편하게 넣을 수 있게 하는 함수이다. 위에 배운대로 해도 됨.\n",
    "\n",
    "d1 = dict(name='홍길동', age=20, address='부산')\n",
    "d1"
   ]
  },
  {
   "cell_type": "markdown",
   "id": "3b9a857f",
   "metadata": {},
   "source": [
    "- edit - merge cell 위 또는 아래 셀 합치는 것 "
   ]
  },
  {
   "cell_type": "code",
   "execution_count": 231,
   "id": "0bf47ca3",
   "metadata": {},
   "outputs": [
    {
     "name": "stdout",
     "output_type": "stream",
     "text": [
      "7번의 점수 : 80\n"
     ]
    }
   ],
   "source": [
    "# 문제 1~7 \n",
    "\n",
    "jumsu = [100, 90, 100, 80, 70, 100, 80, 90, 95, 85] \n",
    "\n",
    "# 위는 학생번호 1번 ~ 10번까지 10명의 시험 점수이다. (문제 1 ~ 7)\n",
    "#(1)  7번의 점수를 출력하세요 \n",
    "print(\"7번의 점수 :\",jumsu[6])"
   ]
  },
  {
   "cell_type": "code",
   "execution_count": 232,
   "id": "ca31ae73",
   "metadata": {
    "scrolled": true
   },
   "outputs": [
    {
     "name": "stdout",
     "output_type": "stream",
     "text": [
      "1번~5번 점수 : [100, 90, 100, 80, 70]\n"
     ]
    }
   ],
   "source": [
    "#(2)  1번부터 5번까지의 점수를 출력하세요.\n",
    "print(\"1번~5번 점수 :\", jumsu[0:5])"
   ]
  },
  {
   "cell_type": "code",
   "execution_count": 233,
   "id": "8ad96213",
   "metadata": {},
   "outputs": [
    {
     "name": "stdout",
     "output_type": "stream",
     "text": [
      "4~7번의 점수 : [80, 70, 100, 80]\n"
     ]
    }
   ],
   "source": [
    "#(3)  4, 5, 6, 7번의 점수를 출력하세요.\n",
    "print(\"4~7번의 점수 :\", jumsu[3:7])"
   ]
  },
  {
   "cell_type": "code",
   "execution_count": 234,
   "id": "fb4193de",
   "metadata": {},
   "outputs": [
    {
     "name": "stdout",
     "output_type": "stream",
     "text": [
      "짝수번째 점수 : [90, 80, 100, 90, 85]\n"
     ]
    }
   ],
   "source": [
    "#(4) 짝수번째 점수를 출력하세요.\n",
    "print(\"짝수번째 점수 :\", jumsu[1::2])"
   ]
  },
  {
   "cell_type": "code",
   "execution_count": 235,
   "id": "10ab24a7",
   "metadata": {},
   "outputs": [
    {
     "name": "stdout",
     "output_type": "stream",
     "text": [
      "홀수번째 점수 : [100, 100, 70, 80, 95]\n"
     ]
    }
   ],
   "source": [
    "#(5) 홀수번째 점수를 출력하세요.\n",
    "print(\"홀수번째 점수 :\", jumsu[::2])"
   ]
  },
  {
   "cell_type": "code",
   "execution_count": 259,
   "id": "77183d49",
   "metadata": {},
   "outputs": [
    {
     "name": "stdout",
     "output_type": "stream",
     "text": [
      "바뀐 점수 : [100, 90, 100, 80, 70, 100, 80, 90, 20, 85]\n"
     ]
    }
   ],
   "source": [
    "#(6) 9번의 점수를 20으로 변경하고 전체 출력하세요.\n",
    "jumsu[8]=20\n",
    "print(\"바뀐 점수 :\",jumsu)"
   ]
  },
  {
   "cell_type": "code",
   "execution_count": 262,
   "id": "cdd6b4bc",
   "metadata": {},
   "outputs": [
    {
     "name": "stdout",
     "output_type": "stream",
     "text": [
      "중복 점수 제외 : {100, 70, 80, 20, 85, 90}\n",
      "중복 점수 제외 : [100, 70, 80, 20, 85, 90]\n",
      "최고점: 100\n"
     ]
    }
   ],
   "source": [
    "#(7) 중복된 점수는 제거하고 하나씩만 나오도록 출력하세요.\n",
    "\n",
    "#jumsu[8]=95\n",
    "\n",
    "x = set(jumsu) #이렇게 하면 인덱스 할 수 없음.\n",
    "unique_jumsu = list(x) #그래서 이걸 다시 list로 만듦.\n",
    "print(\"중복 점수 제외 :\",x)\n",
    "print(\"중복 점수 제외 :\",unique_jumsu)\n",
    "print(\"최고점:\",unique_jumsu[0])\n"
   ]
  },
  {
   "cell_type": "code",
   "execution_count": 267,
   "id": "305392e4",
   "metadata": {},
   "outputs": [
    {
     "name": "stdout",
     "output_type": "stream",
     "text": [
      "['복숭아', '수박', '딸기', '사과', '귤']\n",
      "['복숭아', '수박', '딸기', '사과', '귤', '사과', '귤']\n"
     ]
    }
   ],
   "source": [
    "# 문제 8 ~ 9\n",
    "fruits = [\"복숭아\", \"수박\", \"딸기\"]\n",
    "\n",
    "#(8) fruits 리스트에 마지막 원소로 \"사과\", \"귤\"을 추가하세요.\n",
    "#fruits.append([\"사과\",\"귤\"]) # 이러면 중첩 리스트가 된다.\n",
    "fruits.extend([\"사과\",\"귤\"])\n",
    "print(fruits)\n",
    "\n",
    "# 주의 fruits가 바뀌는 것이 아니기에 다시 fruits에 넣어준다.\n",
    "fruits += [\"사과\",\"귤\"]\n",
    "print(fruits)"
   ]
  },
  {
   "cell_type": "code",
   "execution_count": 268,
   "id": "9dfb744c",
   "metadata": {},
   "outputs": [
    {
     "name": "stdout",
     "output_type": "stream",
     "text": [
      "['딸기', '사과', '귤', '사과', '귤']\n"
     ]
    }
   ],
   "source": [
    "#(9) fruits 리스트에서 \"복숭아\"를 제거하세요.\n",
    "fruits.remove('복숭아') #값으로 지우는 것. 특정 값을 지우고 싶다.\n",
    "\n",
    "del fruits[0] # 인덱스로 지우는 것. 몇 번 인덱스를 지우고 싶다.\n",
    "\n",
    "print(fruits)"
   ]
  },
  {
   "cell_type": "code",
   "execution_count": 1,
   "id": "0776c50a",
   "metadata": {},
   "outputs": [
    {
     "name": "stdout",
     "output_type": "stream",
     "text": [
      "{'name': '김철수', 'age': 25, 'email': 'cso6005@naver.com', 'hobby': ['여행', '영화보기'], '결혼유무': '무'}\n",
      "{'name': '김철수', 'age': 25, 'email': 'cso6005@naver.com', 'hobby': ['여행', '영화보기'], '결혼유무': '무'}\n"
     ]
    }
   ],
   "source": [
    "# 문제 10 ~ 15\n",
    "#(10)본인의 이름, 나이, email주소, 취미, 결혼유무를 사전(딕셔너리)으로 생성. \n",
    "# 취미는 2개 이상의 값을 넣는다..\n",
    "info ={'name':\"김철수\",\n",
    "       'age':25,\n",
    "       'email':'cso6005@naver.com',\n",
    "       \"hobby\":[\"여행\",\"영화보기\"],\n",
    "       \"결혼유무\":\"무\"}\n",
    "print(info)\n",
    "\n",
    "# key 넣을 때 \"\" 안쓰고 그냥. 주의.\n",
    "info2 = dict(name=\"김철수\",\n",
    "       age=25,\n",
    "       email='cso6005@naver.com',\n",
    "       hobby=[\"여행\",\"영화보기\"],\n",
    "       결혼유무=\"무\")\n",
    "print(info2)"
   ]
  },
  {
   "cell_type": "code",
   "execution_count": 2,
   "id": "8eed4b3f",
   "metadata": {},
   "outputs": [
    {
     "name": "stdout",
     "output_type": "stream",
     "text": [
      "이름 : 김철수 \n",
      "email : cso6005@naver.com\n"
     ]
    }
   ],
   "source": [
    "#(11) 위 딕셔너리에서 이름과 email주소를 조회해서 출력하세요.\n",
    "print(\"이름 :\",info['name'], \"\\nemail :\", info['email'])"
   ]
  },
  {
   "cell_type": "code",
   "execution_count": 3,
   "id": "184a705c",
   "metadata": {},
   "outputs": [
    {
     "name": "stdout",
     "output_type": "stream",
     "text": [
      "두번째 취미 : 영화보기\n",
      "두번째 취미 : 영화보기\n"
     ]
    }
   ],
   "source": [
    "#(12) 위 딕셔너리에서 취미중 두번째 취미를 조회해서 출력하세요.\n",
    "y = info['hobby']\n",
    "print(\"두번째 취미 :\",y[1])\n",
    "\n",
    "# 취미 넣어줄 때 list로 넣어준 것. 즉 중첩리스트로 조회 가능.\n",
    "\n",
    "print(\"두번째 취미 :\",info['hobby'][1])\n"
   ]
  },
  {
   "cell_type": "code",
   "execution_count": 4,
   "id": "822abf10",
   "metadata": {},
   "outputs": [
    {
     "name": "stdout",
     "output_type": "stream",
     "text": [
      "{'name': '김철수', 'age': 25, 'email': 'cso6005@naver.com', 'hobby': ['여행', '영화보기'], '결혼유무': '무', 'weight': 20, 'key': 170}\n"
     ]
    }
   ],
   "source": [
    "#(13) 위 딕셔너리에 몸무게와 키 항목을 추가하세요.\n",
    "\n",
    "info[\"weight\"]= 20\n",
    "info[\"key\"] = 170\n",
    "print(info)"
   ]
  },
  {
   "cell_type": "code",
   "execution_count": 5,
   "id": "c68fe895",
   "metadata": {},
   "outputs": [
    {
     "name": "stdout",
     "output_type": "stream",
     "text": [
      "{'name': '김철수', 'email': 'cso6005@naver.com', 'hobby': ['여행', '영화보기'], '결혼유무': '무', 'weight': 20, 'key': 170}\n"
     ]
    }
   ],
   "source": [
    "#(14) 위 딕셔너리에서 나이를 제거하세요.\n",
    "\n",
    "del info[\"age\"]\n",
    "print(info)"
   ]
  },
  {
   "cell_type": "code",
   "execution_count": 6,
   "id": "0ba72c60",
   "metadata": {},
   "outputs": [
    {
     "name": "stdout",
     "output_type": "stream",
     "text": [
      "바뀐 email : abc1235@nate.com\n"
     ]
    }
   ],
   "source": [
    "#(15) 위 딕셔너리에서 email 주소를 다른 값으로 변경하세요.\n",
    "\n",
    "info['email']= \"abc1235@nate.com\"\n",
    "print(\"바뀐 email :\", info['email'])"
   ]
  },
  {
   "cell_type": "code",
   "execution_count": null,
   "id": "a4ff8dd3",
   "metadata": {},
   "outputs": [],
   "source": []
  }
 ],
 "metadata": {
  "kernelspec": {
   "display_name": "Python 3 (ipykernel)",
   "language": "python",
   "name": "python3"
  },
  "language_info": {
   "codemirror_mode": {
    "name": "ipython",
    "version": 3
   },
   "file_extension": ".py",
   "mimetype": "text/x-python",
   "name": "python",
   "nbconvert_exporter": "python",
   "pygments_lexer": "ipython3",
   "version": "3.9.7"
  }
 },
 "nbformat": 4,
 "nbformat_minor": 5
}
