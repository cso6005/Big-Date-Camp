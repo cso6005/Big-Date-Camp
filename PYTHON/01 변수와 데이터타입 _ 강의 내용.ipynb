{
 "cells": [
  {
   "cell_type": "markdown",
   "id": "0342162c",
   "metadata": {},
   "source": [
    "## 쥬피터 노트북 단축키\n",
    "- enter : 편집모드로\n",
    "- shift + enter : 실행 후 다음 cell로 이동한다.\n",
    "- ctrl + enter : 실행후 실행한 cell에 머무른다.\n",
    "- shift + ctrl + - : 셀 잘라내기"
   ]
  },
  {
   "cell_type": "markdown",
   "id": "f56fdad0",
   "metadata": {},
   "source": [
    "# PYTHON 변수와 데이터 타입"
   ]
  },
  {
   "cell_type": "code",
   "execution_count": 2,
   "id": "8afd6632",
   "metadata": {},
   "outputs": [
    {
     "data": {
      "text/plain": [
       "4"
      ]
     },
     "execution_count": 2,
     "metadata": {},
     "output_type": "execute_result"
    }
   ],
   "source": [
    "# 기본 연산\n",
    "1+3"
   ]
  },
  {
   "cell_type": "markdown",
   "id": "d4d717db",
   "metadata": {},
   "source": [
    "## 1. 변수"
   ]
  },
  {
   "cell_type": "code",
   "execution_count": 1,
   "id": "3a1ad7f9",
   "metadata": {},
   "outputs": [],
   "source": [
    "# 변수 선업 및 대입(할당) 구문\n",
    "name = \"홍길동\" \n",
    "\n",
    "# \"홍길동\" 문자열 값을 name 이라는 변수에 대입.\n",
    "# 이름이 name인 공간이 메모리에 없으면 새로 만들고 대입한다.\n",
    "# 있으면 있는 공간에 대입한다. 그러면 값이 바뀌는 결과."
   ]
  },
  {
   "cell_type": "markdown",
   "id": "71102d70",
   "metadata": {},
   "source": [
    "- 출력 함수 : print(값)\n",
    "    - ()안의 값을 출력하는 함수. 변수는 값이 아님. 변수 안의 값을 출력하는 것."
   ]
  },
  {
   "cell_type": "code",
   "execution_count": 2,
   "id": "b10fa13a",
   "metadata": {},
   "outputs": [
    {
     "name": "stdout",
     "output_type": "stream",
     "text": [
      "홍길동\n"
     ]
    }
   ],
   "source": [
    "print(name)   "
   ]
  },
  {
   "cell_type": "code",
   "execution_count": 8,
   "id": "62dafe33",
   "metadata": {
    "scrolled": true
   },
   "outputs": [
    {
     "name": "stdout",
     "output_type": "stream",
     "text": [
      "25\n"
     ]
    }
   ],
   "source": [
    "age = 25\n",
    "print(age) # age 변수의 값을 출력"
   ]
  },
  {
   "cell_type": "markdown",
   "id": "2fffe2b9",
   "metadata": {},
   "source": [
    "- 재할당 : 변수 공간이 메모리에 있으면 있는 공간에 대입한다. 그러면 값이 바뀌는 결과."
   ]
  },
  {
   "cell_type": "code",
   "execution_count": 12,
   "id": "7401449a",
   "metadata": {},
   "outputs": [
    {
     "name": "stdout",
     "output_type": "stream",
     "text": [
      "50\n",
      "이순신\n"
     ]
    }
   ],
   "source": [
    "age= 50 # age 변수의 값을 50으로 재할당\n",
    "name = '이순신'\n",
    "print(age)\n",
    "print(name)"
   ]
  },
  {
   "cell_type": "markdown",
   "id": "078ea4ba",
   "metadata": {},
   "source": [
    "- 정수를 담은 변수로 연산 처리 \n",
    "    - +, -, *, ***, /, //, %"
   ]
  },
  {
   "cell_type": "code",
   "execution_count": 13,
   "id": "4cda2a32",
   "metadata": {},
   "outputs": [
    {
     "name": "stdout",
     "output_type": "stream",
     "text": [
      "30\n",
      "70\n"
     ]
    }
   ],
   "source": [
    "#1 age 변수가 가진 값과 20을 더하는 처리. #2. 1에서 처리한 값을 age 변수에 대입\n",
    "age = age + 20\n",
    "age2 = age - 40\n",
    "\n",
    "print(age2)\n",
    "print(age)"
   ]
  },
  {
   "cell_type": "markdown",
   "id": "287f9163",
   "metadata": {},
   "source": [
    "- 이름이 address인 변수의 값을 출력 ->없는 변수를 사용할 경우 에러 발생 : NameError"
   ]
  },
  {
   "cell_type": "code",
   "execution_count": 45,
   "id": "20b62ab2",
   "metadata": {},
   "outputs": [],
   "source": [
    "print(address) "
   ]
  },
  {
   "cell_type": "code",
   "execution_count": 14,
   "id": "c94e6566",
   "metadata": {},
   "outputs": [
    {
     "name": "stdout",
     "output_type": "stream",
     "text": [
      "70 50\n"
     ]
    }
   ],
   "source": [
    "Age = 50\n",
    "print(age,Age) #두개 출력할 때 콤마 하면 됨. 그럼 콤마없이 값만 출력"
   ]
  },
  {
   "cell_type": "code",
   "execution_count": 37,
   "id": "f685edc2",
   "metadata": {},
   "outputs": [
    {
     "name": "stdout",
     "output_type": "stream",
     "text": [
      "서울시\n"
     ]
    }
   ],
   "source": [
    "주소 = '서울시'\n",
    "print(주소)"
   ]
  },
  {
   "cell_type": "code",
   "execution_count": 38,
   "id": "12b5a45d",
   "metadata": {},
   "outputs": [],
   "source": [
    "우리집_주소 ='서울시 강남구' #특수문자는_ 사용가능. _는 단어 구분자로 사용. (snake 표기법)"
   ]
  },
  {
   "cell_type": "code",
   "execution_count": 39,
   "id": "890419bf",
   "metadata": {},
   "outputs": [
    {
     "name": "stdout",
     "output_type": "stream",
     "text": [
      "서울시 강남구\n"
     ]
    }
   ],
   "source": [
    "print(우리집_주소)"
   ]
  },
  {
   "cell_type": "code",
   "execution_count": 40,
   "id": "7c1212fe",
   "metadata": {},
   "outputs": [],
   "source": [
    "my_email_address = 'abc@abc.com' #파이썬은 이게 관례적 표기"
   ]
  },
  {
   "cell_type": "code",
   "execution_count": 42,
   "id": "a8865239",
   "metadata": {},
   "outputs": [],
   "source": [
    "# myEmailAddress #이렇게 단어 구분 표기할 수 있다. (cmel 표기법) #자바는 이게 관례적 표기"
   ]
  },
  {
   "cell_type": "code",
   "execution_count": 44,
   "id": "9ebbd05b",
   "metadata": {},
   "outputs": [],
   "source": [
    "# 2age = 30 #변수명에서 숫자를 첫번째 글자로 할 수 없다."
   ]
  },
  {
   "cell_type": "markdown",
   "id": "9f617125",
   "metadata": {},
   "source": [
    "- 변수 선언 및 대입(할당)의 여러가지\n",
    "    - 여러 변수 동시 선언 및 값 대입\n",
    "        - a = b = 0\n",
    "        - a, b, c = 1, 2, 3 => **tuple 대입법!**\n",
    "    - 변수 삭제\n",
    "        - del 변수명 : 메모리에서 아예 삭제. 아예 선언 전처럼."
   ]
  },
  {
   "cell_type": "code",
   "execution_count": 48,
   "id": "518f8f0b",
   "metadata": {},
   "outputs": [],
   "source": [
    "# 여러개 변수에 같은 값을 대입하고 싶을 때\n",
    "a = 10\n",
    "b =10\n",
    "c = 10\n",
    "a = b = c = 20\n",
    "print(a, b, c)"
   ]
  },
  {
   "cell_type": "markdown",
   "id": "a31f635f",
   "metadata": {},
   "source": [
    "- **튜플 대입 (Tuple assignment)**\n",
    "    - 여러개의 값을 여러개 변수에 한번에 대입\n",
    "    - 변수의 개수와 값의 개수가 같아야 한다. 당연히 짝이 맞아야 함.\n",
    "    - 갯수가 맞으면 몇 개든 상관없다."
   ]
  },
  {
   "cell_type": "code",
   "execution_count": 51,
   "id": "a45c2784",
   "metadata": {},
   "outputs": [
    {
     "name": "stdout",
     "output_type": "stream",
     "text": [
      "10 20 30\n"
     ]
    }
   ],
   "source": [
    "a, b, c = 10,20, 30\n",
    "print(a,b,c)"
   ]
  },
  {
   "cell_type": "code",
   "execution_count": 15,
   "id": "f689873c",
   "metadata": {},
   "outputs": [],
   "source": [
    "del age2\n",
    "#print(age2) 출력하면 정의되어있지 않다고 오류 "
   ]
  },
  {
   "cell_type": "markdown",
   "id": "b805ca66",
   "metadata": {},
   "source": [
    "- 동적타입언어\n",
    "    - 변수의 데이터 타입을 '실행' 시점에 결정한다.\n",
    "    - 변수 선언 시 데이터 타입을 지정하지 않는다.\n",
    "    - 그래서 하나의 변수에 다양한 타입의 값들을 대입 또는 재할당 할 수 있다.\n",
    "    - python\n",
    "- 정적타입언어\n",
    "    - 변수의 데이터 타입이 '선언' 시점에 결정되어 하나의 타입의 값만 저장할 수 있도록 한다.\n",
    "    - 정수로 선언된 변수에 문자열을 넣을 수 없다.\n",
    "    - 변수에 타입을 고정해서 같은 타입의 값들만 저장.\n",
    "    - c c++ java\n",
    "- type(값) : 변수나 값의 데이터 타입을 확인 하는 함수\n",
    "    - 동적언어타입 프로그래밍에서 유용하게 쓰인다."
   ]
  },
  {
   "cell_type": "code",
   "execution_count": 62,
   "id": "29657425",
   "metadata": {},
   "outputs": [
    {
     "name": "stdout",
     "output_type": "stream",
     "text": [
      "30\n",
      "스무살\n"
     ]
    }
   ],
   "source": [
    "age = 30 # 정수 대입\n",
    "print(age)\n",
    "age ='스무살' #문자열 대입\n",
    "print(age)"
   ]
  },
  {
   "cell_type": "code",
   "execution_count": null,
   "id": "bf170135",
   "metadata": {},
   "outputs": [],
   "source": [
    "# 정적 동적 장단점.\n",
    "\n",
    "age = 30\n",
    "# 그리고 수천줄 코드가 있다..\n",
    "age2 = age + 5 \n",
    "\n",
    "# 이때 이게 실행이 될까,, 50줄 안에 만약 age를 문자열 대입했다면? 코드를 다 봐야 알 수 있다. \n",
    "# 정적은 이걸 고민할 필요 없다. 선언 부분만 봐도 정수를 선언한 것은 확실.\n",
    "# 그래서 정적타입이 불편하지만 더 안정할 수 있다."
   ]
  },
  {
   "cell_type": "code",
   "execution_count": 63,
   "id": "ca5d4d9f",
   "metadata": {},
   "outputs": [
    {
     "data": {
      "text/plain": [
       "str"
      ]
     },
     "execution_count": 63,
     "metadata": {},
     "output_type": "execute_result"
    }
   ],
   "source": [
    "# 값, 변수의 타입 확인하는 함수 - type(값) 코드를 다 확인할 수 없으니 이 함수를 쓰자.\n",
    "# 동적타입언어에서 쓰면 좋고, 조건문과 함께 이 타입이면 이 연산 이런 식으로\n",
    "type(age)"
   ]
  },
  {
   "cell_type": "code",
   "execution_count": 64,
   "id": "dc971eb0",
   "metadata": {},
   "outputs": [
    {
     "data": {
      "text/plain": [
       "float"
      ]
     },
     "execution_count": 64,
     "metadata": {},
     "output_type": "execute_result"
    }
   ],
   "source": [
    "# type(tall,age) 이렇게는 못 쓴다. 하나씩만.\n",
    "\n",
    "tall = 16.9\n",
    "type(tall) "
   ]
  },
  {
   "cell_type": "markdown",
   "id": "93aa9d30",
   "metadata": {},
   "source": [
    "- 변수 = 변수 : 오른쪽 변수에 있는 값을 왼쪽 변수에 넣어라. 복사의 개념."
   ]
  },
  {
   "cell_type": "code",
   "execution_count": 3,
   "id": "af239fda",
   "metadata": {},
   "outputs": [
    {
     "name": "stdout",
     "output_type": "stream",
     "text": [
      "3\n"
     ]
    }
   ],
   "source": [
    "# 기존에 값 할당한 변수에 있는 값은 복사하여 변수에 넣을 수 있다. \n",
    "age = 3\n",
    "text = age\n",
    "print(age)"
   ]
  },
  {
   "cell_type": "code",
   "execution_count": 4,
   "id": "6b2ac568",
   "metadata": {},
   "outputs": [
    {
     "data": {
      "text/plain": [
       "(int, str)"
      ]
     },
     "execution_count": 4,
     "metadata": {},
     "output_type": "execute_result"
    }
   ],
   "source": [
    "# 파이썬은 콤마 작용이 됨.\n",
    "type(24), type(\"hello\") "
   ]
  },
  {
   "cell_type": "markdown",
   "id": "d66283fb",
   "metadata": {},
   "source": [
    "## 2. 데이터 타입"
   ]
  },
  {
   "cell_type": "code",
   "execution_count": 5,
   "id": "13c7c9ec",
   "metadata": {},
   "outputs": [
    {
     "name": "stdout",
     "output_type": "stream",
     "text": [
      "0.5 365.4\n",
      "0.4\n"
     ]
    }
   ],
   "source": [
    "#데이터 타입 숫자형 실수형\n",
    "f1 = 0.5 \n",
    "f2 = 365.4\n",
    "print(f1, f2)\n",
    "\n",
    "f3 = .4 #정수부가 0인 애들은 0을 생략 가능. 가독성이 좋지는 않아 굳이\n",
    "print(f3)"
   ]
  },
  {
   "cell_type": "code",
   "execution_count": 9,
   "id": "8b7409b4",
   "metadata": {},
   "outputs": [
    {
     "name": "stdout",
     "output_type": "stream",
     "text": [
      "30000000000.0\n",
      "30000000000\n"
     ]
    },
    {
     "data": {
      "text/plain": [
       "(float, int)"
      ]
     },
     "execution_count": 9,
     "metadata": {},
     "output_type": "execute_result"
    }
   ],
   "source": [
    "# 지수표기법 float 타입인 것을 기억하자.\n",
    "f4 = 3e10 # float 타입\n",
    "f5 = 3 * 10**10 # 당연히 int 타입. 위랑 같은 값.\n",
    "f6 = 3e-3 \n",
    "print(f4)\n",
    "print(f5)\n",
    "type(f4), type(f5) # int는 정수타입 float는 실수타입"
   ]
  },
  {
   "cell_type": "code",
   "execution_count": 12,
   "id": "52d59087",
   "metadata": {},
   "outputs": [
    {
     "name": "stdout",
     "output_type": "stream",
     "text": [
      "32\n",
      "3.3333333333333335\n",
      "3\n",
      "1\n"
     ]
    }
   ],
   "source": [
    "# 제곱연산자\n",
    "print(2**5)\n",
    "# 나누기\n",
    "print(10/3) # 실수는 저장 방식이 부동소수점이라 계산 결과가 정확히 떨어질 수가 없을 때가 있다. 오차가 있는 것. 태생적으로.\n",
    "# 몫\n",
    "print(10//3)\n",
    "# 나머지\n",
    "print(10%3)"
   ]
  },
  {
   "cell_type": "code",
   "execution_count": 15,
   "id": "4b7a0bad",
   "metadata": {},
   "outputs": [
    {
     "name": "stdout",
     "output_type": "stream",
     "text": [
      "False\n"
     ]
    }
   ],
   "source": [
    "# num이 5의 배수?\n",
    "num = 1001\n",
    "print(num % 5 == 0) # 결과가 0이면 5의 배수. 0이면 ture 출력"
   ]
  },
  {
   "cell_type": "code",
   "execution_count": 18,
   "id": "9fece0e6",
   "metadata": {},
   "outputs": [
    {
     "name": "stdout",
     "output_type": "stream",
     "text": [
      "True False\n"
     ]
    }
   ],
   "source": [
    "# 논리형. 변수를 논리형으로 넣을 수 도 있다.\n",
    "b1 = True\n",
    "b2 = False\n",
    "print (b1, b2)"
   ]
  },
  {
   "cell_type": "markdown",
   "id": "0b656103",
   "metadata": {},
   "source": [
    "- 글을 쓰고 ctrl + / 을 누르면 주석이 달아짐. 대부분 에디터가 그렇다. "
   ]
  },
  {
   "cell_type": "markdown",
   "id": "1001c6fe",
   "metadata": {},
   "source": [
    "- bool(값) 다른 타입의 값을 논리형을 변환\n",
    "    - 빈문자열, 0, None => False"
   ]
  },
  {
   "cell_type": "code",
   "execution_count": 21,
   "id": "28f16065",
   "metadata": {},
   "outputs": [
    {
     "name": "stdout",
     "output_type": "stream",
     "text": [
      "False True True\n",
      "False False True True\n",
      "False\n"
     ]
    }
   ],
   "source": [
    "print(bool(''), bool('abc'), bool(' '))\n",
    "print(bool(0), bool(0.0), bool(50), bool(-50))\n",
    "print(bool(None)) #값이 없다라는 것 자체를 말하고자 할 때"
   ]
  },
  {
   "cell_type": "markdown",
   "id": "b851436f",
   "metadata": {},
   "source": [
    "- 비교연산자 :변수에 어떤 값이 들어있을 지 모를 때, 값이 같은지 큰지 물어보는"
   ]
  },
  {
   "cell_type": "code",
   "execution_count": 25,
   "id": "57202b01",
   "metadata": {},
   "outputs": [
    {
     "name": "stdout",
     "output_type": "stream",
     "text": [
      "False\n",
      "True\n",
      "True\n",
      "False\n",
      "False\n",
      "True\n",
      "False\n",
      "True\n"
     ]
    }
   ],
   "source": [
    "print(age == 10)\n",
    "print(10 == 10)\n",
    "print(5 != 10)\n",
    "print(10 != 10)\n",
    "print(10 > 5)\n",
    "print(10 < 5)\n",
    "print(10 >= 10)"
   ]
  },
  {
   "cell_type": "markdown",
   "id": "bb5abfd2",
   "metadata": {},
   "source": [
    "- 비교연산자 문자열\n",
    "    - 사전식배열 생각하면 된다. 뒤로 갈 수록 큼.\n",
    "    - 특수문자 < 숫자 < 영문자 대 < 소 < 한글 // 아스키 코드\n",
    "    - 앞자리 부터 자리수 맞춰서 비교하는 것. -> 앞이 크면 뒤 비교 안 함. 사전이랑 같다고 생각하면 됨.\n"
   ]
  },
  {
   "cell_type": "code",
   "execution_count": 27,
   "id": "aadd5a78",
   "metadata": {},
   "outputs": [
    {
     "name": "stdout",
     "output_type": "stream",
     "text": [
      "False\n",
      "False\n",
      "97 98\n"
     ]
    }
   ],
   "source": [
    "# 비교연산자 문자열\n",
    "print('abc' == 'abd')\n",
    "print('a' > 'b') # 사전식배열 생각하면 된다. 뒤로 갈 수록 큼.\n",
    "print(ord('a'), ord('b')) #문자를 숫자로 변경"
   ]
  },
  {
   "cell_type": "code",
   "execution_count": 28,
   "id": "c57b1abf",
   "metadata": {},
   "outputs": [
    {
     "name": "stdout",
     "output_type": "stream",
     "text": [
      "35 48 65 97 44032\n"
     ]
    }
   ],
   "source": [
    "# 특수문자 < 숫자 < 영문자 대 < 소 < 한글 // 아스키 코드 ?\n",
    "print(ord('#'), ord('0'), ord('A'), ord('a'), ord('가'))"
   ]
  },
  {
   "cell_type": "code",
   "execution_count": 29,
   "id": "69c11d39",
   "metadata": {},
   "outputs": [
    {
     "name": "stdout",
     "output_type": "stream",
     "text": [
      "False\n"
     ]
    }
   ],
   "source": [
    "print('abcdf' > 'abcef') # 앞자리 부터 자리수 맞춰서 비교하는 것. 앞이 크면 뒤 비교 안 함. 사전이랑 같다고 생각하면 됨."
   ]
  },
  {
   "cell_type": "code",
   "execution_count": null,
   "id": "ed45a39b",
   "metadata": {},
   "outputs": [],
   "source": [
    "# 논리연산자 & | not ^\n",
    "num = 10 "
   ]
  },
  {
   "cell_type": "markdown",
   "id": "b0c44b6c",
   "metadata": {},
   "source": [
    "- num 이 5~20 사이의 숫자인가?\n",
    "    - 5 < num < 20 이 표기가 되긴 하는데 안 될 때가 있다. 안 하는 게 좋음.\n",
    "    - and 연산 사용. result = num > 5 and num < 20"
   ]
  },
  {
   "cell_type": "markdown",
   "id": "3385e0ce",
   "metadata": {},
   "source": [
    "- & 쓸 땐 꼭 ( ) 쳐주기. 아니면 비트 연산으로 인식할 수도 있다."
   ]
  },
  {
   "cell_type": "code",
   "execution_count": 33,
   "id": "858f1ad9",
   "metadata": {},
   "outputs": [
    {
     "name": "stdout",
     "output_type": "stream",
     "text": [
      "True\n",
      "True\n"
     ]
    }
   ],
   "source": [
    "result = (num > 5) & (num < 20) # & 쓸 땐 꼭 괄호 쳐주기. 아니면 비트 연산으로 인식할 수도 있다.\n",
    "print(result)\n",
    "\n",
    "#num 5~20 사이 밖의 숫자인가? 이때는 'or 연산자'\n",
    "#result = num < 5 or num > 20\n",
    "result = (num < 5) | (num > 20)\n",
    "\n",
    "print(not result) # 그렇다면 의미는 5~20 사이의 값인지를 물어보는 것과 동일하다!.\n",
    "# 연산자를 바꾸거나 not을 쓰거나 뭐 같은 거임."
   ]
  },
  {
   "cell_type": "code",
   "execution_count": 36,
   "id": "ec293f64",
   "metadata": {},
   "outputs": [
    {
     "data": {
      "text/plain": [
       "True"
      ]
     },
     "execution_count": 36,
     "metadata": {},
     "output_type": "execute_result"
    }
   ],
   "source": [
    "True ^ True # 둘이 같냐 XOR 연산자\n",
    "False ^ True"
   ]
  },
  {
   "cell_type": "markdown",
   "id": "3b7bf385",
   "metadata": {},
   "source": [
    "- **조건 연산자!!**\n",
    "    - '양수' if num >=0 else '음수'"
   ]
  },
  {
   "cell_type": "code",
   "execution_count": 40,
   "id": "b1cc3b5f",
   "metadata": {},
   "outputs": [
    {
     "name": "stdout",
     "output_type": "stream",
     "text": [
      "양수\n"
     ]
    }
   ],
   "source": [
    "# 조건이 맞으면 양수 조건이 아니다면 음수를 반환.\n",
    "num = 10\n",
    "var = '양수' if num >=0 else '음수'\n",
    "print(var)"
   ]
  },
  {
   "cell_type": "markdown",
   "id": "fea9b0c4",
   "metadata": {},
   "source": [
    "- None은 메모리 변수 공간에 비어져 있는 것이 아님. 그저 데이터가 없다는 것을 표시해주는 값. 나중에 할당하기 위해"
   ]
  },
  {
   "cell_type": "code",
   "execution_count": 41,
   "id": "ffbb730a",
   "metadata": {},
   "outputs": [
    {
     "name": "stdout",
     "output_type": "stream",
     "text": [
      "None\n"
     ]
    }
   ],
   "source": [
    "a = None\n",
    "print(a)"
   ]
  },
  {
   "cell_type": "code",
   "execution_count": 42,
   "id": "fecdc0ef",
   "metadata": {},
   "outputs": [
    {
     "name": "stdout",
     "output_type": "stream",
     "text": [
      "안녕\n",
      "하세요\n"
     ]
    }
   ],
   "source": [
    "# enter \n",
    "print('''안녕\n",
    "하세요''')"
   ]
  },
  {
   "cell_type": "markdown",
   "id": "9112a8e5",
   "metadata": {},
   "source": [
    "- escape 문자"
   ]
  },
  {
   "cell_type": "code",
   "execution_count": 18,
   "id": "cede677a",
   "metadata": {},
   "outputs": [
    {
     "name": "stdout",
     "output_type": "stream",
     "text": [
      "abc\bd\n",
      "abc\n",
      "ef\n",
      "ghi\n",
      "abc\n",
      "de\n",
      "ghi\n",
      "abc\tdef\n"
     ]
    }
   ],
   "source": [
    "# escape 문자\n",
    "\n",
    "#back space\n",
    "print('abc\\bd')\n",
    "\n",
    "#enter\n",
    "print('abc\\nef\\nghi')\n",
    "print('''abc\n",
    "de\n",
    "ghi''') \n",
    "\n",
    "#tap\n",
    "print('abc\\tdef')"
   ]
  },
  {
   "cell_type": "code",
   "execution_count": null,
   "id": "fc7b8bb8",
   "metadata": {},
   "outputs": [],
   "source": [
    "# \\을 escape문자가 아닌 구분자로 그대로 쓰고 싶을 때는 \\\\ 두개 쓰면 됨.\n",
    "print('a\\\\')\n",
    "print('\\\\n')"
   ]
  },
  {
   "cell_type": "markdown",
   "id": "02713bfc",
   "metadata": {},
   "source": [
    "-  r-string : escape 문자의 \\를 무시하고 싶을 땐\n",
    "    - print(r'\\t') : \\t가 고대로 출력.\n"
   ]
  },
  {
   "cell_type": "code",
   "execution_count": 52,
   "id": "cef48316",
   "metadata": {},
   "outputs": [
    {
     "name": "stdout",
     "output_type": "stream",
     "text": [
      "a\\\n",
      "\\n\n",
      "a\n",
      "\n",
      "a\\n\n"
     ]
    }
   ],
   "source": [
    "# escape 문자의 \\를 무시하고 싶을 땐 : r-string\n",
    "print('a\\n') # \\n이 적용되어 enter  적용됨.\n",
    "print(r'a\\n') # ''앞에 r 붙이면 됨. enter 안되고 문자열 그대로 출력."
   ]
  },
  {
   "cell_type": "code",
   "execution_count": 56,
   "id": "2862c91e",
   "metadata": {},
   "outputs": [
    {
     "name": "stdout",
     "output_type": "stream",
     "text": [
      "i'm a boy\n",
      "i'm a boy\n",
      "\"i'm boy\"\n"
     ]
    }
   ],
   "source": [
    "#문자열에서 '' \"\"을 그대로 출력하고 싶을 때\n",
    "print(\"i'm a boy\")\n",
    "\n",
    "# 만약 문자열에 \"\" '' 둘다 쓰고 싶다면? 그때는 escape 문자 사용하면 된다.\n",
    "print('i\\'m a boy') # 역슬러쉬 따음표는 진짜 따음표를 표시해줌 기억해두기!!!\n",
    "print('\"i\\'m boy\"')"
   ]
  },
  {
   "cell_type": "code",
   "execution_count": 55,
   "id": "39203dfe",
   "metadata": {},
   "outputs": [
    {
     "name": "stdout",
     "output_type": "stream",
     "text": [
      "dd\"acv\"dd\n"
     ]
    }
   ],
   "source": [
    "print('dd\"acv\"dd')"
   ]
  },
  {
   "cell_type": "code",
   "execution_count": 60,
   "id": "ea1fe0ac",
   "metadata": {},
   "outputs": [
    {
     "name": "stdout",
     "output_type": "stream",
     "text": [
      "a + b\n",
      "이름:홍길동\n",
      "나이 : 20 키 : 178.8\n"
     ]
    }
   ],
   "source": [
    "# 문자열 연산자\n",
    "print('a + b') #합친다.\n",
    "name = '홍길동'\n",
    "print(\"이름:\" + name)\n",
    "\n",
    "age = 20\n",
    "tall = 178.8\n",
    "print(\"나이 : \" + str(age) , \"키 : \" + str(tall) ) # 주의 피연산자 사이 , 필요하다. 까먹지 말기.\n"
   ]
  },
  {
   "cell_type": "code",
   "execution_count": 61,
   "id": "1ec88063",
   "metadata": {},
   "outputs": [
    {
     "name": "stdout",
     "output_type": "stream",
     "text": [
      "----------\n",
      "abcabcabcabcabcabcabcabcabcabc\n"
     ]
    }
   ],
   "source": [
    "print('-'*10)\n",
    "print('abc'*10)"
   ]
  },
  {
   "cell_type": "markdown",
   "id": "5b1b8bc7",
   "metadata": {},
   "source": [
    "- 문자열 글자수 세기 len()"
   ]
  },
  {
   "cell_type": "code",
   "execution_count": 20,
   "id": "8f172627",
   "metadata": {},
   "outputs": [
    {
     "name": "stdout",
     "output_type": "stream",
     "text": [
      "이순신 3\n",
      "12\n"
     ]
    }
   ],
   "source": [
    "print(name, len(name))\n",
    "print(len('djlfkjslkjfl'))"
   ]
  },
  {
   "cell_type": "markdown",
   "id": "8dea807b",
   "metadata": {},
   "source": [
    "- 문자열 내에 특정 문자열이 있는지 확인\n",
    "    - x in y\n",
    "        - y 문자열 안에 x 문자열이 있습니까?\n",
    "    - x not in y\n",
    "        - y 문자열 안에 x 문자열이 없습니까?"
   ]
  },
  {
   "cell_type": "code",
   "execution_count": 68,
   "id": "35d0e225",
   "metadata": {},
   "outputs": [
    {
     "name": "stdout",
     "output_type": "stream",
     "text": [
      "True True\n"
     ]
    }
   ],
   "source": [
    "# 문자열 내에 특정 문자열이 있는지 확인\n",
    "addr = \"서울시 서초구 서초동\"\n",
    "r = \"서초구\" in addr # addr 문자열 안에 \"서초구\" 문자열이 있나? 문자열이 같은 지 보는 게 아니라 그냥 포함이 되어 있느지 보는 것\n",
    "r1 = \"부산시\" not in addr #앞 문자열에 뒤 문자열에 없니?\n",
    "print(r, r1)"
   ]
  },
  {
   "cell_type": "code",
   "execution_count": 69,
   "id": "57ae8183",
   "metadata": {},
   "outputs": [
    {
     "name": "stdout",
     "output_type": "stream",
     "text": [
      "2\n"
     ]
    },
    {
     "data": {
      "text/plain": [
       "5"
      ]
     },
     "execution_count": 69,
     "metadata": {},
     "output_type": "execute_result"
    }
   ],
   "source": [
    "# 이렇게 해도 출력이 되는데 근데 여러 개 하면 마지막 값만 출력 된다.\n",
    "# 되도 꼭 print 해주기\n",
    "1 + 1 \n",
    "2 + 4\n",
    "3 + 2"
   ]
  },
  {
   "cell_type": "code",
   "execution_count": 72,
   "id": "9ee4c2c8",
   "metadata": {},
   "outputs": [
    {
     "data": {
      "text/plain": [
       "'a'"
      ]
     },
     "execution_count": 72,
     "metadata": {},
     "output_type": "execute_result"
    }
   ],
   "source": [
    "# 이렇게 print할 때와 달리 ''가 붙어서 출력이 된다.\n",
    "\"a\""
   ]
  },
  {
   "cell_type": "code",
   "execution_count": 73,
   "id": "57c2db81",
   "metadata": {},
   "outputs": [
    {
     "name": "stdout",
     "output_type": "stream",
     "text": [
      "a\n"
     ]
    }
   ],
   "source": [
    "print(\"a\")"
   ]
  },
  {
   "cell_type": "markdown",
   "id": "0eff0130",
   "metadata": {},
   "source": [
    "- , 구분자 : print 출력하려는 값들이 여러 개일 경우 주의.\n",
    "    - sep('') : |로 구분하고 싶다면?\n",
    "        - print(\"a\", 20, \"30\", 3.333, sep = '|')\n",
    "        - 출력 : a|20|30|3.333"
   ]
  },
  {
   "cell_type": "code",
   "execution_count": 75,
   "id": "bcfbee18",
   "metadata": {},
   "outputs": [
    {
     "name": "stdout",
     "output_type": "stream",
     "text": [
      "a 20 30 3.333\n",
      "a|20|30|3.333\n"
     ]
    }
   ],
   "source": [
    "# 출력하려는 값들이 여러개일 경우 , 를 구분자로 해서 나열\n",
    "print(\"a\", 20, \"30\", 3.333)\n",
    "# |로 구분하고 싶다면? sep('')\n",
    "print(\"a\", 20, \"30\", 3.333, sep = '|')"
   ]
  },
  {
   "cell_type": "code",
   "execution_count": null,
   "id": "96035d8c",
   "metadata": {},
   "outputs": [],
   "source": [
    "# print() 출력할 값 뒤에 엔터를 기본적으로 붙인뒤 출력한다. 그래서 다음 출력은 다음줄에 나온다.\n",
    "print('abc')\n",
    "print('def')"
   ]
  },
  {
   "cell_type": "markdown",
   "id": "361dfdfb",
   "metadata": {},
   "source": [
    "- print 출력 시 출력과 출력 사이 enter 대신 다른 구분자를 출력하는 방법\n",
    "    - print('abc', end='')\n",
    "\n",
    "      print('def')\n",
    "    - abc-def\n"
   ]
  },
  {
   "cell_type": "code",
   "execution_count": 77,
   "id": "9b27dd41",
   "metadata": {},
   "outputs": [
    {
     "name": "stdout",
     "output_type": "stream",
     "text": [
      "abc\n",
      "def\n",
      "abc-def\n",
      "abcdef\n"
     ]
    }
   ],
   "source": [
    "# end는 출력할 값 뒤에 붙일 값을 변경한다. enter 되지 않고 - 가 붙어서\n",
    "# print 따로 입력하고 싶은데 출력이 옆에 붙어서 나왔으면 좋겠을 때\n",
    "print('abc', end='-')\n",
    "print('def')\n",
    "print('abc', end='')\n",
    "print('def')"
   ]
  },
  {
   "cell_type": "code",
   "execution_count": 78,
   "id": "9b2687ee",
   "metadata": {},
   "outputs": [
    {
     "name": "stdout",
     "output_type": "stream",
     "text": [
      "안녕하세요. 반갑습니다.\n"
     ]
    }
   ],
   "source": [
    "# 인덱싱\n",
    "s= \"안녕하세요. 반갑습니다.\"\n",
    "print(s) # 전체를 출력."
   ]
  },
  {
   "cell_type": "code",
   "execution_count": 84,
   "id": "1c31fa6d",
   "metadata": {},
   "outputs": [
    {
     "name": "stdout",
     "output_type": "stream",
     "text": [
      "세 번째 글자. 2번 index 글자 : 하\n",
      "뒤에서 2번째 글자 : 다 다\n"
     ]
    }
   ],
   "source": [
    "# 양수 인덱스 앞에서 0부터 시작\n",
    "print(\"세 번째 글자. 2번 index 글자 :\",s[2]) # 세번째 글자가 무엇인지\n",
    "\n",
    "#음수 인덱스 뒤에서 -1부터 시작\n",
    "print(\"뒤에서 2번째 글자 :\", s[-2], s[11]) # 뒤쪽이라 새기 힘들 땐 뒤에서 -1부터 시작."
   ]
  },
  {
   "cell_type": "markdown",
   "id": "a447d445",
   "metadata": {},
   "source": [
    "- 문자열의 특정 문자를 변경할 수 없다. error 발생 문자열의 일부의 값을 바꾸는 게 안된다는 의미.\n",
    "- s = 'hello' 전부를 바꾸는 것은 인덱스 안 문자를 바꾸는 의미가 아니라 기존 값을 버리고 다른 값을 대입하는 의미. 변수가 가진 값 자체를 바꾼 것.\n",
    "- s[3] = '가'"
   ]
  },
  {
   "cell_type": "code",
   "execution_count": 91,
   "id": "1b27f2e6",
   "metadata": {},
   "outputs": [
    {
     "name": "stdout",
     "output_type": "stream",
     "text": [
      "14\n",
      "cegi\n",
      "cdefghij\n",
      "adgjm\n"
     ]
    },
    {
     "data": {
      "text/plain": [
       "'mlkjihgfe'"
      ]
     },
     "execution_count": 91,
     "metadata": {},
     "output_type": "execute_result"
    }
   ],
   "source": [
    "# 문자열 슬라이싱\n",
    "s= \"abcdefghijklmn\"\n",
    "\n",
    "print(len(s)) # 14글자 - index : 0~13\n",
    "print(s[2:10:2]) #범위 : 2 ~ 9 (10-1) 간격 : 2 -> 2,4,6,8 \n",
    "\n",
    "print(s[2:10]) # 간격 생략 - 기본값 : 1 //생략 할 때는 :도 생략할 수 있음 \n",
    "\n",
    "s[:10] # 시작 생략 - 기본값 : 0 -> 0~9\n",
    "s[10:] #종료 생략 시 마지막 index까지 조회 10~13\n",
    "print(s[::3]) #전체에서 3칸씩\n",
    "\n",
    "s[5:1] # 시작 5 ~ 종료 2 이때 간격을 안 적으면 안됨. 생략하면 기본값이 1이다. \n",
    "# 구간은 5~2 인데 간격은 1. 5에서 간격 1은 6인데 없다. 값이 안 나옴.\n",
    "s[5:1:-1] # 시작 5 ~ 종료 2 -> 5,4,3,2\n",
    "\n",
    "s[::-1] #전체 구간에서 -1씩 reverse\n",
    "\n",
    "s[-2:3:-1] #-2에서 4까지 구간에서 증감치는 -1로 한 칸씩 거꾸로 간다. "
   ]
  },
  {
   "cell_type": "markdown",
   "id": "9c48e3ea",
   "metadata": {},
   "source": [
    "### - **formatting!!**\n",
    "- 넣어줄 레이아웃을 일단 비운 상태로 만들어줌.\n",
    "    - info_layout = \"이름: {}\\n나이: {}\\n주소:{}\"\n",
    "    - info1 = info_layout.format(name1,age1, addr1)\n",
    "    - print(info1)\n",
    "- 바로 써줄 수 도 있음.\n",
    "    - print(\"이름: {}\\n나이: {}\\n주소: {}\".format(name1, age2, addr3))"
   ]
  },
  {
   "cell_type": "code",
   "execution_count": 116,
   "id": "48c05481",
   "metadata": {
    "scrolled": true
   },
   "outputs": [
    {
     "name": "stdout",
     "output_type": "stream",
     "text": [
      "이름: {}\n",
      "나이: {}\n",
      "주소:{}\n",
      "이름: 홍길동\n",
      "나이: 10\n",
      "주소:서울\n",
      "이름: 이순신\n",
      "나이: 20\n",
      "주소:인천\n",
      "이름: 강감찬\n",
      "나이: 30\n",
      "주소:부산\n"
     ]
    }
   ],
   "source": [
    "# formatting 문자열\n",
    "name1, age1, addr1 = '홍길동', 10, '서울'\n",
    "name2, age2, addr2 = '이순신', 20, '인천'\n",
    "name3, age3, addr3 = '강감찬', 30, '부산'\n",
    "# 이렇게 끊어서 써주는 것 아주 귀찮.\n",
    "info1 = \"이름:\" + name1 +\"\\n나이:\" + str(age1) + \"세\\n주소:\" + addr1\n",
    "info2 = \"이름:\" + name2 + \"\\n나이:\" + str(age2) +\"세\\n주소:\" + addr2\n",
    "#print(info1)\n",
    "#print(info2)\n",
    "\n",
    "#{} : 나중에 값이 들어갈 자리\n",
    "info_layout = \"이름: {}\\n나이: {}\\n주소:{}\"\n",
    "#name1->첫번째{}, age1->두번째{}, addr-> 세번째{}에 넣어서 문자열 string을 완성\n",
    "print(info_layout)\n",
    "info1 = info_layout.format(name1,age1, addr1)\n",
    "print(info1)\n",
    "\n",
    "print(info_layout.format(name2, age2, addr2))\n",
    "print(info_layout.format(name3, age3, addr3))\n"
   ]
  },
  {
   "cell_type": "code",
   "execution_count": 104,
   "id": "0c49ffce",
   "metadata": {},
   "outputs": [
    {
     "name": "stdout",
     "output_type": "stream",
     "text": [
      "이름: 홍길동\n",
      "나이: 20\n",
      "주소: 부산\n"
     ]
    }
   ],
   "source": [
    "# 하나이여도 이렇게 써주는 게 편함. \n",
    "# format 쓸 때 정수가 들어간 변수를 바로 넣어도 str 변환 할 필요 없다. \n",
    "# format에 넣으면 문자열로 인식.\n",
    "\n",
    "# {} 이랑 format() 갯수가 안 맞으면 오류\n",
    "print(\"이름: {}\\n나이: {}\\n주소: {}\".format(name1, age2, addr3))"
   ]
  },
  {
   "cell_type": "markdown",
   "id": "78e54354",
   "metadata": {},
   "source": [
    "- 출력칸 더블클릭하면 숨겨짐. 출력이 길 경우에는 클릭 한 번 하면 반만 접힌다."
   ]
  },
  {
   "cell_type": "code",
   "execution_count": 114,
   "id": "91a8b3f5",
   "metadata": {},
   "outputs": [
    {
     "name": "stdout",
     "output_type": "stream",
     "text": [
      "상의:니트 하의:치마 치수:25\n",
      "상의:반팔 하의:바지 치수:27\n",
      "상의:니트 하의:치마 치수:25\n",
      "상의:니트 하의:치마 치수:25\n"
     ]
    }
   ],
   "source": [
    "# 내가 한 번 해보기\n",
    "a1, b1, c1 = \"니트\", \"치마\", 25\n",
    "a2, b2, c2 = \"반팔\", \"바지\", 27\n",
    "cloth_layout= \"상의:{} 하의:{} 치수:{}\"\n",
    "\n",
    "one_info = cloth_layout.format(a1,b1,c1)\n",
    "two_info = cloth_layout.format(a2,b2,c2)\n",
    "\n",
    "print(one_info)\n",
    "print(two_info)\n",
    "\n",
    "# 바로 써도 무방. 아님 위처럼 레이아웃 자체도 변수 선언 안 하고 바로 넣어도 무방.\n",
    "print(cloth_layout.format(a1, b1, c1))\n",
    "print(\"상의:{} 하의:{} 치수:{}\".format(a1, b1, c1))"
   ]
  },
  {
   "cell_type": "code",
   "execution_count": 123,
   "id": "ee13ca35",
   "metadata": {},
   "outputs": [
    {
     "name": "stdout",
     "output_type": "stream",
     "text": [
      "이름: 홍길동\n",
      "나이: 10\n",
      "주소: 서울 \n",
      "이름: 홍길동\n"
     ]
    }
   ],
   "source": [
    "# [0] : 첫번째 값을 넣어라.\n",
    "# 동일한 값을 여러군데에서 사용할 경우.\n",
    "# 아래 처럼 {} 안에 순번을 의미하는 정수를 입력하면 갯수 안 맞춰도 됨.\n",
    "print(\"이름: {0}\\n나이: {2}\\n주소: {1} \\n이름: {0}\".format(name1, addr1, age1))"
   ]
  },
  {
   "cell_type": "code",
   "execution_count": 122,
   "id": "bd350001",
   "metadata": {},
   "outputs": [
    {
     "name": "stdout",
     "output_type": "stream",
     "text": [
      "이름: 홍길동\n",
      "나이: 10\n",
      "주소: 서울\n",
      "이름: 홍길동\n"
     ]
    }
   ],
   "source": [
    "#{name}: 괄호의 이름지정. 값 전달 시 괄호 이름 = 값\n",
    "print(\"이름: {name}\\n나이: {age}\\n주소: {addr}\\n이름: {name}\".format(name=name1, age=age1, addr=addr1))"
   ]
  },
  {
   "cell_type": "markdown",
   "id": "f19463b9",
   "metadata": {},
   "source": [
    "- 형식문자를 이용한 문자열 formatting\n",
    "    - %s : string, %d : int, %f : float"
   ]
  },
  {
   "cell_type": "code",
   "execution_count": 129,
   "id": "6a07e553",
   "metadata": {},
   "outputs": [
    {
     "name": "stdout",
     "output_type": "stream",
     "text": [
      "이름:홍길동, 나이:23, 몸무게:72.700000\n",
      "이름:홍길동, 나이:23, 몸무게:72.70\n"
     ]
    }
   ],
   "source": [
    "# 실수형은 최소 6자리로 맞춘다. 6자리보다 넘으면 더 써지는데 그 보다 작으면 6자리까지 0찍힘.\n",
    "name, age, weight = \"홍길동\", 23, 72.7\n",
    "info = \"이름:%s, 나이:%d, 몸무게:%f\" %(name, age, weight)\n",
    "\n",
    "# %.2f : 소수점 두자리까지 쓰라는 뜻.\n",
    "info1 = \"이름:%s, 나이:%d, 몸무게:%.2f\" %(name, age, weight)\n",
    "print(info)\n",
    "print(info1)"
   ]
  },
  {
   "cell_type": "markdown",
   "id": "12460ff0",
   "metadata": {},
   "source": [
    "- f-string 파이썬 3.6에서 추가된 형식. \n",
    "    - 재사용 계속 불러올 필요 없이 한 번만 그저 출력을 한다면? \n",
    "    - 재사용 할 때는 format이 편할 수도. 그게 아니면 레이아웃 만들며 바로 적용하자."
   ]
  },
  {
   "cell_type": "code",
   "execution_count": 131,
   "id": "d9ec40c1",
   "metadata": {},
   "outputs": [
    {
     "name": "stdout",
     "output_type": "stream",
     "text": [
      "이름: 홍길동, 나이: 23, 몸무게: 72.7\n"
     ]
    }
   ],
   "source": [
    "name, age, weight = \"홍길동\", 23, 72.7\n",
    "print(f\"이름: {name}, 나이: {age}, 몸무게: {weight}\")"
   ]
  },
  {
   "cell_type": "markdown",
   "id": "ffc78e93",
   "metadata": {},
   "source": [
    "- {변수명 : 정렬 정밀도 타입} "
   ]
  },
  {
   "cell_type": "code",
   "execution_count": 138,
   "id": "3857748d",
   "metadata": {},
   "outputs": [
    {
     "name": "stdout",
     "output_type": "stream",
     "text": [
      "이름:   홍길동, 나이: 23, 몸무게: 72.7\n",
      "이름: 홍길동\n",
      "이름:    홍길동\n"
     ]
    }
   ],
   "source": [
    "# 정렬\n",
    "\n",
    "# >5 오른쪽 정렬인데 5칸을 생각하고 오른쪽부터 정렬해서 홍길동 그니깐 앞에 두칸 띄우짐.\n",
    "print(f\"이름: {name:>5}, 나이: {age}, 몸무게: {weight}\")\n",
    "\n",
    "# 만약 글자수 이하 값을 지정했다. 그냥 출력 하는 것. 최소 자리수를 의미하는 것. 글자를 자르는 게 아님.\n",
    "print(f\"이름: {name:<2}\")\n",
    "print(f\"이름: {name:>6}\") \n",
    "# 사실 뭐 좌측할 때는 필요없는데 우측정렬 필요할 때 주로 쓰임."
   ]
  },
  {
   "cell_type": "code",
   "execution_count": 142,
   "id": "de46d4c4",
   "metadata": {},
   "outputs": [
    {
     "name": "stdout",
     "output_type": "stream",
     "text": [
      "이름:   홍길동, 나이: 23, 몸무게: 81.45\n"
     ]
    }
   ],
   "source": [
    "# 정밀도 : 실수형에서 주로 .2f\n",
    "\n",
    "# .2f 실수형 들어 올 것인데 소수점 두자리까지 반올림.\n",
    "weight = 81.4497\n",
    "print(f\"이름: {name:>5}, 나이: {age}, 몸무게: {weight:.2f}\")"
   ]
  },
  {
   "cell_type": "code",
   "execution_count": 26,
   "id": "5096f7bf",
   "metadata": {},
   "outputs": [
    {
     "ename": "ValueError",
     "evalue": "Unknown format code 'd' for object of type 'str'",
     "output_type": "error",
     "traceback": [
      "\u001b[1;31m---------------------------------------------------------------------------\u001b[0m",
      "\u001b[1;31mValueError\u001b[0m                                Traceback (most recent call last)",
      "\u001b[1;32m~\\AppData\\Local\\Temp/ipykernel_3620/1348269736.py\u001b[0m in \u001b[0;36m<module>\u001b[1;34m\u001b[0m\n\u001b[0;32m      2\u001b[0m \u001b[1;33m\u001b[0m\u001b[0m\n\u001b[0;32m      3\u001b[0m \u001b[1;31m# 들어오는 변수와 타입이 당연히 같아야 한다.\u001b[0m\u001b[1;33m\u001b[0m\u001b[1;33m\u001b[0m\u001b[0m\n\u001b[1;32m----> 4\u001b[1;33m \u001b[0mprint\u001b[0m\u001b[1;33m(\u001b[0m\u001b[1;34mf\"이름:{name:d}\"\u001b[0m\u001b[1;33m)\u001b[0m\u001b[1;33m\u001b[0m\u001b[1;33m\u001b[0m\u001b[0m\n\u001b[0m\u001b[0;32m      5\u001b[0m \u001b[1;33m\u001b[0m\u001b[0m\n\u001b[0;32m      6\u001b[0m \u001b[1;31m# 이렇게 쓰면 오류. d 라는 것은 정수 변수가 들어온다는 것. 근데 지금 문자열 변수가 들어가 있다.\u001b[0m\u001b[1;33m\u001b[0m\u001b[1;33m\u001b[0m\u001b[0m\n",
      "\u001b[1;31mValueError\u001b[0m: Unknown format code 'd' for object of type 'str'"
     ]
    }
   ],
   "source": [
    "# 타입 : f-실수, d-정수, s-문자열\n",
    "\n",
    "# 들어오는 변수와 타입이 당연히 같아야 한다.\n",
    "print(f\"이름:{name:d}\") \n",
    "\n",
    "# 이렇게 쓰면 오류. d 라는 것은 정수 변수가 들어온다는 것. 근데 지금 문자열 변수가 들어가 있다.\n"
   ]
  },
  {
   "cell_type": "markdown",
   "id": "f6d559a1",
   "metadata": {},
   "source": [
    "### 문자열 관련 함수/ 메소드"
   ]
  },
  {
   "cell_type": "code",
   "execution_count": 147,
   "id": "60211f1f",
   "metadata": {},
   "outputs": [
    {
     "name": "stdout",
     "output_type": "stream",
     "text": [
      "['사과', '귤', '배', '수박', '복숭아']\n"
     ]
    }
   ],
   "source": [
    "#  s.split()\n",
    "\n",
    "# 문자열을 쪼개고 싶다. 토큰화하고 싶다. s.split // 쪼갠 단위를 토큰이라고 한다.\n",
    "# 그럼 list 된다.!\n",
    "\n",
    "s = \"사과|귤|배|수박|복숭아\"\n",
    "print(s.split('|')) #list "
   ]
  },
  {
   "cell_type": "code",
   "execution_count": 150,
   "id": "2fd67504",
   "metadata": {},
   "outputs": [
    {
     "data": {
      "text/plain": [
       "'ab c'"
      ]
     },
     "execution_count": 150,
     "metadata": {},
     "output_type": "execute_result"
    }
   ],
   "source": [
    "# s.strip()\n",
    "\n",
    "# 공백 없애는 함수\n",
    "# 중간 공백을 없애는 함수는 없다. 로직으로 할 순 있지만\n",
    "\n",
    "s2 = \"      ab c       \"\n",
    "s2.lstrip() #왼쪽 공백을 없애는 것.\n",
    "s2.rstrip() #오른쪽 공백 없애는 것.\n",
    "s2.strip() #공백 없애기.\n"
   ]
  },
  {
   "cell_type": "code",
   "execution_count": 151,
   "id": "709dc383",
   "metadata": {},
   "outputs": [
    {
     "data": {
      "text/plain": [
       "'가c가c가c'"
      ]
     },
     "execution_count": 151,
     "metadata": {},
     "output_type": "execute_result"
    }
   ],
   "source": [
    "# s.replace()\n",
    "\n",
    "s3 = \"abcabcabc\"\n",
    "s3.replace('ab', '가') #ab 를 가 로 변경. 글자수 상관없이 그냥 대체 하는 것.\n"
   ]
  },
  {
   "cell_type": "code",
   "execution_count": 152,
   "id": "b6ceec43",
   "metadata": {},
   "outputs": [
    {
     "data": {
      "text/plain": [
       "3"
      ]
     },
     "execution_count": 152,
     "metadata": {},
     "output_type": "execute_result"
    }
   ],
   "source": [
    "# s.count()\n",
    "\n",
    "# 문자열 안에 특정 문자 or 문자열이 몇 개 인지?\n",
    "len(s3) #s3의 전체 글자수 세는 함수.\n",
    " \n",
    "s3.count('a')\n",
    "s3.count('ab')"
   ]
  },
  {
   "cell_type": "code",
   "execution_count": 153,
   "id": "27a3ca6a",
   "metadata": {},
   "outputs": [
    {
     "data": {
      "text/plain": [
       "0"
      ]
     },
     "execution_count": 153,
     "metadata": {},
     "output_type": "execute_result"
    }
   ],
   "source": [
    "# s.index()\n",
    "\n",
    "# 특정 문자열이 몇 번째에 있는지 알고 싶을 때\n",
    "# 없는 것을 찾으면 error\n",
    "\n",
    "s3[1]\n",
    "s3.index('a') #'a' 의 index. 앞에서 처음 나온 index를 반환\n",
    "s3.index('ab') "
   ]
  },
  {
   "cell_type": "code",
   "execution_count": 155,
   "id": "55f5298a",
   "metadata": {},
   "outputs": [
    {
     "name": "stdout",
     "output_type": "stream",
     "text": [
      "True\n"
     ]
    }
   ],
   "source": [
    "# s.find()\n",
    "\n",
    "# 특정 문자열이 몇 번째에 있는지 알고 싶을 때\n",
    "# 없는 문자열을 찾을 경우 -1을 반환\n",
    "\n",
    "s3.find('a')\n",
    "s3.find('bc')\n",
    "\n",
    "#s3.index('가') # 없는 것을 찾으면 error\n",
    "s3.find('가') # 없는 문자열을 찾을 경우 -1을 반환\n",
    "\n",
    "# 이렇게 쓰일 수 있음. 이 뜻은 이 문자열에 \"가\"가 없다는 것을 bool로 반환받음.\n",
    "print( s3.find('가')== -1  )\n"
   ]
  },
  {
   "cell_type": "code",
   "execution_count": 156,
   "id": "2582556f",
   "metadata": {},
   "outputs": [
    {
     "data": {
      "text/plain": [
       "'adldf'"
      ]
     },
     "execution_count": 156,
     "metadata": {},
     "output_type": "execute_result"
    }
   ],
   "source": [
    "# s.upper() 대문자로\n",
    "# s.lower() 소문자로\n",
    " \n",
    "s4 = \"ADldf\"\n",
    "s4.upper()\n",
    "s4.lower()"
   ]
  },
  {
   "cell_type": "code",
   "execution_count": 158,
   "id": "96f95a80",
   "metadata": {},
   "outputs": [
    {
     "data": {
      "text/plain": [
       "False"
      ]
     },
     "execution_count": 158,
     "metadata": {},
     "output_type": "execute_result"
    }
   ],
   "source": [
    "# s.startswith()\n",
    "# 첫글자부터 이렇게 시작하냐를 bool로 \n",
    "addr =\"서울시 서대문구\"\n",
    "addr.startswith(\"서울\")\n",
    "addr.startswith(\"광주\")\n",
    "\n",
    "#s.endswith()\n",
    "# 파일 확장자명 찾고 싶을 때 쓰일 수 있다.\n",
    "url = \"www.naver.com\"\n",
    "url.endswith(\".com\")\n",
    "url.endswith(\".net\")\n",
    "\n",
    "# 중간에 있는 문자가 있는 알고 싶을 때 in, not in"
   ]
  },
  {
   "cell_type": "markdown",
   "id": "ec60a943",
   "metadata": {},
   "source": [
    "- input() : 입력함수. 사용자로부터 값을 입력받을 때. str 값으로 반환"
   ]
  },
  {
   "cell_type": "code",
   "execution_count": 163,
   "id": "02acc24c",
   "metadata": {},
   "outputs": [
    {
     "name": "stdout",
     "output_type": "stream",
     "text": [
      "245\n",
      "245\n"
     ]
    }
   ],
   "source": [
    "# 타입변환\n",
    "# input() : 사용자로부터 값을 입력받을 때 사용. 입력받은 값을 str으로 반환\n",
    "# 숫자를 입력해도 str으로 반환한다. 주피터 노트북에서는\n",
    "num1 = input()\n",
    "print(num1)"
   ]
  },
  {
   "cell_type": "markdown",
   "id": "e7c551f5",
   "metadata": {},
   "source": [
    "- [*]은 아직 해당 셀이 실행 중이라는 것이다. 이 상태에서 아래 셀 실행 시키면 출력 안됨.\n",
    "- 아래 실행 시킬 셀도 [*]라고 뜸. 이것은 대기 중인 셀이리는 뜻이다.\n",
    "- 위 셀이 끝나야 아래 셀이 실행되는 것. 안 끝나면 아래 셀은 대기."
   ]
  },
  {
   "cell_type": "markdown",
   "id": "bca7bfbf",
   "metadata": {},
   "source": [
    "### - 데이터 타입 변환"
   ]
  },
  {
   "cell_type": "code",
   "execution_count": 168,
   "id": "e6e9a937",
   "metadata": {},
   "outputs": [
    {
     "name": "stdout",
     "output_type": "stream",
     "text": [
      "정수1:70\n",
      "70\n",
      "정수2:70\n",
      "70\n",
      "7070\n",
      "140\n",
      "140.0\n"
     ]
    }
   ],
   "source": [
    "num1 = input(\"정수1:\")  # 괄호 안에 문자열 써주면 출력. 라벨처럼 사용.\n",
    "print(num1) # 출력은 입력한 값만 출력.\n",
    "\n",
    "num2 = input(\"정수2:\")\n",
    "print(num2)\n",
    "\n",
    "print(num1 + num2) # 문자열이기에 245245 이런 식으로 문자열이 붙어서 나옴.\n",
    "\n",
    "print(int(num1) + int(num2))\n",
    "print(float(num1) + float(num2))"
   ]
  },
  {
   "cell_type": "code",
   "execution_count": 170,
   "id": "cea2e046",
   "metadata": {},
   "outputs": [
    {
     "name": "stdout",
     "output_type": "stream",
     "text": [
      "3\n"
     ]
    },
    {
     "data": {
      "text/plain": [
       "3"
      ]
     },
     "execution_count": 170,
     "metadata": {},
     "output_type": "execute_result"
    }
   ],
   "source": [
    "# float(), int()는 변환가능한 형태의 문자열만 변환. 숫자 형태여야 숫자 데이터로 바꿀 수 있는 것.\n",
    "s = input()\n",
    "int(s) #abc를 입력받았는데 정수로 변환시킬 수가 있나? 당연히 없다. "
   ]
  },
  {
   "cell_type": "code",
   "execution_count": 172,
   "id": "d973d7cc",
   "metadata": {},
   "outputs": [
    {
     "data": {
      "text/plain": [
       "0"
      ]
     },
     "execution_count": 172,
     "metadata": {},
     "output_type": "execute_result"
    }
   ],
   "source": [
    "int(True) #True : 1\n",
    "int(False) #False : 0\n"
   ]
  },
  {
   "cell_type": "code",
   "execution_count": 173,
   "id": "a957f7b0",
   "metadata": {},
   "outputs": [
    {
     "name": "stdout",
     "output_type": "stream",
     "text": [
      "4\n"
     ]
    }
   ],
   "source": [
    "# input()함수를 쓸 때 애초에 정수 선언할 순 없다. 무조건 string \n",
    "# 만약 정수로 받고 싶다면 아래와 같이 한줄로 쓸 순 있다.\n",
    "a = int(input())"
   ]
  }
 ],
 "metadata": {
  "kernelspec": {
   "display_name": "Python 3 (ipykernel)",
   "language": "python",
   "name": "python3"
  },
  "language_info": {
   "codemirror_mode": {
    "name": "ipython",
    "version": 3
   },
   "file_extension": ".py",
   "mimetype": "text/x-python",
   "name": "python",
   "nbconvert_exporter": "python",
   "pygments_lexer": "ipython3",
   "version": "3.9.7"
  }
 },
 "nbformat": 4,
 "nbformat_minor": 5
}
