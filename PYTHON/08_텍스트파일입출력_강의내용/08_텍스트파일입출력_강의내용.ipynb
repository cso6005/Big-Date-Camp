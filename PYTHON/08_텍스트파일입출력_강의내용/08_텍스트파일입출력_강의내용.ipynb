{
 "cells": [
  {
   "cell_type": "markdown",
   "id": "e10ceb83",
   "metadata": {},
   "source": [
    "- 텍스트(입출력할 데이터 종류) 파일(입출력할 대상) 입출력 을 뜻한다.\n",
    "\n",
    "# 1. 입출력 개요\n",
    "1. 경로란?\n",
    "\n",
    "- 파일, 디렉토리 위치 -> 자원의 위치. 프로그램이 사용할 자원의 위치\n",
    "\n",
    "\n",
    "\n",
    "2. 경로 표현 방법\n",
    "\n",
    "- ROOT 디렉토리 : 시작 디렉토리\n",
    "\n",
    "- 윈도우 -> C: , d:\n",
    "\n",
    "- 리눅스, 유닉스 ->  /\n",
    "\n",
    "\n",
    "\n",
    "(1) 절대경로\n",
    "\n",
    "- 시작 디렉토리부터 자원(파일, 디렉토리)의 위치를 표현한다.\n",
    "\n",
    "    - 시작 디렉토리 : root 디렉토리\n",
    "\n",
    "    - ex. 파일 경로 c:\\class\\p1.pdf    디렉토리 경로  c:\\class\\lib  #윈도우\n",
    "\n",
    "- 자원의 전체 경로를 경로를 표현하는 방식\n",
    "\n",
    "- 장점 : 같은 데이터라면 항상 경로 고정 (오류 확률 낮다.)    - 단점 : 길다\n",
    "\n",
    "\n",
    "\n",
    "(2) 상대경로\n",
    "\n",
    "- 현재 디렉토리(위치)로부터 찾아가는 경로 표현방식\n",
    "       - 시작  :  현재 디렉토리\n",
    "\n",
    "- 장점 : 짧다       - 단점 : 같은 데이터라도 현 위치에 따라 경로가 다르다 (오류 확률 높다.)\n",
    "\n",
    "- 구문\n",
    "  -  .    : 현재 디렉토리\n",
    "  - ..    : 상위 디렉토리\n",
    "      - 윈도우즈  \\   리눅스 유닉스 / : 경로 구분자   ->  하위 계층으로 가라.\n",
    "\n",
    "- ex.   현재 디렉토리 c:\\class \n",
    "    - .\\p1.pdf  => 현재(.)디렉토리의 하위 계층(\\)으로 가라. \n",
    "    -보통 .\\은 생략한다. p1.pdf\n",
    "\n",
    "- ex.   현재 디렉토리 c:\\class \n",
    "\n",
    "     .\\01_PYTHON\\a.txt  => 현 디렉토리의 하위 계층에서 파이썬 폴더의 하위계층에서 해당 파일을.   보통 .\\은 생략한다.  보통 .\\은 생략한다. 01_PYTHON\\a.txt \n",
    "\n",
    "\n",
    "\n",
    "- ex.   현재 디렉토리 c:\\lntel\\n  => 현 디렉토리에서 나와서 다른 디렉토리로 가야 한다. \n",
    "\n",
    "     .\\..\\..\\class\\01_PYTHON\\a.txt \n",
    "\n",
    "보통 .\\은 생략한다. ..\\..\\class\\01_PYTHON\\a.txt \n",
    "\n",
    "\n",
    "\n",
    "** 경로구분자 만날 때 마다 그 해당 디렉토리에 들어간다고 생각하자. ** 계층구조 이해하기(이미지로 생각)"
   ]
  },
  {
   "cell_type": "markdown",
   "id": "7a21c36a",
   "metadata": {},
   "source": [
    "- 현재 경로 - workdirectory 경로 조회"
   ]
  },
  {
   "cell_type": "code",
   "execution_count": 4,
   "id": "ace03ef2",
   "metadata": {},
   "outputs": [
    {
     "name": "stdout",
     "output_type": "stream",
     "text": [
      "C:\\Users\\CSYJ\\SW STUDY\\BIG DATA class\\PYTHON class\n"
     ]
    }
   ],
   "source": [
    "# 현재 경로 - workdirectory 경로 조회\n",
    "\n",
    "import os # os 모듈을 import\n",
    "cwd = os.getcwd()   # current work directory\n",
    "print(cwd)  # 상대경로의 현재위치가 된다. ( . )\n",
    "# p = .\\a\\b\\abc.txt"
   ]
  },
  {
   "cell_type": "markdown",
   "id": "1f78edf5",
   "metadata": {},
   "source": [
    "# 입출력\n",
    "- text 입출력(.txt파일), binary 입출력(.txt제외한 파일, string 제외)\n",
    "\n",
    "## text 입출력\n",
    "- 문자열(string)을 입/출력 하는 것.\n",
    "- 메모장으로 볼 수 있으면 text\n",
    "\n"
   ]
  },
  {
   "cell_type": "code",
   "execution_count": 14,
   "id": "4cb259c7",
   "metadata": {},
   "outputs": [
    {
     "name": "stdout",
     "output_type": "stream",
     "text": [
      "안녕하세요\n",
      "반갑습니다.\n",
      "오늘도 즐거운 하루되세요.\n"
     ]
    }
   ],
   "source": [
    "# 출력 데이터\n",
    "txt = \"\"\"안녕하세요\n",
    "반갑습니다.\n",
    "오늘도 즐거운 하루되세요.\"\"\"\n",
    "print(txt)"
   ]
  },
  {
   "cell_type": "markdown",
   "id": "693e9499",
   "metadata": {},
   "source": [
    "### 인코딩\n",
    "\n",
    "- 우리가 \"A\"을 작성한다고 해서 그대로 저장되는 게 아님. 기계어 O과 1로 저장되어야 한다. 숫자 10진수는 2진수 바꾸는 방법 우리가 안다. 그렇다면, 문자열을 이진수로 어떻게 바꾸냐? 약속한 표를 만들었다.\n",
    "    - ASC 코드 : 8bit로 정의한 코드 2\\**8=256가 정의되어 있다.영문 알파벳을 사용하는 대표적인 문자 인코딩\n",
    "        - 근데 영어말고도 많은 언어를 표현할 수 있어야 한다. 그래서 Unicode를 만듦\n",
    "    - Unicode : 전 세계의 모든 문자를 일관되게 표현하고 다룰 수 있도록.  16bit\n",
    "\n",
    "\n",
    "- 인코딩 : 원본(내 데이터)를 일관된 형식으로 외부자원에 맞춰 변환하는 것.\n",
    "- 디코딩 : 내가 다시 받아올 때 원본 형식으로 변환하는 것.\n",
    "\n",
    "    - 유니코드를 기반으로 인코딩 방식(실질적으로 처리하는 방식)의 다양한 종류가 있다. \n",
    "\n",
    "\n",
    "- open 함수에서 encoding=\"utf-8\" 인코딩방식을 다르게 넣을 수 있다. \n",
    "    - None일 경우 os 기본 인코딩 방식따름. 윈도우 ANSI\n",
    "    - 근데 utf-8로 출력하면 입력받을 때도 utf-8로 인코딩 방식을 맞춰서 해줘야 함. 남의 데이터를 입력받을 때도 해당 데이터의 방식을 알아내 읽어준다.\n",
    "    "
   ]
  },
  {
   "cell_type": "markdown",
   "id": "fea501fb",
   "metadata": {},
   "source": [
    "### 출력"
   ]
  },
  {
   "cell_type": "code",
   "execution_count": 15,
   "id": "e291c4fa",
   "metadata": {},
   "outputs": [],
   "source": [
    "# txt의 문자열데이터를 \"현재작업경로\\a.txt\" 파일에 출력(저장)\n",
    "\n",
    "# 1. a.txt와 연결: 목적-출력, 데이터종류-string(text)\n",
    "\n",
    "# file_path = r\"C:\\Users\\CSYJ\\SW STUDY\\BIG DATA class\\PYTHON class\\a.txt\" # 절대경로  \n",
    "# r붙이면 escape \\ 처리 안 하게 # 유닉스 슬러시면 escape 아니라 상관없다.\n",
    "\n",
    "file_path = \"a.txt\" # 상대 경로 #  .\\을 생략. 같은 디렉토리라\n",
    "\n",
    "mode = \"wt\"# 목적데이터종료   \n",
    "# 목적: w 쓰기모드  데이터 :t  텍스트 모드  #t 기본값이라 안 써도 되지만 써주자.\n",
    "\n",
    "# encoding=\"utf-8\" 인코딩방식을 다르게 넣을 수 있다. \n",
    "# None일 경우 os 기본 인코딩 방식따름. 윈도우 ANSI\n",
    "# 근데 특정 인코딩방식으로 출력하면 입력받을 때도 인코딩방식 맞춰서 해줘야 함.\n",
    "\n",
    "fw = open(file_path, mode, encoding=\"utf-8\") # 파일과 지정한 모드에 맞춰서 연결하고 입출력할 수 있는 기능(메소드)를 제공하는 객체를 반환. 이것을 변수로 받아서 쓰면됨.\n",
    "\n",
    "\n",
    "# - 출력 연결의 경우에는 연결할 파일이 없으면 생성. 있으면 있는 파일과 연결 (단 데이터를 지운다.)\n",
    "# - 입력 연결의 경우에는 연결할 파일이 없으면 exception 발생. \n",
    "\n"
   ]
  },
  {
   "cell_type": "code",
   "execution_count": 16,
   "id": "8d688641",
   "metadata": {},
   "outputs": [
    {
     "data": {
      "text/plain": [
       "27"
      ]
     },
     "execution_count": 16,
     "metadata": {},
     "output_type": "execute_result"
    }
   ],
   "source": [
    "# 2. 출력 # 출력값은 글자수이다.\n",
    "fw.write(txt)"
   ]
  },
  {
   "cell_type": "code",
   "execution_count": 17,
   "id": "d5259aa9",
   "metadata": {},
   "outputs": [],
   "source": [
    "# 3. 연결 닫기\n",
    "fw.close()"
   ]
  },
  {
   "cell_type": "markdown",
   "id": "53a1364a",
   "metadata": {},
   "source": [
    "### 입력\n",
    "\n",
    "- (참고) 파일명 입력할 때 \"a. 하고 tab키 누르면 자동완성 할 수 있음."
   ]
  },
  {
   "cell_type": "markdown",
   "id": "4e804bbc",
   "metadata": {},
   "source": [
    "- UnicodeDecodeError : 잘못된 (저장된 인코딩방식과 다른) encoding 방식으로 읽을 경우 발생. 해당 파일의 인코딩방식으로 입력받아야 한다.   ex)  encoding=\"\""
   ]
  },
  {
   "cell_type": "code",
   "execution_count": 18,
   "id": "6c8100c1",
   "metadata": {},
   "outputs": [
    {
     "name": "stdout",
     "output_type": "stream",
     "text": [
      "안녕하세요\n",
      "반갑습니다.\n",
      "오늘도 즐거운 하루되세요.\n"
     ]
    }
   ],
   "source": [
    "i_file_path = \"a.txt\"  # 상대경로\n",
    "# 목적 : 읽기 - r(기본값),   데이터 : string(text) - t(기본값) #기본값이니 생략해도 rt\n",
    "i_mode = \"rt\"\n",
    "\n",
    "# 연결\n",
    "fi = open(i_file_path, i_mode, encoding=\"utf-8\")\n",
    "\n",
    "# 입력 - read() 받아 변수에 저장\n",
    "r_txt = fi.read()\n",
    "print(r_txt)\n",
    "\n",
    "# 3. 연결닫기\n",
    "fi.close()"
   ]
  },
  {
   "cell_type": "code",
   "execution_count": 19,
   "id": "ef9b74d7",
   "metadata": {},
   "outputs": [
    {
     "ename": "UnicodeDecodeError",
     "evalue": "'cp949' codec can't decode byte 0xec in position 0: illegal multibyte sequence",
     "output_type": "error",
     "traceback": [
      "\u001b[1;31m---------------------------------------------------------------------------\u001b[0m",
      "\u001b[1;31mUnicodeDecodeError\u001b[0m                        Traceback (most recent call last)",
      "\u001b[1;32m~\\AppData\\Local\\Temp/ipykernel_19240/2402356350.py\u001b[0m in \u001b[0;36m<module>\u001b[1;34m\u001b[0m\n\u001b[0;32m      3\u001b[0m \u001b[1;33m\u001b[0m\u001b[0m\n\u001b[0;32m      4\u001b[0m \u001b[0mfi\u001b[0m \u001b[1;33m=\u001b[0m \u001b[0mopen\u001b[0m\u001b[1;33m(\u001b[0m\u001b[1;34m\"a.txt\"\u001b[0m\u001b[1;33m,\u001b[0m \u001b[1;34m\"rt\"\u001b[0m\u001b[1;33m)\u001b[0m\u001b[1;33m\u001b[0m\u001b[1;33m\u001b[0m\u001b[0m\n\u001b[1;32m----> 5\u001b[1;33m \u001b[0mt\u001b[0m \u001b[1;33m=\u001b[0m \u001b[0mfi\u001b[0m\u001b[1;33m.\u001b[0m\u001b[0mread\u001b[0m\u001b[1;33m(\u001b[0m\u001b[1;33m)\u001b[0m \u001b[1;31m# 이 줄에서 오류\u001b[0m\u001b[1;33m\u001b[0m\u001b[1;33m\u001b[0m\u001b[0m\n\u001b[0m\u001b[0;32m      6\u001b[0m \u001b[0mprint\u001b[0m\u001b[1;33m(\u001b[0m\u001b[0mt\u001b[0m\u001b[1;33m)\u001b[0m\u001b[1;33m\u001b[0m\u001b[1;33m\u001b[0m\u001b[0m\n\u001b[0;32m      7\u001b[0m \u001b[0mfi\u001b[0m\u001b[1;33m.\u001b[0m\u001b[0mclose\u001b[0m\u001b[1;33m(\u001b[0m\u001b[1;33m)\u001b[0m \u001b[1;31m# =====> 이 줄 실행 안 함! =====> 예외처리 해줘야 함.\u001b[0m\u001b[1;33m\u001b[0m\u001b[1;33m\u001b[0m\u001b[0m\n",
      "\u001b[1;31mUnicodeDecodeError\u001b[0m: 'cp949' codec can't decode byte 0xec in position 0: illegal multibyte sequence"
     ]
    }
   ],
   "source": [
    "# 예외발생으로 \"연결닫기 \"가 실행 안됨. \n",
    "# 연결닫기는 무조건 실행해야 하는 코드\n",
    "\n",
    "fi = open(\"a.txt\", \"rt\")\n",
    "t = fi.read() # 이 줄에서 오류\n",
    "print(t)\n",
    "fi.close() # =====> 이 줄 실행 안 함! =====> 예외처리 해줘야 함.\n"
   ]
  },
  {
   "cell_type": "code",
   "execution_count": 20,
   "id": "57da5886",
   "metadata": {},
   "outputs": [
    {
     "name": "stdout",
     "output_type": "stream",
     "text": [
      "처리\n",
      "연결닫기\n"
     ]
    }
   ],
   "source": [
    "\n",
    "\n",
    "try:\n",
    "    fi = open(\"a.txt\", \"rt\")\n",
    "    t = fi.read() # 이 줄에서 오류\n",
    "    print(t)\n",
    "\n",
    "except:\n",
    "    print(\"처리\")\n",
    "    \n",
    "finally:\n",
    "    print(\"연결닫기\")\n",
    "    fi.close()"
   ]
  },
  {
   "cell_type": "markdown",
   "id": "c138dac9",
   "metadata": {},
   "source": [
    "### with block\n",
    "\n",
    "- with block을 빠져나오면! close를 자동으로 처리한다.\n",
    "\n",
    "with 연결함수 as 변수: \n",
    "\n",
    "    작업코드\n",
    "    \n",
    "- print(fi.closed) # 연결여부를 반환받아 체크할 수 있다. : True-끊는 것, False-연결상태\n",
    "    "
   ]
  },
  {
   "cell_type": "code",
   "execution_count": 21,
   "id": "0a10a05a",
   "metadata": {},
   "outputs": [
    {
     "name": "stdout",
     "output_type": "stream",
     "text": [
      "False\n",
      "안녕하세요\n",
      "반갑습니다.\n",
      "오늘도 즐거운 하루되세요.\n",
      "with block 밖 True\n"
     ]
    }
   ],
   "source": [
    "with open(\"a.txt\", \"rt\", encoding=\"utf-8\") as fi: # fi = open(...)과 동일\n",
    "    # 입출력코드\n",
    "    try:\n",
    "        r = fi.read()\n",
    "        print(fi.closed) # 연결여부를 반환 : True-끊는 것, False-연결상태\n",
    "        print(r)\n",
    "    except:\n",
    "        print(\"예외처리\")\n",
    "\n",
    "print(\"with block 밖\", fi.closed)\n",
    "\n",
    "# with block을 빠져나오면! close를 자동으로 처리한다."
   ]
  },
  {
   "cell_type": "markdown",
   "id": "1694e1ea",
   "metadata": {},
   "source": [
    "### 출력 메소드\n",
    "\n",
    "- fw.wirte(\"\")\n",
    "    - 출력은 여러번에 걸쳐 할 수 있다. \n",
    "        - 작업하고 출력하고 작업하고 출력하고 가능한 것\n",
    "        - but, print와 달리 엔터처리 없음. 이어서 나옴. => \\n 넣어줘야 함\n",
    "    - 출력가능한 타입은 string"
   ]
  },
  {
   "cell_type": "code",
   "execution_count": 22,
   "id": "e52b1cff",
   "metadata": {},
   "outputs": [
    {
     "ename": "TypeError",
     "evalue": "write() argument must be str, not int",
     "output_type": "error",
     "traceback": [
      "\u001b[1;31m---------------------------------------------------------------------------\u001b[0m",
      "\u001b[1;31mTypeError\u001b[0m                                 Traceback (most recent call last)",
      "\u001b[1;32m~\\AppData\\Local\\Temp/ipykernel_19240/3362392693.py\u001b[0m in \u001b[0;36m<module>\u001b[1;34m\u001b[0m\n\u001b[0;32m      7\u001b[0m     \u001b[0mfw\u001b[0m\u001b[1;33m.\u001b[0m\u001b[0mwrite\u001b[0m\u001b[1;33m(\u001b[0m\u001b[1;34m\"반갑습니다.\\n\"\u001b[0m\u001b[1;33m)\u001b[0m\u001b[1;33m\u001b[0m\u001b[1;33m\u001b[0m\u001b[0m\n\u001b[0;32m      8\u001b[0m     \u001b[0mfw\u001b[0m\u001b[1;33m.\u001b[0m\u001b[0mwrite\u001b[0m\u001b[1;33m(\u001b[0m\u001b[1;34m\"조금만 있으면 점심시간이네요.\\n\"\u001b[0m\u001b[1;33m)\u001b[0m\u001b[1;33m\u001b[0m\u001b[1;33m\u001b[0m\u001b[0m\n\u001b[1;32m----> 9\u001b[1;33m     \u001b[0mfw\u001b[0m\u001b[1;33m.\u001b[0m\u001b[0mwrite\u001b[0m\u001b[1;33m(\u001b[0m\u001b[1;36m30\u001b[0m\u001b[1;33m)\u001b[0m \u001b[1;31m# 출력가능한 타입은 string!!\u001b[0m\u001b[1;33m\u001b[0m\u001b[1;33m\u001b[0m\u001b[0m\n\u001b[0m\u001b[0;32m     10\u001b[0m \u001b[1;33m\u001b[0m\u001b[0m\n",
      "\u001b[1;31mTypeError\u001b[0m: write() argument must be str, not int"
     ]
    }
   ],
   "source": [
    "with open(\"b.txt\", \"wt\") as fw:\n",
    "    \n",
    "    # 출력은 여러번에 걸쳐 할 수 있다. \n",
    "    # 작업하고 출력하고 작업하고 출력하고 가능한 것\n",
    "    # but, print와 달리 엔터처리 없음. 이어서 나옴. => \\n 넣어줘야 함.\n",
    "    fw.write(\"안녕하세요\\n\")\n",
    "    fw.write(\"반갑습니다.\\n\")\n",
    "    fw.write(\"조금만 있으면 점심시간이네요.\\n\")\n",
    "    fw.write(30) # 출력가능한 타입은 string!!\n",
    "    \n"
   ]
  },
  {
   "cell_type": "code",
   "execution_count": 23,
   "id": "261f5942",
   "metadata": {},
   "outputs": [],
   "source": [
    "# 리스트 출력 fw.\n",
    "\n",
    "txt_list = [\"안녕하세요.\\n\", \"지금 12시 16분입니다.\\n\", str(120)]\n",
    "\n",
    "with open(\"c.txt\",\"wt\") as fw:\n",
    "    fw.writelines(txt_list) # 리스트의 원소들을 한번에 출력 # 엔터 안 넣으면 한줄\n",
    "\n",
    "# 이처리 대신에\n",
    "# for t in txt_list:\n",
    "#        fw.write(txt_list(i))\n",
    "    "
   ]
  },
  {
   "cell_type": "markdown",
   "id": "86ddccad",
   "metadata": {},
   "source": [
    "## 입력메소드\n",
    "- fi.readlines() : 한줄, 한줄을 원소로 하는 리스트를 반환 \n",
    "    - 잘 안 씀. 반복문을 이요해 한줄 씩 읽을 경우 - rt모드로 연결한 객체(TextIOWapper)가 iterable => 직접 for in 문의 in 자리에 넣을 수 있다.\n",
    "\n",
    "print(fi.readline()) #한줄만 읽는다.\n",
    "\n",
    "\n",
    "\n",
    "** encoding=\"utf-8\" 쥬피터 인코딩 방식\n"
   ]
  },
  {
   "cell_type": "code",
   "execution_count": 4,
   "id": "b6268cfc",
   "metadata": {},
   "outputs": [
    {
     "name": "stdout",
     "output_type": "stream",
     "text": [
      "True\n",
      "아스널 레전드가 극찬한 공격수, ‘SON 파트너’로 부상\n",
      "아스널 레전드가 극찬한 공격수, ‘SON 파트너’로 부상\n",
      "토트넘 홋스퍼가 손흥민(29), 해리 케인(28) 파트너를 찾았다.\n",
      "프랑스 풋메르카토는 17일 “토트넘이 리그1 스타드 렌에서 뛰고 있는 프랑스 국적 공격수 마틴 테리어(25)에게 관심 있다”고 보도했다.\n",
      "토트넘은 현재 프리미어리그 4위로 다음 시즌 챔피언스리그 진출이 유력하다. 안토니오\n"
     ]
    }
   ],
   "source": [
    "# EX.뉴스 news.txt 파일 읽기 \n",
    "\n",
    "news_file_path = 'text_data/news.txt'\n",
    "with open(news_file_path, \"rt\", encoding=\"utf-8\") as fi:\n",
    "    news = fi.read() # 파일의 전체내용을 한번에 읽는다.\n",
    "    \n",
    "print(fi.closed) # 닫혔는 지 체크\n",
    "print(news)\n",
    "\n"
   ]
  },
  {
   "cell_type": "code",
   "execution_count": 5,
   "id": "87bce5a6",
   "metadata": {},
   "outputs": [
    {
     "name": "stdout",
     "output_type": "stream",
     "text": [
      "['아스널 레전드가 극찬한 공격수, ‘SON 파트너’로 부상\\n', '아스널 레전드가 극찬한 공격수, ‘SON 파트너’로 부상\\n', '토트넘 홋스퍼가 손흥민(29), 해리 케인(28) 파트너를 찾았다.\\n', '프랑스 풋메르카토는 17일 “토트넘이 리그1 스타드 렌에서 뛰고 있는 프랑스 국적 공격수 마틴 테리어(25)에게 관심 있다”고 보도했다.\\n', '토트넘은 현재 프리미어리그 4위로 다음 시즌 챔피언스리그 진출이 유력하다. 안토니오']\n",
      "--------------\n",
      "아스널 레전드가 극찬한 공격수, ‘SON 파트너’로 부상\n",
      "\n",
      "아스널 레전드가 극찬한 공격수, ‘SON 파트너’로 부상\n",
      "\n",
      "토트넘 홋스퍼가 손흥민(29), 해리 케인(28) 파트너를 찾았다.\n",
      "\n"
     ]
    }
   ],
   "source": [
    "# EX.뉴스 news.txt 파일 읽기 \n",
    "# 리스트에 넣어 읽기\n",
    "\n",
    "with open(news_file_path, \"rt\", encoding=\"utf-8\") as fi:\n",
    "    text_list = fi.readlines() # \\n 엔터 기준으로 한 줄, 한줄을 원소로 하는 리스트를 반환.\n",
    "\n",
    "print(text_list) # 리스트 출력\n",
    "print(\"--------------\")\n",
    "print(text_list[0])\n",
    "print(text_list[1])\n",
    "print(text_list[2])\n",
    "\n"
   ]
  },
  {
   "cell_type": "code",
   "execution_count": 6,
   "id": "0c9773d5",
   "metadata": {},
   "outputs": [
    {
     "name": "stdout",
     "output_type": "stream",
     "text": [
      "1. 아스널 레전드가 극찬한 공격수, ‘SON 파트너’로 부상\n",
      "\n",
      "2. 아스널 레전드가 극찬한 공격수, ‘SON 파트너’로 부상\n",
      "\n",
      "3. 토트넘 홋스퍼가 손흥민(29), 해리 케인(28) 파트너를 찾았다.\n",
      "\n",
      "4. 프랑스 풋메르카토는 17일 “토트넘이 리그1 스타드 렌에서 뛰고 있는 프랑스 국적 공격수 마틴 테리어(25)에게 관심 있다”고 보도했다.\n",
      "\n",
      "5. 토트넘은 현재 프리미어리그 4위로 다음 시즌 챔피언스리그 진출이 유력하다. 안토니오\n"
     ]
    }
   ],
   "source": [
    "# EX.뉴스 news.txt 파일 읽기 \n",
    "# 리스트에 넣어 읽기# 줄단위 처리\n",
    "\n",
    "for line_num, txt in enumerate(text_list, start=1): # 순번 인덱스 붙여서\n",
    "    print(f\"{line_num}. {txt}\") "
   ]
  },
  {
   "cell_type": "code",
   "execution_count": 7,
   "id": "199c76c8",
   "metadata": {},
   "outputs": [
    {
     "name": "stdout",
     "output_type": "stream",
     "text": [
      "1.아스널 레전드가 극찬한 공격수, ‘SON 파트너’로 부상\n",
      "\n",
      "2.아스널 레전드가 극찬한 공격수, ‘SON 파트너’로 부상\n",
      "\n",
      "3.토트넘 홋스퍼가 손흥민(29), 해리 케인(28) 파트너를 찾았다.\n",
      "\n",
      "4.프랑스 풋메르카토는 17일 “토트넘이 리그1 스타드 렌에서 뛰고 있는 프랑스 국적 공격수 마틴 테리어(25)에게 관심 있다”고 보도했다.\n",
      "\n",
      "5.토트넘은 현재 프리미어리그 4위로 다음 시즌 챔피언스리그 진출이 유력하다. 안토니오\n"
     ]
    }
   ],
   "source": [
    "# EX.뉴스 news.txt 파일 읽기 \n",
    "\n",
    "# read() fi 반복문. 이를 가장 많이 쓴다.\n",
    "# 그래서 굳이 writelines 쓸 필요 없음.\n",
    "\n",
    "with open(news_file_path, \"rt\", encoding=\"utf-8\") as fi:\n",
    "    for ln, txt in enumerate(fi,start=1):\n",
    "        print(f\"{ln}.{txt}\")\n",
    "\n"
   ]
  },
  {
   "cell_type": "code",
   "execution_count": 9,
   "id": "25f453d1",
   "metadata": {},
   "outputs": [
    {
     "name": "stdout",
     "output_type": "stream",
     "text": [
      "아스널 레전드가 극찬한 공격수, ‘SON 파트너’로 부상\n",
      "\n",
      "아스널 레전드가 극찬한 공격수, ‘SON 파트너’로 부상\n",
      "\n",
      "토트넘 홋스퍼가 손흥민(29), 해리 케인(28) 파트너를 찾았다.\n",
      "\n"
     ]
    }
   ],
   "source": [
    "with open(news_file_path, \"rt\", encoding=\"utf-8\") as fi:\n",
    "    print(fi.readline()) #한줄만 읽는다.\n",
    "    print(fi.readline())\n",
    "    print(fi.readline())"
   ]
  },
  {
   "cell_type": "code",
   "execution_count": 10,
   "id": "f353685a",
   "metadata": {},
   "outputs": [],
   "source": [
    "# read() fi 반복문을 가장 많이 쓴다."
   ]
  },
  {
   "cell_type": "markdown",
   "id": "a35c1c84",
   "metadata": {},
   "source": [
    "## binary file 입출력\n",
    "- text 파일을 제외한 나머지. \n",
    "- 모드 : 목적+데이터형식(b)   => rb, wb\n",
    "- 메소드 : write(), read()  # readline(s)는 txt용이라 안씀."
   ]
  },
  {
   "cell_type": "markdown",
   "id": "223b234c",
   "metadata": {},
   "source": [
    " EX. 이미지 파일 복사 (읽고 쓰기(다른파일명))"
   ]
  },
  {
   "cell_type": "code",
   "execution_count": 17,
   "id": "a00221ba",
   "metadata": {},
   "outputs": [
    {
     "name": "stdout",
     "output_type": "stream",
     "text": [
      "<class 'bytes'>\n"
     ]
    }
   ],
   "source": [
    "# img.jpg 을 복사 (읽은 뒤에 다시쓰기-다른파일명)\n",
    "# 1. 파일 읽기\n",
    "try:\n",
    "    fi = open('img.jfif', 'rb')\n",
    "    img = fi.read()\n",
    "    print(type(img))\n",
    "finally:    \n",
    "    fi.close()"
   ]
  },
  {
   "cell_type": "code",
   "execution_count": 18,
   "id": "8ad2b58c",
   "metadata": {},
   "outputs": [],
   "source": [
    "# img.jpg 을 복사 (읽은 뒤에 다시쓰기-다른파일명)\n",
    "# 2. 파일 쓰기\n",
    "try:\n",
    "    fo = open('img3.jfif', \"wb\")\n",
    "    fo.write(img)\n",
    "finally:\n",
    "    fo.close"
   ]
  },
  {
   "cell_type": "code",
   "execution_count": 19,
   "id": "a5617447",
   "metadata": {},
   "outputs": [],
   "source": [
    "# img.jpg 을 복사 (읽은 뒤에 다시쓰기-다른파일명)\n",
    "# 1.2. 단계 한번에 하고 싶을 때 with문 두 개로 \n",
    "\n",
    "with open('img.jfif','rb') as fi:\n",
    "    with open('img3.jfif', 'wb') as fo:\n",
    "        img = fi.read()\n",
    "        fo.write(img)\n",
    "        "
   ]
  },
  {
   "cell_type": "code",
   "execution_count": 20,
   "id": "5288ae29",
   "metadata": {},
   "outputs": [
    {
     "data": {
      "text/plain": [
       "(True, True)"
      ]
     },
     "execution_count": 20,
     "metadata": {},
     "output_type": "execute_result"
    }
   ],
   "source": [
    "fi.closed, fo.closed"
   ]
  },
  {
   "cell_type": "markdown",
   "id": "a85263a1",
   "metadata": {},
   "source": [
    "## pickle\n",
    "- 파이썬 객체(모든 종류의 값)을 binary로 입출력할 때 사용하는 모듈.\n",
    "    - 입출력을 위해 모든 데이터를 변환!!해주는 모듈\n"
   ]
  },
  {
   "cell_type": "code",
   "execution_count": 10,
   "id": "16a917ef",
   "metadata": {},
   "outputs": [
    {
     "data": {
      "text/plain": [
       "list"
      ]
     },
     "execution_count": 10,
     "metadata": {},
     "output_type": "execute_result"
    }
   ],
   "source": [
    "# 리스트 객체를 파일에 저장 \n",
    "import pickle # 피클 모듈을 import\n",
    "\n",
    "data = ['abc', '가나다', True, 1000, 200, 30.67]\n",
    "with open('list.pkl', 'wb') as fo:\n",
    "    pickle.dump(data, fo) #쓰기. 저장. \n",
    "\n",
    "type(data) # 원본데이터를 바꾸는 것은 아니고 입출력할 때 변환하는 것.\n"
   ]
  },
  {
   "cell_type": "code",
   "execution_count": 24,
   "id": "c632c116",
   "metadata": {},
   "outputs": [],
   "source": [
    "# 피클로 정한 데이터(리스트)를 읽기\n",
    "with open('list.pkl','rb') as fi:\n",
    "    read_list = pickle.load(fi)"
   ]
  },
  {
   "cell_type": "code",
   "execution_count": 25,
   "id": "04f0290e",
   "metadata": {},
   "outputs": [
    {
     "data": {
      "text/plain": [
       "['abc', '가나다', True, 1000, 200, 30.67]"
      ]
     },
     "execution_count": 25,
     "metadata": {},
     "output_type": "execute_result"
    }
   ],
   "source": [
    "read_list"
   ]
  },
  {
   "cell_type": "code",
   "execution_count": 29,
   "id": "e0f2c555",
   "metadata": {},
   "outputs": [],
   "source": [
    "#2 클래스 선언 \n",
    "class item:\n",
    "    \n",
    "    def __init__(self, name, price):\n",
    "        self.name, self.price = name, price\n",
    "    def __str__(self):\n",
    "        return f\"Type: {type(self)}, name: {self.name}, price:{self.price}\"\n",
    "    "
   ]
  },
  {
   "cell_type": "code",
   "execution_count": 30,
   "id": "ac8edfdb",
   "metadata": {},
   "outputs": [],
   "source": [
    "#2\n",
    "import pickle # 피클 모듈을 import\n",
    "\n",
    "data = item('tv', 250000)\n",
    "\n",
    "with open('list.pkl', 'wb') as fo:\n",
    "    pickle.dump(data, fo) #쓰기. 저장. \n",
    "    "
   ]
  },
  {
   "cell_type": "code",
   "execution_count": 33,
   "id": "444be91e",
   "metadata": {},
   "outputs": [
    {
     "name": "stdout",
     "output_type": "stream",
     "text": [
      "Type: <class '__main__.item'>, name: tv, price:250000\n",
      "<class '__main__.item'>\n"
     ]
    }
   ],
   "source": [
    "# 2 피클로 정한 데이터(리스트)를 읽기\n",
    "with open('list.pkl','rb') as fi:\n",
    "    read_list = pickle.load(fi)\n",
    "print(read_list)\n",
    "print(type(read_list))"
   ]
  },
  {
   "cell_type": "markdown",
   "id": "d7121f5e",
   "metadata": {},
   "source": [
    "## 문제_ TODO"
   ]
  },
  {
   "cell_type": "code",
   "execution_count": 36,
   "id": "f03e0fb9",
   "metadata": {},
   "outputs": [],
   "source": [
    "# TODO - 간단한 메모장\n",
    "# 사용자로부터 파일명을 입력받는다.(input())\n",
    "# 사용자로 부터 파일에 저장할 문장을 입력받아서 파일에 저장한다. ->반복\n",
    "# 사용자가 !q 를 입력하면 종료한다. -> 조건?\n",
    "# 사용자가 저장한 파일을 읽어서 출력한다."
   ]
  },
  {
   "cell_type": "code",
   "execution_count": 73,
   "id": "ad3f00f8",
   "metadata": {},
   "outputs": [],
   "source": [
    "def simple_memo():\n",
    "    fname = input(\"파일명은?:\")\n",
    "\n",
    "    with open(fname, \"wt\") as fw:\n",
    "        print(\"내용을 입력하시오.\")\n",
    "        print(\"----------\")\n",
    "        while True:\n",
    "            line =input()\n",
    "            if line == \"qi\":\n",
    "                break\n",
    "            else:\n",
    "                fw.write(line+\"\\n\")\n",
    "    with open(fname, \"rt\") as fi:\n",
    "        r1 = fi.read()\n",
    "        print(\"------------\")\n",
    "        print(\"<입력받은 값>\")\n",
    "        print(r1)\n",
    "\n",
    "        \n",
    "simple_memo()"
   ]
  },
  {
   "cell_type": "code",
   "execution_count": 81,
   "id": "a61c44f0",
   "metadata": {},
   "outputs": [
    {
     "name": "stdout",
     "output_type": "stream",
     "text": [
      "파일명은?:tlft\n",
      "내용을 입력하시오.\n",
      "----------\n",
      "d\n",
      "d\n",
      "qi\n"
     ]
    }
   ],
   "source": [
    "from my_package.memo import simple_memo as s_memo\n",
    "\n",
    "s_memo()"
   ]
  },
  {
   "cell_type": "markdown",
   "id": "98833d9e",
   "metadata": {},
   "source": [
    "## CSV (Comma Separated Value) 파일 형식\n",
    "- 데이터를 **표형태**로 **텍스트파일**에 저장하기 위한 문서형식\n",
    "- 하나의 데이터는 한 줄에 작성 (엔터 : 데이터값 구분자)\n",
    "- 하나의 데이터를 구성하는 속성값들은 ',' 로 구분"
   ]
  },
  {
   "cell_type": "code",
   "execution_count": 82,
   "id": "da0ea627",
   "metadata": {},
   "outputs": [],
   "source": [
    "# TODO - csv 파일을 읽어서 각 열의 값을 배열에 담는다.\n",
    "# 이름,나이,주소  형태의 csv를 읽어\n",
    "# names = []\n",
    "# ages =[]\n",
    "# address =[]\n",
    "# 리스트에 넣는다. (라인이 index가 된다.) \n",
    "\n",
    "# csv 파일 : 표 데이터. 행열 \n",
    "# csv를 텍스트데이터로 만들고 싶다. 한줄당 하나의 데이터 각각의 컬럼은 쉼표로 표시.\n",
    "# c(콤마)로 불리한 파일 : csv\n",
    "# 현 파일은 3열 7줄 (첫번째줄: 열 라벨, 두번째줄부터: 데이터) 줄단위가 데이터들.김영수 박영희.... /행단위가 속성들name age address\n"
   ]
  },
  {
   "cell_type": "code",
   "execution_count": 2,
   "id": "5ca932c3",
   "metadata": {},
   "outputs": [
    {
     "name": "stdout",
     "output_type": "stream",
     "text": [
      "['김영수', '박영희', '오민수', '최정길', '이명수', '이철수']\n",
      "['20', '21', '30', '15', '22', '17']\n",
      "['서울', '서울', '부산', '인천', '광주', '대전']\n"
     ]
    }
   ],
   "source": [
    "# 강사님 코드\n",
    "names = []\n",
    "ages = []\n",
    "address = []\n",
    "\n",
    "with open(\"member.csv\", \"rt\", encoding=\"utf-8\") as fi:\n",
    "    \n",
    "    for idx, line_num in enumerate(fi):\n",
    "        if idx == 0: # 첫번째 줄 제외를 위해\n",
    "            continue\n",
    "        info = line_num.split(\",\")\n",
    "        \n",
    "        names.append(info[0])\n",
    "        ages.append(info[1])\n",
    "        address.append(info[2].strip()) # \\n을 없앨 수 있다.\n",
    "    \n",
    "fi.close\n",
    "print(names) \n",
    "print(ages) \n",
    "print(address)\n",
    "\n",
    "# 강사님 코드랑 비교하기\n",
    "    \n"
   ]
  },
  {
   "cell_type": "code",
   "execution_count": 26,
   "id": "665d443c",
   "metadata": {},
   "outputs": [
    {
     "name": "stdout",
     "output_type": "stream",
     "text": [
      "['김영수', '박영희', '오민수', '최정길', '이명수', '이철수']\n",
      "['20', '21', '30', '15', '22', '17']\n",
      "['서울', '서울', '부산', '인천', '광주', '대전']\n"
     ]
    }
   ],
   "source": [
    "# 내가 푼 것\n",
    "\n",
    "names =[]\n",
    "ages =[]\n",
    "address=[]\n",
    "\n",
    "with open(\"member.csv\", \"rt\", encoding=\"utf-8\") as fi:\n",
    "    \n",
    "    text_list = fi.readlines()\n",
    "    for line_num in text_list[1:]:\n",
    "        info = line_num.split(\",\")\n",
    "        names.append(info[0])\n",
    "        ages.append(info[1])\n",
    "        address.append(info[2].strip())\n",
    "    \n",
    "fi.close\n",
    "print(names) \n",
    "print(ages) \n",
    "print(address)\n",
    "    \n"
   ]
  },
  {
   "cell_type": "code",
   "execution_count": 32,
   "id": "eda03d13",
   "metadata": {},
   "outputs": [
    {
     "name": "stdout",
     "output_type": "stream",
     "text": [
      "['김영수', '20', '서울\\n']\n",
      "['박영희', '21', '서울\\n']\n",
      "['오민수', '30', '부산\\n']\n",
      "['최정길', '15', '인천\\n']\n",
      "['이명수', '22', '광주\\n']\n",
      "['이철수', '17', '대전\\n']\n",
      "['김영수', '박영희', '오민수', '최정길', '이명수', '이철수']\n",
      "['20', '21', '30', '15', '22', '17']\n",
      "대전\n",
      "\n"
     ]
    }
   ],
   "source": [
    "# 강사님 코드2 리스트 대입으로 풀기 ___ 다시 풀기\n",
    "\n",
    "\n",
    "with open(\"member.csv\", \"rt\", encoding=\"utf-8\") as fi:\n",
    "    \n",
    "    for idx, line_num in enumerate(fi):\n",
    "        if idx == 0:\n",
    "            continue\n",
    "        info = line_num.split(\",\")\n",
    "        print(info)\n",
    "        name, age, address = info\n",
    "\n",
    "    \n",
    "fi.close\n",
    "print(names) \n",
    "print(ages) \n",
    "print(address)\n",
    "\n",
    "    \n"
   ]
  },
  {
   "cell_type": "code",
   "execution_count": 6,
   "id": "6d03c30b",
   "metadata": {},
   "outputs": [
    {
     "data": {
      "text/plain": [
       "True"
      ]
     },
     "execution_count": 6,
     "metadata": {},
     "output_type": "execute_result"
    }
   ],
   "source": [
    "# EX. name, ages, address => member_ 2.csv 파일에 csv 형식으로 저장하기(zip())\n",
    "\n",
    "with open(\"member_2.csv\",\"wt\", encoding=\"utf-8\") as fi:\n",
    "    fi.write(\"name,age,address\\n\")\n",
    "    \n",
    "    #같은 인덱스끼리 튜플로 묶어서 # 튜플대입\n",
    "    for name, age, addr in zip(names,ages,address): \n",
    "        fi.write(f\"{name},{age},{addr}\\n\")\n",
    "\n",
    "fi.closed\n",
    "\n",
    "# 튜플 리스트 딕션 대입법 공부하기!!!\n",
    "\n",
    "\n"
   ]
  },
  {
   "cell_type": "code",
   "execution_count": 8,
   "id": "6dc15a9e",
   "metadata": {},
   "outputs": [
    {
     "data": {
      "text/html": [
       "<div>\n",
       "<style scoped>\n",
       "    .dataframe tbody tr th:only-of-type {\n",
       "        vertical-align: middle;\n",
       "    }\n",
       "\n",
       "    .dataframe tbody tr th {\n",
       "        vertical-align: top;\n",
       "    }\n",
       "\n",
       "    .dataframe thead th {\n",
       "        text-align: right;\n",
       "    }\n",
       "</style>\n",
       "<table border=\"1\" class=\"dataframe\">\n",
       "  <thead>\n",
       "    <tr style=\"text-align: right;\">\n",
       "      <th></th>\n",
       "      <th>name</th>\n",
       "      <th>age</th>\n",
       "      <th>address</th>\n",
       "    </tr>\n",
       "  </thead>\n",
       "  <tbody>\n",
       "    <tr>\n",
       "      <th>0</th>\n",
       "      <td>김영수</td>\n",
       "      <td>20</td>\n",
       "      <td>서울</td>\n",
       "    </tr>\n",
       "    <tr>\n",
       "      <th>1</th>\n",
       "      <td>박영희</td>\n",
       "      <td>21</td>\n",
       "      <td>서울</td>\n",
       "    </tr>\n",
       "    <tr>\n",
       "      <th>2</th>\n",
       "      <td>오민수</td>\n",
       "      <td>30</td>\n",
       "      <td>부산</td>\n",
       "    </tr>\n",
       "    <tr>\n",
       "      <th>3</th>\n",
       "      <td>최정길</td>\n",
       "      <td>15</td>\n",
       "      <td>인천</td>\n",
       "    </tr>\n",
       "    <tr>\n",
       "      <th>4</th>\n",
       "      <td>이명수</td>\n",
       "      <td>22</td>\n",
       "      <td>광주</td>\n",
       "    </tr>\n",
       "    <tr>\n",
       "      <th>5</th>\n",
       "      <td>이철수</td>\n",
       "      <td>17</td>\n",
       "      <td>대전</td>\n",
       "    </tr>\n",
       "  </tbody>\n",
       "</table>\n",
       "</div>"
      ],
      "text/plain": [
       "  name  age address\n",
       "0  김영수   20      서울\n",
       "1  박영희   21      서울\n",
       "2  오민수   30      부산\n",
       "3  최정길   15      인천\n",
       "4  이명수   22      광주\n",
       "5  이철수   17      대전"
      ]
     },
     "execution_count": 8,
     "metadata": {},
     "output_type": "execute_result"
    }
   ],
   "source": [
    "# EX.판다스 csv파일 불러오기\n",
    "\n",
    "import pandas as pd  # 아나콘다 내장. 파이썬기본실행환경 내장 x pip 다운받아야함.\n",
    "\n",
    "df = pd.read_csv('member_2.csv')\n",
    "df"
   ]
  },
  {
   "cell_type": "code",
   "execution_count": 10,
   "id": "c9d9e35d",
   "metadata": {
    "scrolled": true
   },
   "outputs": [
    {
     "data": {
      "text/plain": [
       "0    김영수\n",
       "1    박영희\n",
       "2    오민수\n",
       "3    최정길\n",
       "4    이명수\n",
       "5    이철수\n",
       "Name: name, dtype: object"
      ]
     },
     "execution_count": 10,
     "metadata": {},
     "output_type": "execute_result"
    }
   ],
   "source": [
    "# EX.판다스 csv파일 불러오기\n",
    "\n",
    "df['name']"
   ]
  },
  {
   "cell_type": "code",
   "execution_count": null,
   "id": "f26b19fe",
   "metadata": {},
   "outputs": [],
   "source": []
  }
 ],
 "metadata": {
  "kernelspec": {
   "display_name": "Python 3 (ipykernel)",
   "language": "python",
   "name": "python3"
  },
  "language_info": {
   "codemirror_mode": {
    "name": "ipython",
    "version": 3
   },
   "file_extension": ".py",
   "mimetype": "text/x-python",
   "name": "python",
   "nbconvert_exporter": "python",
   "pygments_lexer": "ipython3",
   "version": "3.9.7"
  }
 },
 "nbformat": 4,
 "nbformat_minor": 5
}
