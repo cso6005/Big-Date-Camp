{
 "cells": [
  {
   "cell_type": "code",
   "execution_count": 1,
   "id": "6c6ffbc3",
   "metadata": {},
   "outputs": [
    {
     "name": "stdout",
     "output_type": "stream",
     "text": [
      "생년월일 : 901211\n",
      "생년월일 : 901211\n"
     ]
    }
   ],
   "source": [
    "#문자열 \n",
    "\n",
    "#1. 주민번호 \"901211-1027213\"의 앞 6자리만 조회해서 출력하시오.\n",
    "\n",
    "code = \"901211-1027213\"\n",
    "print(\"생년월일 :\", code[0:6])\n",
    "\n",
    "# split, list 이용.\n",
    "print(\"생년월일 :\", code.split('-')[0])"
   ]
  },
  {
   "cell_type": "code",
   "execution_count": 2,
   "id": "896522f7",
   "metadata": {},
   "outputs": [
    {
     "name": "stdout",
     "output_type": "stream",
     "text": [
      "안녕하세요안녕하세요안녕하세요안녕하세요안녕하세요안녕하세요안녕하세요안녕하세요안녕하세요안녕하세요\n"
     ]
    }
   ],
   "source": [
    "#2. \"안녕하세요\" 를 10번 출력하시오.\n",
    "\n",
    "print(\"안녕하세요\"*10)"
   ]
  },
  {
   "cell_type": "code",
   "execution_count": 3,
   "id": "54cfcbc0",
   "metadata": {},
   "outputs": [
    {
     "name": "stdout",
     "output_type": "stream",
     "text": [
      "24\n"
     ]
    }
   ],
   "source": [
    "#3. 다음 문자열의 글자수를 출력하시오.\n",
    "x = \"akdlclkdkdlelql39du7마구0ㅌ\" \n",
    "\n",
    "print(len(x))"
   ]
  },
  {
   "cell_type": "code",
   "execution_count": 4,
   "id": "ad9540ff",
   "metadata": {},
   "outputs": [
    {
     "name": "stdout",
     "output_type": "stream",
     "text": [
      "제품명 : TV, 가격 : 300000, 제조사 : LG\n",
      "제품명 : TV, 가격 : 300000, 제조사 : LG\n",
      "제품명 : TV, 가격 : 300000, 제조사 : LG\n"
     ]
    }
   ],
   "source": [
    "#4.\n",
    "name=\"TV\"\n",
    "price=300000\n",
    "maker = \"LG\"\n",
    "# 위 변수의 값을 다음과 같은 형태로 출력하시오.\n",
    "#\"제품명 : TV, 가격 : 300000, 제조사 : LG\"\n",
    "\n",
    "print(\"제품명 : {}, 가격 : {}, 제조사 : {}\".format(name,price,maker))\n",
    "\n",
    "# f-spring\n",
    "print(f\"제품명 : {name}, 가격 : {price}, 제조사 : {maker}\")\n",
    "\n",
    "# 형식 문자. 가격에 %s 넣으면 문자열로 나옴. 출력할 때는 상관없지만.\n",
    "print(\"제품명 : %s, 가격 : %d, 제조사 : %s\" %(name,price,maker))\n"
   ]
  },
  {
   "cell_type": "code",
   "execution_count": 5,
   "id": "2189e5bb",
   "metadata": {},
   "outputs": [
    {
     "name": "stdout",
     "output_type": "stream",
     "text": [
      "수박 없습니다.\n",
      "수박 없습니다.\n"
     ]
    }
   ],
   "source": [
    "#5\n",
    "fruits = \"사과 복숭아 귤 배\"\n",
    "# 위 fruits에 \"수박\"이 있는지 확인하는 코드를 작성하시오.\n",
    "\n",
    "y = \"수박\" in fruits\n",
    "print(\"수박 없습니다.\" if y == 0 else \"수박 있습니다.\")\n",
    "print(\"수박 없습니다.\" if \"수박\" not in fruits else \"수박 있습니다.\")"
   ]
  },
  {
   "cell_type": "code",
   "execution_count": 6,
   "id": "52b06016",
   "metadata": {},
   "outputs": [
    {
     "name": "stdout",
     "output_type": "stream",
     "text": [
      "a의 개수 : 9\n",
      "2\n"
     ]
    }
   ],
   "source": [
    "#6 \n",
    "str_value=\"aldkjaldjfalfjlksajfladlkaalalkdjfa\"\n",
    "# str_value 문자열안에 a가 몇개 있는지 출력하시오.\n",
    "\n",
    "print(\"a의 개수 :\",str_value.count(\"a\"))\n",
    "\n",
    "print(str_value.count(\"dj\"))\n"
   ]
  },
  {
   "cell_type": "code",
   "execution_count": null,
   "id": "2e920bba",
   "metadata": {},
   "outputs": [],
   "source": []
  }
 ],
 "metadata": {
  "kernelspec": {
   "display_name": "Python 3 (ipykernel)",
   "language": "python",
   "name": "python3"
  },
  "language_info": {
   "codemirror_mode": {
    "name": "ipython",
    "version": 3
   },
   "file_extension": ".py",
   "mimetype": "text/x-python",
   "name": "python",
   "nbconvert_exporter": "python",
   "pygments_lexer": "ipython3",
   "version": "3.9.7"
  }
 },
 "nbformat": 4,
 "nbformat_minor": 5
}
