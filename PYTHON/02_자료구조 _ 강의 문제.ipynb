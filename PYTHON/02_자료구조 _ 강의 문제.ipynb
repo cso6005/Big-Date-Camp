{
 "cells": [
  {
   "cell_type": "code",
   "execution_count": 1,
   "id": "7cf8806a",
   "metadata": {},
   "outputs": [
    {
     "name": "stdout",
     "output_type": "stream",
     "text": [
      "7번의 점수 : 80\n"
     ]
    }
   ],
   "source": [
    "# 문제 1~7 \n",
    "\n",
    "jumsu = [100, 90, 100, 80, 70, 100, 80, 90, 95, 85] \n",
    "\n",
    "# 위는 학생번호 1번 ~ 10번까지 10명의 시험 점수이다. (문제 1 ~ 7)\n",
    "#(1)  7번의 점수를 출력하세요 \n",
    "print(\"7번의 점수 :\",jumsu[6])"
   ]
  },
  {
   "cell_type": "code",
   "execution_count": 2,
   "id": "54dd99b2",
   "metadata": {},
   "outputs": [
    {
     "name": "stdout",
     "output_type": "stream",
     "text": [
      "1번~5번 점수 : [100, 90, 100, 80, 70]\n"
     ]
    }
   ],
   "source": [
    "#(2)  1번부터 5번까지의 점수를 출력하세요.\n",
    "print(\"1번~5번 점수 :\", jumsu[0:5])"
   ]
  },
  {
   "cell_type": "code",
   "execution_count": 3,
   "id": "e8c1ef22",
   "metadata": {},
   "outputs": [
    {
     "name": "stdout",
     "output_type": "stream",
     "text": [
      "4~7번의 점수 : [80, 70, 100, 80]\n"
     ]
    }
   ],
   "source": [
    "#(3)  4, 5, 6, 7번의 점수를 출력하세요.\n",
    "print(\"4~7번의 점수 :\", jumsu[3:7])"
   ]
  },
  {
   "cell_type": "code",
   "execution_count": 4,
   "id": "0efb46b5",
   "metadata": {},
   "outputs": [
    {
     "name": "stdout",
     "output_type": "stream",
     "text": [
      "짝수번째 점수 : [90, 80, 100, 90, 85]\n"
     ]
    }
   ],
   "source": [
    "#(4) 짝수번째 점수를 출력하세요.\n",
    "print(\"짝수번째 점수 :\", jumsu[1::2])"
   ]
  },
  {
   "cell_type": "code",
   "execution_count": 5,
   "id": "f7c52598",
   "metadata": {},
   "outputs": [
    {
     "name": "stdout",
     "output_type": "stream",
     "text": [
      "홀수번째 점수 : [100, 100, 70, 80, 95]\n"
     ]
    }
   ],
   "source": [
    "#(5) 홀수번째 점수를 출력하세요.\n",
    "print(\"홀수번째 점수 :\", jumsu[::2])"
   ]
  },
  {
   "cell_type": "code",
   "execution_count": 6,
   "id": "2bac3975",
   "metadata": {},
   "outputs": [
    {
     "name": "stdout",
     "output_type": "stream",
     "text": [
      "바뀐 점수 : [100, 90, 100, 80, 70, 100, 80, 90, 20, 85]\n"
     ]
    }
   ],
   "source": [
    "#(6) 9번의 점수를 20으로 변경하고 전체 출력하세요.\n",
    "jumsu[8]=20\n",
    "print(\"바뀐 점수 :\",jumsu)"
   ]
  },
  {
   "cell_type": "code",
   "execution_count": 8,
   "id": "5f44edff",
   "metadata": {},
   "outputs": [
    {
     "name": "stdout",
     "output_type": "stream",
     "text": [
      "중복 점수 제외 : {100, 70, 80, 20, 85, 90}\n",
      "중복 점수 제외 : [100, 70, 80, 20, 85, 90]\n",
      "100\n"
     ]
    }
   ],
   "source": [
    "#(7) 중복된 점수는 제거하고 하나씩만 나오도록 출력하세요.\n",
    "\n",
    "x = set(jumsu) #이렇게 하면 인덱스 할 수 없음.\n",
    "unique_jumsu = list(x) #그래서 이걸 다시 list로 만듦.\n",
    "\n",
    "print(\"중복 점수 제외 :\",x)\n",
    "print(\"중복 점수 제외 :\",unique_jumsu)\n",
    "print(unique_jumsu[0]) # 인덱스 가능.\n"
   ]
  },
  {
   "cell_type": "code",
   "execution_count": 12,
   "id": "25d850c6",
   "metadata": {},
   "outputs": [
    {
     "name": "stdout",
     "output_type": "stream",
     "text": [
      "['복숭아', '수박', '딸기', '사과', '귤']\n",
      "['복숭아', '수박', '딸기', '사과', '귤', '사과', '귤']\n"
     ]
    }
   ],
   "source": [
    "# 문제 8 ~ 9\n",
    "fruits = [\"복숭아\", \"수박\", \"딸기\"]\n",
    "\n",
    "#(8) fruits 리스트에 마지막 원소로 \"사과\", \"귤\"을 추가하세요.\n",
    "\n",
    "#fruits.append([\"사과\",\"귤\"]) # 이러면 중첩 리스트가 된다.\n",
    "fruits.extend([\"사과\",\"귤\"])\n",
    "print(fruits)\n",
    "\n",
    "# 주의 fruits가 바뀌는 것이 아니기에 다시 fruits에 넣어준다.\n",
    "fruits += [\"사과\",\"귤\"]\n",
    "print(fruits)"
   ]
  },
  {
   "cell_type": "code",
   "execution_count": 13,
   "id": "42902884",
   "metadata": {},
   "outputs": [
    {
     "name": "stdout",
     "output_type": "stream",
     "text": [
      "['딸기', '사과', '귤', '사과', '귤']\n"
     ]
    }
   ],
   "source": [
    "#(9) fruits 리스트에서 \"복숭아\"를 제거하세요.\n",
    "\n",
    "fruits.remove('복숭아') #값으로 지우는 것. 특정 값을 지우고 싶다.\n",
    "\n",
    "del fruits[0] # 인덱스로 지우는 것. 몇 번 인덱스를 지우고 싶다.\n",
    "\n",
    "print(fruits)"
   ]
  },
  {
   "cell_type": "code",
   "execution_count": 15,
   "id": "399a8557",
   "metadata": {},
   "outputs": [
    {
     "name": "stdout",
     "output_type": "stream",
     "text": [
      "{'name': '김철수', 'age': 25, 'email': 'cso6005@naver.com', 'hobby': ['여행', '영화보기'], '결혼유무': '무'}\n",
      "{'name': '김철수', 'age': 25, 'email': 'cso6005@naver.com', 'hobby': ['여행', '영화보기'], '결혼유무': '무'}\n"
     ]
    }
   ],
   "source": [
    "# 문제 10 ~ 15\n",
    "#(10)본인의 이름, 나이, email주소, 취미, 결혼유무를 사전(딕셔너리)으로 생성. \n",
    "# 취미는 2개 이상의 값을 넣는다..\n",
    "\n",
    "# 1번째 방법)\n",
    "\n",
    "info ={'name':\"김철수\",\n",
    "       'age':25,\n",
    "       'email':'cso6005@naver.com',\n",
    "       \"hobby\":[\"여행\",\"영화보기\"],\n",
    "       \"결혼유무\":\"무\"}\n",
    "print(info)\n",
    "\n",
    "# 2번째 방법) key 넣을 때 \"\" 안쓰고 그냥. 주의.\n",
    "info2 = dict(name=\"김철수\",\n",
    "       age=25,\n",
    "       email='cso6005@naver.com',\n",
    "       hobby=[\"여행\",\"영화보기\"],\n",
    "       결혼유무=\"무\")\n",
    "print(info2)"
   ]
  },
  {
   "cell_type": "code",
   "execution_count": 16,
   "id": "4d5b8285",
   "metadata": {},
   "outputs": [
    {
     "name": "stdout",
     "output_type": "stream",
     "text": [
      "이름 : 김철수 \n",
      "email : cso6005@naver.com\n"
     ]
    }
   ],
   "source": [
    "#(11) 위 딕셔너리에서 이름과 email주소를 조회해서 출력하세요.\n",
    "print(\"이름 :\",info['name'], \"\\nemail :\", info['email'])"
   ]
  },
  {
   "cell_type": "code",
   "execution_count": 19,
   "id": "3fdaf41e",
   "metadata": {},
   "outputs": [
    {
     "name": "stdout",
     "output_type": "stream",
     "text": [
      "두번째 취미 : 영화보기\n",
      "두번째 취미 : 영화보기\n"
     ]
    }
   ],
   "source": [
    "#(12) 위 딕셔너리에서 취미중 두번째 취미를 조회해서 출력하세요.\n",
    "\n",
    "y = info['hobby']\n",
    "print(\"두번째 취미 :\",y[1])\n",
    "# 굳이 이렇게 안 하고,\n",
    "\n",
    "# 취미 넣어줄 때 list로 넣어준 것. 즉 중첩리스트로 조회 가능.\n",
    "\n",
    "print(\"두번째 취미 :\",info['hobby'][1])\n"
   ]
  },
  {
   "cell_type": "code",
   "execution_count": 20,
   "id": "2ac64a2d",
   "metadata": {},
   "outputs": [
    {
     "name": "stdout",
     "output_type": "stream",
     "text": [
      "{'name': '김철수', 'age': 25, 'email': 'cso6005@naver.com', 'hobby': ['여행', '영화보기'], '결혼유무': '무', 'weight': 20, 'key': 170}\n"
     ]
    }
   ],
   "source": [
    "#(13) 위 딕셔너리에 몸무게와 키 항목을 추가하세요.\n",
    "\n",
    "info[\"weight\"]= 20\n",
    "info[\"key\"] = 170\n",
    "print(info)"
   ]
  },
  {
   "cell_type": "code",
   "execution_count": 21,
   "id": "36da57d5",
   "metadata": {},
   "outputs": [
    {
     "name": "stdout",
     "output_type": "stream",
     "text": [
      "{'name': '김철수', 'email': 'cso6005@naver.com', 'hobby': ['여행', '영화보기'], '결혼유무': '무', 'weight': 20, 'key': 170}\n"
     ]
    }
   ],
   "source": [
    "#(14) 위 딕셔너리에서 나이를 제거하세요.\n",
    "\n",
    "del info[\"age\"]\n",
    "print(info)"
   ]
  },
  {
   "cell_type": "code",
   "execution_count": 22,
   "id": "baa9021b",
   "metadata": {},
   "outputs": [
    {
     "name": "stdout",
     "output_type": "stream",
     "text": [
      "바뀐 email : abc1235@nate.com\n"
     ]
    }
   ],
   "source": [
    "#(15) 위 딕셔너리에서 email 주소를 다른 값으로 변경하세요.\n",
    "\n",
    "info['email']= \"abc1235@nate.com\"\n",
    "print(\"바뀐 email :\", info['email'])"
   ]
  },
  {
   "cell_type": "code",
   "execution_count": null,
   "id": "9ca9fe56",
   "metadata": {},
   "outputs": [],
   "source": []
  },
  {
   "cell_type": "code",
   "execution_count": null,
   "id": "197ab268",
   "metadata": {},
   "outputs": [],
   "source": []
  },
  {
   "cell_type": "code",
   "execution_count": null,
   "id": "7656eba2",
   "metadata": {},
   "outputs": [],
   "source": []
  },
  {
   "cell_type": "code",
   "execution_count": null,
   "id": "57fca11a",
   "metadata": {},
   "outputs": [],
   "source": []
  }
 ],
 "metadata": {
  "kernelspec": {
   "display_name": "Python 3 (ipykernel)",
   "language": "python",
   "name": "python3"
  },
  "language_info": {
   "codemirror_mode": {
    "name": "ipython",
    "version": 3
   },
   "file_extension": ".py",
   "mimetype": "text/x-python",
   "name": "python",
   "nbconvert_exporter": "python",
   "pygments_lexer": "ipython3",
   "version": "3.9.7"
  }
 },
 "nbformat": 4,
 "nbformat_minor": 5
}
