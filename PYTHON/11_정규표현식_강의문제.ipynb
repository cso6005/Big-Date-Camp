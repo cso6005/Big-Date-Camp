{
 "cells": [
  {
   "cell_type": "markdown",
   "id": "f6e32a69",
   "metadata": {},
   "source": [
    "### TODO 예제\n",
    "- info 변수는 한줄에 한사람의 data가 있고 구성은 **`이름 이메일주소 주민번호`** 순서로 되어있다."
   ]
  },
  {
   "cell_type": "code",
   "execution_count": null,
   "id": "22babc82",
   "metadata": {},
   "outputs": [],
   "source": [
    "info ='''김정수 kjs@gmail.com 801023-1010221\n",
    "박영수 pys@gmail.com 700121-1120212\n",
    "이민영 lmy@naver.com 820301-2020122\n",
    "김순희 ksh@daum.net 781223-2012212\n",
    "오주연 ojy@daum.net 900522-1023218\n",
    "'''"
   ]
  },
  {
   "cell_type": "code",
   "execution_count": null,
   "id": "ae2124aa",
   "metadata": {},
   "outputs": [],
   "source": [
    "print(info)"
   ]
  },
  {
   "cell_type": "code",
   "execution_count": null,
   "id": "48facb4e",
   "metadata": {},
   "outputs": [],
   "source": [
    "# 1. 이메일 주소만 조회(내가)(함수)\n",
    "result = re.findall(r\"[a-z@.]+\", info)\n",
    "\n",
    "\n",
    "print(result)"
   ]
  },
  {
   "cell_type": "code",
   "execution_count": null,
   "id": "aed62f2b",
   "metadata": {},
   "outputs": [],
   "source": [
    "# 1. 이메일 주소만 조회(풀이)(객체)\n",
    "\n",
    "email_pattern = r\"[A-Za-z0-9_.%+-]+@[A-Za-z0-9,-]+\\.[A-Za-z]{2,4}\" # 중간에 \\. 은 메타변수가 아니라 리터널 뜻하게\n",
    "# 문자클래스 [] 안에 넣어서 % 와 같은 것은 리터널로 인식\n",
    "\n",
    "p = re.compile(email_pattern)\n",
    "# p.match(info) # info문자열의 시작하는 문자열이 email 패턴으로 시작\n",
    "# p.search(info) # info문자열 안에 이메일이 있는지. 있으면 첫번째 찾은 것 반환\n",
    "\n",
    "\n",
    "# 리스트에 넣어 반환\n",
    "email_list = p.findall(info)\n",
    "print(email_list)\n",
    "\n",
    "\n",
    "# 패턴과 일치하는 (이메일주소) 조회결과를 Match 객체로 반환받는 법\n",
    "email_iter = p.finditer(info) \n",
    "for email_match in email_iter:\n",
    "    print(email_match.group(), email_match.start(),email_match.end(), email_match.span())\n",
    "\n"
   ]
  },
  {
   "cell_type": "code",
   "execution_count": null,
   "id": "c3c748f4",
   "metadata": {},
   "outputs": [],
   "source": [
    "# 주민번호만 출력(내가)\n",
    "result1 = re.findall(r\"[0-9\\-]+\",info)\n",
    "print(result1)"
   ]
  },
  {
   "cell_type": "code",
   "execution_count": null,
   "id": "db52107f",
   "metadata": {},
   "outputs": [],
   "source": [
    "# 주민번호만 출력(풀이)\n",
    "\n",
    "# jumin_pattern = r\"\\d{6}[.-]\\d{7}\" #숫자6개- 숫자7개 \n",
    "jumin_pattern = r\"\\d{6}[.-][1-4]\\d{6}\" #숫자6개-[1234]숫자6\n",
    "\n",
    "jumin_p = re.compile(jumin_pattern)\n",
    "jumin_list = jumin_p.findall(info)\n",
    "print(jumin_list)\n",
    "\n",
    "# jumin_pattern = r\"[8]\\d{5}[.-][1|3|]\\d{6}\" # 80년대 남자"
   ]
  }
 ],
 "metadata": {
  "kernelspec": {
   "display_name": "Python 3 (ipykernel)",
   "language": "python",
   "name": "python3"
  },
  "language_info": {
   "codemirror_mode": {
    "name": "ipython",
    "version": 3
   },
   "file_extension": ".py",
   "mimetype": "text/x-python",
   "name": "python",
   "nbconvert_exporter": "python",
   "pygments_lexer": "ipython3",
   "version": "3.9.7"
  }
 },
 "nbformat": 4,
 "nbformat_minor": 5
}
