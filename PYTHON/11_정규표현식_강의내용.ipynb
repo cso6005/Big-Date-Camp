{
 "cells": [
  {
   "cell_type": "markdown",
   "metadata": {
    "slideshow": {
     "slide_type": "slide"
    }
   },
   "source": [
    "# <font size=50>정규 표현식 (Regular Expression)</font>"
   ]
  },
  {
   "cell_type": "markdown",
   "metadata": {
    "slideshow": {
     "slide_type": "slide"
    }
   },
   "source": [
    "# 1. 정규 표현식(Regular Expression) 개요"
   ]
  },
  {
   "cell_type": "code",
   "execution_count": 1,
   "metadata": {
    "collapsed": true
   },
   "outputs": [
    {
     "data": {
      "text/plain": [
       "' \\n010-1111-2222\\n010-234-3432\\n011-3333-5555'"
      ]
     },
     "execution_count": 1,
     "metadata": {},
     "output_type": "execute_result"
    }
   ],
   "source": [
    "\n",
    "# 데이터 내 부분적인 데이터를 처리하기 위한 방법 => 정규 표현식\n",
    "\n",
    "# 국번을 모두 모두 #으로 가리기. #전화번호를 입력받는데 이 번호에 특정 번호가 있는 지\n",
    "''' \n",
    "010-1111-2222\n",
    "010-234-3432\n",
    "011-3333-5555''' #문자열 데이터 내 부분적으로 처리를 원한다.\n",
    "\n",
    "# 사실 정규표현식 처리를 위해서는 일정한 패턴, 패턴 규칙의 데이터이여야 한다."
   ]
  },
  {
   "cell_type": "markdown",
   "metadata": {
    "slideshow": {
     "slide_type": "subslide"
    }
   },
   "source": [
    "regexr.com\n",
    "정규표현식을 다 외우고 또 규칙 형태 찾고 적용하고 쉽지 않기에 구글링해서 찾고 상황에 맞게 내가 바꾸면 됨. 정규표현식 공부는 무작정 외우기 보다는 예제를 가지고 익히는 게 좋다.\n",
    "\n",
    "\n",
    "## 1.1. 정규 표현식이란\n",
    "- 텍스트에서 특정한 형태나 규칙을 가지는 문자열을 찾기 위해 그 형태나 규칙을 정의하는 것.\n",
    "- 파이썬 뿐만 아니라 문자열을 다루는 모든 곳에서 사용된다.\n",
    "- **정규식, Regexp**이라고도 한다."
   ]
  },
  {
   "cell_type": "markdown",
   "metadata": {
    "slideshow": {
     "slide_type": "fragment"
    }
   },
   "source": [
    "## 1.2. 기본개념\n",
    "- 패턴 \n",
    "    - 정규 표현식이라고 한다.\n",
    "    - 문장내에서 찾기위한 문구의 형태에 대한 표현식.\n",
    "    - 메타(meta)문자와 리터럴(literal) 로 구성한다.\n",
    "    \n",
    "    \n",
    "- 메타문자\n",
    "    - 패턴을 기술하기 위해 사용되는 특별한 의미를 가지는 문자(무언가를 표현하기 위해)\n",
    "        - 예) `a*` : a가 0회 이상 반복을 뜻한다. : a, aa, aaaa : a가 여러 글자 올 수 있다.\n",
    "        - \\d, \\w ...\n",
    "- 리터럴\n",
    "    - 표현식이 값 자체를 의미하는 것()\n",
    "    - 내가 찾는 값\n",
    "        - 예) `a`는 `a` 자체를 의미한다.    "
   ]
  },
  {
   "cell_type": "markdown",
   "metadata": {
    "slideshow": {
     "slide_type": "slide"
    }
   },
   "source": [
    "# 2. 정규 표현식 메타 문자\n",
    "- 패턴을 기술하기 위한 문자"
   ]
  },
  {
   "cell_type": "markdown",
   "metadata": {
    "slideshow": {
     "slide_type": "subslide"
    }
   },
   "source": [
    "## 2.1 문자 클래스 :  [  ] 대괄호 안에 넣는\n",
    "- `[ ]` 사이의 문자들과 매칭\n",
    "    - `[abc]` : a, b, c 중 **하나의 문자(이들중 하나)**와 매치\n",
    "- `-`를 이용해 범위로 설정할 수 있다.(순서가있다면)\n",
    "    - `[a-z]` : 알파벳소문자중 하나의 문자와 매치\n",
    "    - `[a-zA-Z0-9]` : 알파벳대소문자와 숫자 중 하나의 문자와 매치\n",
    "    - '[ㄱ-ㅎ]','[가-힣]': 모든한글을표현\n",
    "- `[^ 패턴]` : ^ 으로 시작하는 경우 반대의 의미(대괄호 안에 있다는 것 주의)\n",
    "    - `[^abc]` : a, b, c를 제외한 나머지 문자들 중 하나와 매치.\n",
    "    - `[^a-z]` : 알파벳 소문자를 제외한 나머지 문자들 중 하나와 매치"
   ]
  },
  {
   "cell_type": "markdown",
   "metadata": {
    "slideshow": {
     "slide_type": "subslide"
    }
   },
   "source": [
    "## 2.2 미리 정의된 문자 클래스\n",
    "- 자주 사용되는 문자클래스를 미리 정의된 별도 표기법으로 제공한다.\n",
    "- 한글자단위. 한글자를 찾는 것.(여러글자면 -> 아래 2.3)\n",
    "\n",
    "- **`\\d`** : 숫자와 매치. [0-9]와 동일\n",
    "- `\\D` : `\\d`의 반대. 숫자가 아닌 문자와 매치.  [^0-9]와 동일\n",
    "- **`\\w`** : 문자와 숫자, _(underscore)와 매치. `[a-zA-Z0-9_가-힣]`와 동일\n",
    "- `\\W` : `\\w`의 반대. 문자와 숫자와 _ 가 아닌 문자와 매치.  `[^a-zA-Z0-9_]`와 동일\n",
    "- `\\s` : 공백문자와 매치. tab,줄바꿈,공백문자와 일치\n",
    "- `\\S` : `\\s`와 반대. 공백을 제외한 문자열과 매치.\n",
    "- `\\b` : 단어 경계(word boundary) 표시. 보통 단어 경계로 공백을 의미. 양쪽 공백으로 떨어져 있는 단어\n",
    "    - `\\b가족\\b` => 우리 가족 만세(O), 우리가족만세 (X)\n",
    "- `\\B` : `\\b`의 반대. 단어 경계로 구분된 단어가 아닌 경우\n",
    "    - `\\B가족\\B` => 우리 가족 만세(X), 우리가족만세 (O)\n",
    "    \n",
    "    \n",
    "    \n",
    "- 대문자와 소문자는 반대의 의미를 가지고 있다."
   ]
  },
  {
   "cell_type": "markdown",
   "metadata": {
    "slideshow": {
     "slide_type": "subslide"
    }
   },
   "source": [
    "## 2.3. 글자수와 관련된 메타문자\n",
    "- `.` : 한개의 모든 문자(\\n-줄바꿈 제외) (`a.b`)\n",
    "    - `a.b` a와 b 사이에 뭐가 되었든 한 글자면! 근데 줄바꿈은 안된다. 엔터는 다른 문장을 의미하게 됨.\n",
    "        - 앞 뒤 글자가 무엇이든 그냥 . 부분에 한 글자가 들어오면 해당.\n",
    "\n",
    "\n",
    "- 이 아래부터는 앞에 있는 문자에 대한 것이다.\n",
    "- `*` : 앞의 문자(패턴)과 일치하는 문자가 0개 이상인 경우. (`a*b`) aaab aab ab b\n",
    "- `+` : 앞의 문자(패턴)과 일치하는 문자가 1개이상인 경우.  (`a+b`) aaab aab ab\n",
    "- `?` :  앞의 문자(패턴)과 일치하는 문자가 한개 있거나 없는 경우. (`a?b`) ab, b\n",
    "    만약 문장에 aaaab가 포함되어있다면 aaaab에서 ab 패터내을 찾을 것이다.?\n",
    "- `{m}` : 앞의 문자(패턴)가 m개. (`a{3}b`) aaab\n",
    "- `{m,}` : 앞의 문자(패턴)이 m개 이상. (`a{3,}b`) aaab aaaab\n",
    "    - , 뒤에 공백이 들어오지 않도록 한다.\n",
    "- `{m,n}` : 앞의 문자(패턴)이 m개이상 n개 이하. (`a{2,5}b`)\n",
    "    - 사이에 공백 있으면 안된다.\n",
    "\n",
    "\n",
    "- 찾는 방식이 문장 앞쪽부터 하나씩 비교. aaab일 때 ab 찾는 거면 a 하나 그 다음 또 a 찾는 거 아니고 그 다음 또 a 아니고 그다음 b? ab 맞네 그 다음 c? c는 아니지 ab 패턴까지만\n",
    "\n",
    "\n",
    "- **`.`, `*`, `+`, `?` 를 리터럴로 표현할 경우 `\\`를 붙인다.**\n",
    "- 합니까? 를 찾고 싶을 때? ==? `합니까?\\?"
   ]
  },
  {
   "cell_type": "markdown",
   "metadata": {
    "ExecuteTime": {
     "end_time": "2019-05-15T10:08:16.413433Z",
     "start_time": "2019-05-15T10:08:16.407394Z"
    },
    "slideshow": {
     "slide_type": "subslide"
    }
   },
   "source": [
    "## 2.4. 문장의 시작과 끝 표현\n",
    "- `^` 문자열의 시작 (`^abc`)\n",
    "    - 문자 클래스([ ])의 ^와는 의미가 다르다.\n",
    "- `$` : 문자열의 끝 (`abc$`)"
   ]
  },
  {
   "cell_type": "markdown",
   "metadata": {
    "ExecuteTime": {
     "end_time": "2019-05-15T10:08:16.413433Z",
     "start_time": "2019-05-15T10:08:16.407394Z"
    },
    "slideshow": {
     "slide_type": "fragment"
    }
   },
   "source": [
    "## 2.5. 기타\n",
    "- `|` : 둘중 하나 (OR) (010|011|016|019)\n",
    "    - ( )로 묶어서 사용한다. 010 이랑 011이랑.. |구분 단위로 \n",
    "        - `[]` 안에 넣으면 0 하나 1하나 한 글자 씩 따로 보게 됨\n",
    "    - 010|016-111 : 010 또는 016-111 이 된다. \n",
    "- `(  )` : 패턴내 하위그룹을 만들때 사용\n",
    "    "
   ]
  },
  {
   "cell_type": "markdown",
   "metadata": {
    "slideshow": {
     "slide_type": "slide"
    }
   },
   "source": [
    "# 3. re 모듈\n",
    "- 파이썬에서 정규 표현식을 지원하기 위한 모듈\n",
    "- 파이썬 기본 라이브러리"
   ]
  },
  {
   "cell_type": "markdown",
   "metadata": {
    "slideshow": {
     "slide_type": "subslide"
    }
   },
   "source": [
    "## 3.1 코딩패턴\n",
    "1. 모듈 import\n",
    "    - import re\n",
    "2. 패턴 객체 생성\n",
    "    - 패턴 컴파일\n",
    "    - 패턴을 가지고 있는 객체 생성\n",
    "3. 텍스트에서 패턴 문자열 검색또는 변경 작업\n",
    "\n",
    "> ### raw string(r-string)\n",
    "> - 패턴을 지정하는 문자열 앞에 r 표시구분자를 붙인 것을 말한다.\n",
    "> - `\\`를 일반문자로 처리(\\은 escape, 메타문자 두 가지 기능이 있기에 구분되야 한다.)\n",
    ">    - `re.compile('\\b가족\\b')` : `\\b`를 escape 문자 b(백스페이스)로 인식\n",
    ">    - `re.compile(r'\\b가족\\b')` : `\\b`가 일반문자가 되어 컴파일시 정규식 메타문자로 처리된다.\n"
   ]
  },
  {
   "cell_type": "code",
   "execution_count": 7,
   "metadata": {},
   "outputs": [
    {
     "name": "stdout",
     "output_type": "stream",
     "text": [
      "가족\b\n",
      "가족\\b\n",
      "12[a-z]3902\n"
     ]
    }
   ],
   "source": [
    "print('가족\\b')\n",
    "print(r'가족\\b') # 이렇게 넣어야 정규표현식으로 쓸 수 있다.\n",
    "\n",
    "# \\ 안써도 오해가 소지가 없더라도 무조건 r써주기\n",
    "print(r'12[a-z]3902')"
   ]
  },
  {
   "cell_type": "markdown",
   "metadata": {
    "slideshow": {
     "slide_type": "subslide"
    }
   },
   "source": [
    "> ### <방법>\n",
    "1. 패턴생성 \n",
    "2. 처리함수 \n",
    "    - 호출방식의 차이 - 1 객체지향   2 함수형\n",
    "\n",
    "> ### 정규식 관련 함수 구문의 두 형태\n",
    "1. pattern객체.메소드(매개변수)\n",
    "    ```python\n",
    "        p = re.compile(r'\\d+') #패턴생성. attribute로  패턴을 가지고 있는 객체 # self안에 패턴\n",
    "        p.search('abc123def') # 대상 'abc123def'\n",
    "    ```\n",
    "2. re.정규식사용함수(패턴, 매개변수)\n",
    "    ```python\n",
    "        re.search(r'\\d+', 'abc123def') # 함수 안에 패턴과 매개변수를 넣어\n",
    "    ```"
   ]
  },
  {
   "cell_type": "markdown",
   "metadata": {
    "slideshow": {
     "slide_type": "slide"
    }
   },
   "source": [
    "## 3.2. 검색함수\n",
    "- match(), search() : 패턴과 일치하는 문장이 **있는지 여부**를 확인할 때 사용\n",
    "- findall() : 패턴과 일치하는 문장을 **찾을 때** 사용"
   ]
  },
  {
   "cell_type": "markdown",
   "metadata": {
    "slideshow": {
     "slide_type": "subslide"
    }
   },
   "source": [
    "### 3.2.1. Match 객체\n",
    "- **검색 결과를** 담아 반환되는 객체\n",
    "    - match(), search() 의 반환타입\n",
    "- 패턴과 일치한 문자열과 대상문자열 내에서의 위치를 가지고 있는 객체\n",
    "- 주요 메소드\n",
    "    - **group()** : 매치된 문자열들을 튜플로 반환\n",
    "    - **group(subgroup 번호)** : 패턴에 하위그룹이 지정된 경우 특정 그룹의 문자열 반환\n",
    "    - **start(), end()** : 찾는 대상이 문자열내에서의 시작, 끝 index 반환\n",
    "    - **span()** : 대상 문자열 내에서 시작, 끝 index를 tuple로 반환"
   ]
  },
  {
   "cell_type": "markdown",
   "metadata": {
    "slideshow": {
     "slide_type": "subslide"
    }
   },
   "source": [
    "### 3.2.2 match(대상문자열 [, pos=0])\n",
    "- 대상 문자열의 시작 부터 정규식과 일치하는 것이 있는지 조회\n",
    "- pos : 시작 index 지정\n",
    "- 반환값\n",
    "    - Match 객체: 일치하는 문자열이 있는 경우\n",
    "    - None: 일치하는 문자열이 없는 경우\n",
    "    \n",
    "- 첫번째 매개변수 패턴, 두번째 매개변수 대상문자열, 세번째 매개변수 기타설정\n",
    "\n",
    "- def match(self,--) self 객체에 패턴이 들어가는"
   ]
  },
  {
   "cell_type": "code",
   "execution_count": 5,
   "metadata": {},
   "outputs": [
    {
     "name": "stdout",
     "output_type": "stream",
     "text": [
      "None\n"
     ]
    }
   ],
   "source": [
    "# EX. 함수형 방식_정수 한글자 찾기\n",
    "import re\n",
    "\n",
    "txt = \"안녕하세요. 제 나이는 2세 입니다.\"\n",
    "pattern_txt = r\"\\d+\" # \\d : 정수하나   +:1글자 이상 => 정수 한글자 이상\n",
    "\n",
    "# 첫번째 매개변수: 패턴, 두번째 매개변수 : 찾으려는 대상문자열, 세번째부터 : 기타설정\n",
    "m = re.match(pattern_txt, txt) #match()함수 : 대상문자열이 패턴으로 시작하냐?\n",
    "print(m)\n",
    "\n",
    "\n",
    "# 강사님 코드 확인하기\n",
    "# none: 그 패턴으로 시작하는 문자열이 없다.\n",
    "# match객체 :  패턴에 맞는 것을 찾으면 찾은 정보를 Match 객체에 담아 반환"
   ]
  },
  {
   "cell_type": "code",
   "execution_count": 50,
   "metadata": {},
   "outputs": [
    {
     "name": "stdout",
     "output_type": "stream",
     "text": [
      "<re.Match object; span=(0, 5), match='안녕하세요'>\n",
      "찾는 문자열: 안녕하세요\n",
      "찾는 문자열의 시작 index: 0\n",
      "찾는 문자열의 끝 index: 5\n",
      "시작, 끝 index : (0, 5)\n"
     ]
    }
   ],
   "source": [
    "# EX. 함수형 방식- 문자, 숫자, _ 중 1글자 이상\n",
    "\n",
    "import re\n",
    "\n",
    "txt = \"안녕하세요. 제 나이는 20세 입니다.\"\n",
    "pattern_txt = r\"\\w+\" # \\w :문자,숫자,_ 중   +:1글자 이상 \n",
    "\n",
    "# 첫번째 매개변수: 패턴, 두번째 매개변수 : 찾으려는 대상문자열, 세번째부터 : 기타설정\n",
    "m = re.match(pattern_txt, txt) #match()함수 : 대상문자열이 패턴으로 시작하냐?\n",
    "print(m)\n",
    "print(\"찾는 문자열:\", m.group())\n",
    "print(\"찾는 문자열의 시작 index:\", m.start())\n",
    "print(\"찾는 문자열의 끝 index:\", m.end()) # end index는 포함 안 됨\n",
    "print(\"시작, 끝 index :\", m.span())\n",
    "\n"
   ]
  },
  {
   "cell_type": "code",
   "execution_count": 4,
   "metadata": {},
   "outputs": [
    {
     "name": "stdout",
     "output_type": "stream",
     "text": [
      "<re.Match object; span=(0, 1), match='안'>\n"
     ]
    }
   ],
   "source": [
    "# 함수형 방식 _패턴에 + 넣고 안 넣고 차이\n",
    "\n",
    "# 수량자 + 안 넣으면 수량을 표시 안 해준 것.\n",
    "# ==> '안' 한글자만 반환함.\n",
    "\n",
    "import re\n",
    "txt = \"안녕하세요. 제 나이는 20세 입니다.\"\n",
    "print(re.match(r'\\w', txt))"
   ]
  },
  {
   "cell_type": "code",
   "execution_count": 10,
   "metadata": {},
   "outputs": [
    {
     "name": "stdout",
     "output_type": "stream",
     "text": [
      "녕하세요 (1, 5)\n"
     ]
    }
   ],
   "source": [
    "# 객체지향 방식\n",
    "\n",
    "import re\n",
    "txt = \"안녕하세요. 제 나이는 20세 입니다.\"\n",
    "\n",
    "# 패턴객체\n",
    "p = re.compile(r\"\\w+\")\n",
    "\n",
    "# 조회/변경하는 패턴객체의 메소드를 호출\n",
    "m = p.match(txt,1) #p의 패턴이 self로 들어가고 그 다음 매개변수에 대상 txt\n",
    "\n",
    "if m: # m!= None -> 조회결과가 있으면\n",
    "    print(m.group(), m.span())\n",
    "else:\n",
    "    print(\"대상이 없음.\") # 숫자 없으면"
   ]
  },
  {
   "cell_type": "markdown",
   "metadata": {
    "slideshow": {
     "slide_type": "subslide"
    }
   },
   "source": [
    "### 3.2.3 search(대상문자열 [, pos=0])\n",
    "- 대상문자열 전체 안에서 정규식과 일치하는 것이 있는지 조회\n",
    "- pos: 찾기 시작하는 index 지정\n",
    "- 반환값\n",
    "    - Match 객체: 일치하는 문자열이 있는 경우\n",
    "    - None: 일치하는 문자열이 없는 경우|"
   ]
  },
  {
   "cell_type": "code",
   "execution_count": 11,
   "metadata": {},
   "outputs": [
    {
     "name": "stdout",
     "output_type": "stream",
     "text": [
      "10 (22, 24)\n"
     ]
    }
   ],
   "source": [
    "import re\n",
    "txt = \"안녕하세요. 제 나이는 20세 입니다. 10년 후에는 30세가 도비니다.\"\n",
    "\n",
    "p = re.compile(r\"\\d+\")\n",
    "\n",
    "#m = p.search(txt) # search 첫번째로 찾은 것 하나만! 반환. 그 뒤에 있어도.\n",
    "m = p.search(txt, 16) # 16번 index부터 찾아 하나만 반환. -> 10년\n",
    "\n",
    "\n",
    "if m: \n",
    "    print(m.group(), m.span())\n",
    "else:\n",
    "    print(\"숫자가 없습니다.\") \n",
    "    \n",
    "# search 첫번째로 찾은 것을 반환. 그 뒤에 있어도.\n",
    "# 튜플 마지막 인덱스 미포함 (13, 15) => 13 14번째"
   ]
  },
  {
   "cell_type": "code",
   "execution_count": 22,
   "metadata": {},
   "outputs": [
    {
     "name": "stdout",
     "output_type": "stream",
     "text": [
      "700원 (29, 33)\n"
     ]
    }
   ],
   "source": [
    "txt = \"가격은 300원 5000원 10000원 20000원 700원 입니다. 한번에 100개씩 주문해 주세요.\"\n",
    "# 300원 말고 700원 찾기\n",
    "\n",
    "p_txt=r\"\\b\\d{3}원\" #백원대가격 : 정수 세개. 뒤에 원. 앞에 공백\n",
    "p = re.compile(p_txt) #객체\n",
    "m = p.search(txt,7) \n",
    "\n",
    "if m :\n",
    "    print(m.group(), m.span())\n",
    "else:\n",
    "    print(\"없음.\")"
   ]
  },
  {
   "cell_type": "markdown",
   "metadata": {
    "slideshow": {
     "slide_type": "subslide"
    }
   },
   "source": [
    "### 3.2.4. findall(대상문자열)\n",
    "- 대상문자열에서 정규식과 매칭되는 문자열들을 리스트로 반환\n",
    "    - 일치하는 애들 싹 다 리스트에 넣어 반환\n",
    "- 반환값\n",
    "    - 리스트(List) : 일치하는 문자열들을 가진 리스트를 반환\n",
    "    - 일치하는 문자열이 없는 경우 **빈 리스트 반환**"
   ]
  },
  {
   "cell_type": "code",
   "execution_count": 14,
   "metadata": {},
   "outputs": [
    {
     "name": "stdout",
     "output_type": "stream",
     "text": [
      "<re.Match object; span=(1, 2), match='i'> i\n",
      "['i', 'f', 'e', 'i', 's', 's', 'h', 'o', 'r', 't', 'o', 'u', 'n', 'e', 'e', 'd', 'p', 'y', 't', 'h', 'o', 'n']\n"
     ]
    }
   ],
   "source": [
    "# 소문자 abcd...xyz 찾기\n",
    "txt = 'Life is short. You need python.'\n",
    "\n",
    "#[a-z] : 모든 소문자 한 글자가 패턴 => 한글자씩 빠져 리스트에\n",
    "\n",
    "result = re.search(r\"[a-z]\", txt)\n",
    "\n",
    "result2 = re.findall(r\"[a-z]\", txt)\n",
    "\n",
    "print(result, result.group())\n",
    "print(result2)"
   ]
  },
  {
   "cell_type": "code",
   "execution_count": 27,
   "metadata": {},
   "outputs": [
    {
     "name": "stdout",
     "output_type": "stream",
     "text": [
      "['Life', 'is', 'short', 'You', 'need', 'python']\n"
     ]
    }
   ],
   "source": [
    "# 대문자 찾기\n",
    "txt = 'Life is short. You need python.'\n",
    "\n",
    "# [a-z] : 모든 소문자, +:1글자 이상(공백이나 . 나 패턴에 들어가지 않는다 그럼 공백과 . 전까지 한 묶음)\n",
    "\n",
    "result = re.findall(r\"[a-zA-Z]+\", txt)\n",
    "\n",
    "print(result)"
   ]
  },
  {
   "cell_type": "code",
   "execution_count": 31,
   "metadata": {},
   "outputs": [
    {
     "name": "stdout",
     "output_type": "stream",
     "text": [
      "['Life', 'is', 'short', 'You', 'need', 'python', '파이썬', '많이', '좋습A니다']\n"
     ]
    }
   ],
   "source": [
    "# 영문대소문자, 모든 한글 글자 찾기\n",
    "# 지금 파이썬3에서 3가 빠진다. 숫자는 패턴에 포함되지 않는다.\n",
    "\n",
    "txt = 'Life is short. You need python. 파이썬3 많이 좋습A니다.'\n",
    "\n",
    "result = re.findall(r\"[a-zA-Z가-힣]+\", txt)\n",
    "\n",
    "print(result)"
   ]
  },
  {
   "cell_type": "code",
   "execution_count": 35,
   "metadata": {
    "scrolled": true
   },
   "outputs": [
    {
     "name": "stdout",
     "output_type": "stream",
     "text": [
      "['Life', 'is', 'short', 'You', 'need', 'python', '파이썬3', '많이_많이', '좋습A니다']\n",
      "['Life', 'is', 'short', 'You', 'need', 'python', '파이썬3', '많이_많이', '좋습A니다']\n"
     ]
    }
   ],
   "source": [
    "#  영문대소문자, 모든 한글 글자, 숫자, _  찾기  => []대신해서 \\w\n",
    "# 파이썬3에서 3까지 출력\n",
    "\n",
    "txt = 'Life is short. You need python. 파이썬3 많이_많이 좋습A니다.'\n",
    "\n",
    "result = re.findall(r\"[a-zA-Z가-힣0-9_]+\", txt)\n",
    "result2 = re.findall(r\"\\w+\", txt)\n",
    "# findall() => 결과 문자열을 리스트에 담아서 반환.(값만 주고 문장 어디에 있는 지 모름.)\n",
    "\n",
    "\n",
    "print(result)\n",
    "print(result2)\n",
    "\n",
    "# 같은 처리"
   ]
  },
  {
   "cell_type": "code",
   "execution_count": 20,
   "metadata": {},
   "outputs": [
    {
     "name": "stdout",
     "output_type": "stream",
     "text": [
      "[' ', ' ', '. ', ' ', ' ', '. ', ' ', ' ', '.']\n"
     ]
    }
   ],
   "source": [
    "\n",
    "# 영문대소문자, 모든 한글 글자, 숫자, _ 의 반대 찾기 => ^\n",
    "# 공백   ,   \n",
    "\n",
    "txt = 'Life is short. You need python. 파이썬3 많이_많이 좋습A니다.'\n",
    "\n",
    "result = re.findall(r\"[^a-zA-Z가-힣0-9_]+\", txt)\n",
    "\n",
    "\n",
    "print(result)\n"
   ]
  },
  {
   "cell_type": "code",
   "execution_count": 21,
   "metadata": {
    "scrolled": true
   },
   "outputs": [
    {
     "name": "stdout",
     "output_type": "stream",
     "text": [
      "<class 'callable_iterator'> <re.Match object; span=(0, 4), match='Life'>\n",
      "------------------------------\n",
      "is (5, 7)\n",
      "short (8, 13)\n",
      "You (15, 18)\n",
      "need (19, 23)\n",
      "python (24, 30)\n",
      "파이썬3 (32, 36)\n",
      "많이_많이 (37, 42)\n",
      "좋습A니다 (43, 48)\n"
     ]
    }
   ],
   "source": [
    "result_iter = re.finditer(r\"\\w+\", txt)\n",
    "\n",
    "print(type(result_iter), next(result_iter))\n",
    "\n",
    "# finditer(): iterator를 반환. next() 결과를 Match객체로 반환\n",
    "print(\"-\"*30)\n",
    "\n",
    "for m in result_iter:\n",
    "    print(m.group(), m.span())"
   ]
  },
  {
   "cell_type": "markdown",
   "metadata": {
    "slideshow": {
     "slide_type": "slide"
    }
   },
   "source": [
    "### TODO 예제\n",
    "- info 변수는 한줄에 한사람의 data가 있고 구성은 **`이름 이메일주소 주민번호`** 순서로 되어있다."
   ]
  },
  {
   "cell_type": "code",
   "execution_count": 42,
   "metadata": {},
   "outputs": [],
   "source": [
    "info ='''김정수 kjs@gmail.com 801023-1010221\n",
    "박영수 pys@gmail.com 700121-1120212\n",
    "이민영 lmy@naver.com 820301-2020122\n",
    "김순희 ksh@daum.net 781223-2012212\n",
    "오주연 ojy@daum.net 900522-1023218\n",
    "'''"
   ]
  },
  {
   "cell_type": "code",
   "execution_count": 43,
   "metadata": {},
   "outputs": [
    {
     "name": "stdout",
     "output_type": "stream",
     "text": [
      "김정수 kjs@gmail.com 801023-1010221\n",
      "박영수 pys@gmail.com 700121-1120212\n",
      "이민영 lmy@naver.com 820301-2020122\n",
      "김순희 ksh@daum.net 781223-2012212\n",
      "오주연 ojy@daum.net 900522-1023218\n",
      "\n"
     ]
    }
   ],
   "source": [
    "print(info)"
   ]
  },
  {
   "cell_type": "code",
   "execution_count": 44,
   "metadata": {},
   "outputs": [
    {
     "name": "stdout",
     "output_type": "stream",
     "text": [
      "['kjs@gmail.com', 'pys@gmail.com', 'lmy@naver.com', 'ksh@daum.net', 'ojy@daum.net']\n"
     ]
    }
   ],
   "source": [
    "# 1. 이메일 주소만 조회(내가)(함수)\n",
    "result = re.findall(r\"[a-z@.]+\", info)\n",
    "\n",
    "\n",
    "print(result)"
   ]
  },
  {
   "cell_type": "code",
   "execution_count": 56,
   "metadata": {},
   "outputs": [
    {
     "name": "stdout",
     "output_type": "stream",
     "text": [
      "['kjs@gmail.com', 'pys@gmail.com', 'lmy@naver.com', 'ksh@daum.net', 'ojy@daum.net']\n",
      "kjs@gmail.com 4 17 (4, 17)\n",
      "pys@gmail.com 37 50 (37, 50)\n",
      "lmy@naver.com 70 83 (70, 83)\n",
      "ksh@daum.net 103 115 (103, 115)\n",
      "ojy@daum.net 135 147 (135, 147)\n"
     ]
    }
   ],
   "source": [
    "# 1. 이메일 주소만 조회(풀이)(객체)\n",
    "\n",
    "email_pattern = r\"[A-Za-z0-9_.%+-]+@[A-Za-z0-9,-]+\\.[A-Za-z]{2,4}\" # 중간에 \\. 은 메타변수가 아니라 리터널 뜻하게\n",
    "# 문자클래스 [] 안에 넣어서 % 와 같은 것은 리터널로 인식\n",
    "\n",
    "p = re.compile(email_pattern)\n",
    "# p.match(info) # info문자열의 시작하는 문자열이 email 패턴으로 시작\n",
    "# p.search(info) # info문자열 안에 이메일이 있는지. 있으면 첫번째 찾은 것 반환\n",
    "\n",
    "\n",
    "# 리스트에 넣어 반환\n",
    "email_list = p.findall(info)\n",
    "print(email_list)\n",
    "\n",
    "\n",
    "# 패턴과 일치하는 (이메일주소) 조회결과를 Match 객체로 반환받는 법\n",
    "email_iter = p.finditer(info) \n",
    "for email_match in email_iter:\n",
    "    print(email_match.group(), email_match.start(),email_match.end(), email_match.span())\n",
    "\n"
   ]
  },
  {
   "cell_type": "code",
   "execution_count": 45,
   "metadata": {
    "scrolled": true
   },
   "outputs": [
    {
     "name": "stdout",
     "output_type": "stream",
     "text": [
      "['801023-1010221', '700121-1120212', '820301-2020122', '781223-2012212', '900522-1023218']\n"
     ]
    }
   ],
   "source": [
    "# 주민번호만 출력(내가)\n",
    "result1 = re.findall(r\"[0-9\\-]+\",info)\n",
    "print(result1)"
   ]
  },
  {
   "cell_type": "code",
   "execution_count": 61,
   "metadata": {},
   "outputs": [
    {
     "name": "stdout",
     "output_type": "stream",
     "text": [
      "['801023-1010221', '700121-1120212', '820301-2020122', '781223-2012212', '900522-1023218']\n"
     ]
    }
   ],
   "source": [
    "# 주민번호만 출력(풀이)\n",
    "\n",
    "# jumin_pattern = r\"\\d{6}[.-]\\d{7}\" #숫자6개- 숫자7개 \n",
    "jumin_pattern = r\"\\d{6}[.-][1-4]\\d{6}\" #숫자6개-[1234]숫자6\n",
    "\n",
    "jumin_p = re.compile(jumin_pattern)\n",
    "jumin_list = jumin_p.findall(info)\n",
    "print(jumin_list)\n",
    "\n",
    "# jumin_pattern = r\"[8]\\d{5}[.-][1|3|]\\d{6}\" # 80년대 남자"
   ]
  },
  {
   "cell_type": "markdown",
   "metadata": {
    "slideshow": {
     "slide_type": "subslide"
    }
   },
   "source": [
    "## 3.3. 문자열 변경\n",
    "- sub(): 변경된 문자열 반환. 보통 이거 씀.\n",
    "- subn(): 변경된 문자열, 변경개수 반환. n이 갯수"
   ]
  },
  {
   "cell_type": "markdown",
   "metadata": {
    "slideshow": {
     "slide_type": "subslide"
    }
   },
   "source": [
    "### 3.3.1 sub(바꿀문자열, 대상문자열 [, count=양수])\n",
    "- 대상문자열에서 패턴과 일치하는 것을 바꿀문자열로 변경한다.\n",
    "- count: 변경할 개수를 지정. 기본: 매칭되는 문자열은 다 변경\n",
    "- 반환값: 변경된 문자열\n",
    "\n",
    "\n",
    "패턴 - 바꿀문자열 - 대상문자열\n",
    "\n",
    "\n",
    "### 3.3.2 subn(바꿀문자열, 대상문자열 [, count=양수])\n",
    "- sub()와 동일한 역할.\n",
    "- 반환값 : (변경된 문자열, 변경된문자열개수) 를 tuple로 반환"
   ]
  },
  {
   "cell_type": "code",
   "execution_count": null,
   "metadata": {},
   "outputs": [],
   "source": []
  },
  {
   "cell_type": "markdown",
   "metadata": {
    "slideshow": {
     "slide_type": "slide"
    }
   },
   "source": [
    "### 예제 "
   ]
  },
  {
   "cell_type": "code",
   "execution_count": 22,
   "metadata": {},
   "outputs": [
    {
     "name": "stdout",
     "output_type": "stream",
     "text": [
      "오늘 밥을 먹었다.\n",
      "오늘            밥을           먹었다.\n"
     ]
    }
   ],
   "source": [
    "# 띄여 쓰기 여러개를 한개로 변경.\n",
    "import re\n",
    "\n",
    "txt= \"오늘            밥을           먹었다.\" # \"오늘 밥을 먹었다.\"\n",
    "p = re.compile(r\"\\s+\") # 바꿀 대상을 패턴. \\s: 공백(스페이스, 탭, 엔터) 하나!  *:한 개 이상\n",
    "\n",
    "\n",
    "result = p.sub(\" \",txt)\n",
    "print(result)\n",
    "print(txt) # 원본은 그대로"
   ]
  },
  {
   "cell_type": "code",
   "execution_count": null,
   "metadata": {},
   "outputs": [],
   "source": [
    "# 띄여 쓰기 여러개를 한개로 변경. 함수\n",
    "\n",
    "result = re.sub(r\"\\s{2,}\", \" \", txt)  \n",
    "# 이렇게 써도 됨. \\s{2,} : 공백 두개 이상이 붙은 문자열"
   ]
  },
  {
   "cell_type": "code",
   "execution_count": 24,
   "metadata": {},
   "outputs": [
    {
     "name": "stdout",
     "output_type": "stream",
     "text": [
      "<class 'tuple'>\n",
      "('오늘 밥을 먹었다.', 2)\n",
      "오늘 밥을 먹었다.\n",
      "2\n"
     ]
    }
   ],
   "source": [
    "# subn()\n",
    "\n",
    "txt= \"오늘            밥을           먹었다.\"\n",
    "\n",
    "p = re.compile(r\"\\s+\")\n",
    "result = p.subn(' ', txt)\n",
    "\n",
    "print(type(result)) # 튜플\n",
    "print(result) # 문자열과 숫자가 튜플에 담겨있다.\n",
    "\n",
    "print(result[0]) # 비뀐 문자열\n",
    "print(result[1]) # 변경된 문자열 갯수"
   ]
  },
  {
   "cell_type": "code",
   "execution_count": 84,
   "metadata": {},
   "outputs": [
    {
     "name": "stdout",
     "output_type": "stream",
     "text": [
      "01011112222 01033213201 01032133031\n"
     ]
    }
   ],
   "source": [
    "# 전화번호에서 사용된 구분자를 제거. 각 전화번호를 구분하는 공백은 남긴다.\n",
    "tel = '010-1111-2222, 01033213201 (010)3213-3031'\n",
    "# 패턴이 일정하지 않다. 이럴땐 패턴을 찾는 것이 아니라 남길 것을 생각하자\n",
    "\n",
    "p = re.compile(r\"[^0-9 ]\") # 남길 것 : 숫자0-9 공백  에서 ^로\n",
    "# [a ] 대괄호 안에 공백 하나가 들어있는 것이다. 안 보인다고 착각하면 안됨!\n",
    "\n",
    "result = p.sub(\"\",tel)\n",
    "print(result)"
   ]
  },
  {
   "cell_type": "markdown",
   "metadata": {
    "slideshow": {
     "slide_type": "subslide"
    }
   },
   "source": [
    "## 3.4 나누기(토큰화)\n",
    "### 3.4.1 split(대상문자열)\n",
    "- pattern의 구분자로 문장을 나눈다.\n",
    "- 반환: 나눈 문자열을 원소로 하는 리스트"
   ]
  },
  {
   "cell_type": "code",
   "execution_count": 92,
   "metadata": {},
   "outputs": [
    {
     "data": {
      "text/plain": [
       "['홍길동', ' 김명수', ' 유관순']"
      ]
     },
     "execution_count": 92,
     "metadata": {},
     "output_type": "execute_result"
    }
   ],
   "source": [
    "# [참고 _ 문자열 쪼개기] \n",
    "f =\"홍길동과 김명수과 유관순\"\n",
    "v = f.split(\"과\") # 나눠진 값 하나하나를 Token\n",
    "v"
   ]
  },
  {
   "cell_type": "code",
   "execution_count": 95,
   "metadata": {},
   "outputs": [
    {
     "data": {
      "text/plain": [
       "['A', 'B', 'C', 'D', 'E', 'F']"
      ]
     },
     "execution_count": 95,
     "metadata": {},
     "output_type": "execute_result"
    }
   ],
   "source": [
    "txt = 'A.B|C.D,E:F' # 구분자  .  |  ,  :  => 여러가지가 사용됨.\n",
    "p = re.compile(r\"[.|r:,]\") # 구분자 패턴 객체 생성  # 메타글자 \n",
    "\n",
    "# .  :1글자를 뜻함 근데 리터널로 표현하려며 \\. 이렇게 써야 함 \n",
    "# 근데 문자클래스[]에서는 메타문자가 적용이 안된다. \n",
    "# (메타문자가 literal로 사용됨)\n",
    "\n",
    "result = p.split(txt)\n",
    "result"
   ]
  },
  {
   "cell_type": "code",
   "execution_count": null,
   "metadata": {},
   "outputs": [],
   "source": [
    "http://문자열.문자열들.com\n",
    "p_txt = r\"http[s]*://\\w+\\.\"\n",
    "\n",
    "# \\. 여기서는 . 을 리터널로 쓰기위해서 \\을 붙여줘야 한다.\n",
    "# 안 붙이면 메타변수로 쓰이면서 저 자리에는 아무 글자 하나만 들어와도 된다는 뜻으로 쓰임\n",
    "\n",
    "\n",
    "# 메타문자 *   :  올수도 있고 아닐수도 있고"
   ]
  },
  {
   "cell_type": "markdown",
   "metadata": {
    "slideshow": {
     "slide_type": "slide"
    }
   },
   "source": [
    "# 4. 그룹핑(Grouping)\n",
    "- 패턴 내에서 하위패턴을 만드는 것.\n",
    "    - 전체 패턴에서 일부 패턴을 묶어준다.\n",
    "- 구문: **(하위패턴)**"
   ]
  },
  {
   "cell_type": "markdown",
   "metadata": {
    "ExecuteTime": {
     "end_time": "2019-05-16T00:50:03.543080Z",
     "start_time": "2019-05-16T00:50:03.537062Z"
    },
    "slideshow": {
     "slide_type": "subslide"
    }
   },
   "source": [
    "## 4.1. 그룹핑 예"
   ]
  },
  {
   "cell_type": "markdown",
   "metadata": {
    "ExecuteTime": {
     "end_time": "2019-05-16T00:56:13.966065Z",
     "start_time": "2019-05-16T00:56:13.960644Z"
    },
    "slideshow": {
     "slide_type": "subslide"
    }
   },
   "source": [
    "### 4.1.1 전체 패턴 내에서 일부 패턴을 조회"
   ]
  },
  {
   "cell_type": "code",
   "execution_count": 100,
   "metadata": {},
   "outputs": [
    {
     "name": "stdout",
     "output_type": "stream",
     "text": [
      "전화번호: 010-1111-2345\n",
      "국번: 1111\n"
     ]
    }
   ],
   "source": [
    "# 전화번호에서 국번만 조회하려는 경우\n",
    "# 전화번호 패턴 안에 국번이라는 하위패턴을 뽑아내야 한다.\n",
    "# 단순히 국번(단순히 -세네숫자- )의 패턴을 찾는 게 아니라 전화번호 패턴안에서 국번에 패턴을 지정해야 함.\n",
    "\n",
    "\n",
    "tel = '010-1111-2345'\n",
    "\n",
    "# 전화번호(전체 패턴)에서 국번(일부패턴) 패턴\n",
    "p = re.compile(r\"\\d{2,3}-(\\d{3,4})-\\d{4}\")\n",
    "\n",
    "m = p.search(tel)\n",
    "print(\"전화번호:\",m.group()) \n",
    "# match.group() == match.group(0) => 전체 패턴과 일치한 문자열\n",
    "\n",
    "print(\"국번:\",m.group(1))\n",
    "# match.group(index-1부터) => 전체패턴 내의 하위패턴과 일치한 문자열 => (패턴)\n"
   ]
  },
  {
   "cell_type": "code",
   "execution_count": 105,
   "metadata": {},
   "outputs": [
    {
     "name": "stdout",
     "output_type": "stream",
     "text": [
      "전화번호: 010-1111-2345\n",
      "전화번호: 010-1111-2345\n",
      "통신사/지역번호: 010\n",
      "국번: 1111\n",
      "뒷번호: 2345\n"
     ]
    }
   ],
   "source": [
    "tel = '010-1111-2345'\n",
    "\n",
    "p = re.compile(r\"(\\d{2,3})-(\\d{3,4})-(\\d{4})\")\n",
    "# (패턴1)-(패턴2)-(패턴3)  \n",
    "# => 0 : 전체   index 1 : 패턴1   2 : 패턴2   3: 패턴3\n",
    "\n",
    "m = p.search(tel)\n",
    "\n",
    "print(\"전화번호:\",m.group()) # 전체 패턴과 일치한 문자열\n",
    "print(\"전화번호:\",m.group(0)) # 전체 패턴과 일치한 문자열\n",
    "\n",
    "print(\"통신사/지역번호:\", m.group(1))\n",
    "print(\"국번:\", m.group(2))\n",
    "print(\"뒷번호:\", m.group(3))"
   ]
  },
  {
   "cell_type": "code",
   "execution_count": 26,
   "metadata": {},
   "outputs": [
    {
     "name": "stdout",
     "output_type": "stream",
     "text": [
      "[('010', '1111', '2345'), ('02', '2433', '1232'), ('016', '231', '2323')]\n"
     ]
    }
   ],
   "source": [
    "# 복수 전화번호 예제 _ findall로 \n",
    "# 전체를 튜플로 각 하위패턴을 원소로 가지는 튜플로 반환\n",
    "\n",
    "tel = '010-1111-2345 02-2433-1232 016-231-2323'\n",
    "\n",
    "p = re.compile(r\"(\\d{2,3})-(\\d{3,4})-(\\d{4})\")\n",
    "\n",
    "# findall 을 쓰면 각각 하위 뽑기가 어렵다. 그래서 아래 처럼.\n",
    "result = p.findall(tel)\n",
    "print(result) "
   ]
  },
  {
   "cell_type": "code",
   "execution_count": 104,
   "metadata": {},
   "outputs": [
    {
     "name": "stdout",
     "output_type": "stream",
     "text": [
      "전체번호 010-1111-2345\n",
      "지역/통신사 010\n",
      "국번: 1111\n",
      "뒷번호: 2345\n",
      "------------------------------\n",
      "전체번호 02-2433-1232\n",
      "지역/통신사 02\n",
      "국번: 2433\n",
      "뒷번호: 1232\n",
      "------------------------------\n",
      "전체번호 016-231-2323\n",
      "지역/통신사 016\n",
      "국번: 231\n",
      "뒷번호: 2323\n",
      "------------------------------\n"
     ]
    }
   ],
   "source": [
    "# 복수 전화번호 예제 _  finditer로 하위패턴 뽑기\n",
    "\n",
    "tel = '010-1111-2345 02-2433-1232 016-231-2323'\n",
    "p = re.compile(r\"(\\d{2,3})-(\\d{3,4})-(\\d{4})\")\n",
    "\n",
    "result_iter = p.finditer(tel)\n",
    "for m in result_iter:\n",
    "    print(\"전체번호\", m.group())\n",
    "    print(\"지역/통신사\", m.group(1))\n",
    "    print(\"국번:\", m.group(2))\n",
    "    print(\"뒷번호:\", m.group(3))\n",
    "    print(\"-\"*30)"
   ]
  },
  {
   "cell_type": "markdown",
   "metadata": {},
   "source": [
    "- 중첩 그룹"
   ]
  },
  {
   "cell_type": "code",
   "execution_count": 106,
   "metadata": {},
   "outputs": [
    {
     "name": "stdout",
     "output_type": "stream",
     "text": [
      "전체: 0000-1111-2222-3333\n",
      "group(1): 0000\n",
      "group(2): 1111-2222\n",
      "group(3): 1111\n",
      "group(4): 2222\n",
      "group(5): 3333\n"
     ]
    }
   ],
   "source": [
    "# 중첩 그룹. 그룹안에 그룹. 그렇다면 이때 group 번호는 어떤 순서?\n",
    "num = '0000-1111-2222-3333'\n",
    "p = re.compile(r\"(\\d{3,4})-((\\d{4})-(\\d{4}))-(\\d{4})\")\n",
    "\n",
    "m = p.search(num)\n",
    "print(\"전체:\",m.group())\n",
    "print(\"group(1):\",m.group(1))\n",
    "print(\"group(2):\",m.group(2))\n",
    "print(\"group(3):\",m.group(3))\n",
    "print(\"group(4):\",m.group(4))\n",
    "print(\"group(5):\",m.group(5))\n",
    "\n",
    "\n",
    "# 왼쪽 --> 오른쪽\n",
    "# 바깥쪽 패턴  --> 안쪽 패턴\n",
    "# 0 전체  1 첫 괄호  2 두번째 괄호(밖 전체)  3  두번째 괄호 안 첫번째 괄호 4 두번째 괄호 안 두번째 괄호 5 세번째 괄호"
   ]
  },
  {
   "cell_type": "markdown",
   "metadata": {
    "slideshow": {
     "slide_type": "subslide"
    }
   },
   "source": [
    "### 4.1.2 패턴 내에서 하위그룹 참조\n",
    "- `\\번호`\n",
    "- 지정한 '번호' 번째 패턴으로 매칭된 문자열과 같은 문자열을 의미"
   ]
  },
  {
   "cell_type": "code",
   "execution_count": 108,
   "metadata": {},
   "outputs": [],
   "source": [
    "tels =\"\"\"\n",
    "010-1111-2222\n",
    "010-3333-3333\n",
    "010-3232-9090\n",
    "02-4321-4321\n",
    "011-5353-1010\n",
    "\"\"\"\n"
   ]
  },
  {
   "cell_type": "code",
   "execution_count": 110,
   "metadata": {},
   "outputs": [
    {
     "name": "stdout",
     "output_type": "stream",
     "text": [
      "[('010', '1111', '2222'), ('010', '3333', '3333'), ('010', '3232', '9090'), ('02', '4321', '4321'), ('011', '5353', '1010')]\n"
     ]
    }
   ],
   "source": [
    "p1 = r\"(\\d{2,3})-(\\d{3,4})-(\\d{4})\"  \n",
    "\n",
    "# 일반 전화번호 패턴 - findall(tels):5개 모두 찾는다. \n",
    "print(re.findall(p1,tels))"
   ]
  },
  {
   "cell_type": "code",
   "execution_count": 117,
   "metadata": {},
   "outputs": [
    {
     "name": "stdout",
     "output_type": "stream",
     "text": [
      "번호: 010-3333-3333  지역번호: 010  국번: 3333\n",
      "번호: 02-4321-4321  지역번호: 02  국번: 4321\n"
     ]
    }
   ],
   "source": [
    "# 국번과 번호가 같은 전화번호를 찾아라.\n",
    "\n",
    "p2 = r\"(\\d{2,3})-(\\d{3,4})-\\2\" \n",
    "\n",
    "# \\2 : 2번 하위그룹 패턴으로 찾은 값과 동일한 값(문자열) 이 이자리에 있어야 한다.\n",
    "# 2번 하위그룹의 패턴 형식을 들고 오는 게 아님!\n",
    "\n",
    "for m in re.finditer(p2,tels): # 함수형으로 iter써서 하나씩\n",
    "    print(\"번호:\",m.group(0), \" 지역번호:\",m.group(1),\" 국번:\", m.group(2))\n",
    "    \n",
    "    # 하위 그룹은 () 묶어야 함.  \\번호 -> 호출개념. 하위그룹으로 묶은게 아님.\n",
    "    # m.group(3) 은 현재 없다. 오류남.\n",
    "    # 만약 쓰려면 (\\2) 이렇게 묶어줘야 함. 근데 뭐 앞과 같으니 묶을 일이 없"
   ]
  },
  {
   "cell_type": "markdown",
   "metadata": {},
   "source": [
    "#### 패턴 내에서 특정부분만 변경"
   ]
  },
  {
   "cell_type": "code",
   "execution_count": null,
   "metadata": {},
   "outputs": [],
   "source": []
  },
  {
   "cell_type": "code",
   "execution_count": 128,
   "metadata": {},
   "outputs": [
    {
     "name": "stdout",
     "output_type": "stream",
     "text": [
      "김정수 kjs@gmail.com 801023-1######\n",
      "박영수 pys@gmail.com 700121-1######\n",
      "이민영 lmy@naver.com 820301-2######\n",
      "김순희 ksh@daum.net 781223-2######\n",
      "오주연 ojy@daum.net 900522-1######\n",
      "\n"
     ]
    }
   ],
   "source": [
    "info ='''김정수 kjs@gmail.com 801023-1010221\n",
    "박영수 pys@gmail.com 700121-1120212\n",
    "이민영 lmy@naver.com 820301-2020122\n",
    "김순희 ksh@daum.net 781223-2012212\n",
    "오주연 ojy@daum.net 900522-1023218\n",
    "'''\n",
    "\n",
    "p = r\"(\\d{6}-[1-4])(\\d{6})\" # 전체가 g<0>  (묶여 있는 애들)가 g<1> \n",
    "result = re.sub(p, '\\g<1>######', info) \n",
    "# \\g<1> : 1번 하위 그룹으로 찾은 내용을 그 위치에 표현.\n",
    "# sub 바꿀 문자열 : \\g<1>######\n",
    "\n",
    "# => jumin변수의 문자열에서 패턴(주민번호)을 '\\g<1>######'으로 변경\n",
    "\n",
    "print(result)\n",
    "\n"
   ]
  },
  {
   "cell_type": "code",
   "execution_count": 29,
   "metadata": {},
   "outputs": [
    {
     "name": "stdout",
     "output_type": "stream",
     "text": [
      "김정수 kjs@gmail.com 801023-1######\n",
      "박영수 pys@gmail.com 700121-1######\n",
      "이민영 lmy@naver.com 820301-2######\n",
      "김순희 ksh@daum.net 781223-2######\n",
      "오주연 ojy@daum.net 900522-1######\n",
      "\n"
     ]
    }
   ],
   "source": [
    "info ='''김정수 kjs@gmail.com 801023-1010221\n",
    "박영수 pys@gmail.com 700121-1120212\n",
    "이민영 lmy@naver.com 820301-2020122\n",
    "김순희 ksh@daum.net 781223-2012212\n",
    "오주연 ojy@daum.net 900522-1023218\n",
    "'''\n",
    "p = re.compile(r\"(\\d{6}-[1-4])\\d{6}\")\n",
    "# p.search(info) # 찾는 건 전체\n",
    "# p.findall(info) #findall은 소그룹만 튜플로 묶는다. 리턴할 때 빠진 것.\n",
    "\n",
    "result = p.sub('\\g<1>######',info)\n",
    "print(result)"
   ]
  },
  {
   "cell_type": "code",
   "execution_count": 139,
   "metadata": {},
   "outputs": [
    {
     "name": "stdout",
     "output_type": "stream",
     "text": [
      "김모씨 kjs@gmail.com 801023-1010221\n",
      "박모씨 pys@gmail.com 700121-1120212\n",
      "이모씨 lmy@naver.com 820301-2020122\n",
      "김모씨 ksh@daum.net 781223-2012212\n",
      "오모씨 ojy@daum.net 900522-1023218\n",
      "\n",
      "김모씨 kjs@gmail.com 801023-1010221\n",
      "박모씨 pys@gmail.com 700121-1120212\n",
      "이모씨 lmy@naver.com 820301-2020122\n",
      "김모씨 ksh@daum.net 781223-2012212\n",
      "오모씨 ojy@daum.net 900522-1023218\n",
      "\n"
     ]
    }
   ],
   "source": [
    "p1 = r\"([가-힣])[가-힣]{2,3}\"\n",
    "\n",
    "result1 = re.sub(p1,\"\\g<1>모씨\", info)\n",
    "print(result1)\n",
    "\n",
    "p2 = re.compile(r\"([가-힣])[가-힣]{2,3}\")\n",
    "result2= p2.sub(\"\\g<1>모씨\", info)\n",
    "print(result2)"
   ]
  },
  {
   "cell_type": "markdown",
   "metadata": {},
   "source": [
    "### 하위 그룹 패턴을 참조\n",
    "- 하위그룹 index : 1부터 시작\n",
    "- Match.group() 함수에서 그룹을 지정\n",
    "    - group(그룹index)\n",
    "    - ex)  m.group(), m.group(1), m.group(2)\n",
    "- 패턴 내에서 참조\n",
    "    - 특정 그룹을 찾은 문자열과 같은 문자열이 있는 위치를 지정\n",
    "    - \\그룹index\n",
    "    -r\"(\\d{4})-\\1\"  #1234-1234\n",
    "- sub() 함수에서 사용\n",
    "    - 특정 그룹에서 찾은 문자열을 이용해서 대체문자열을 생성\n",
    "    - \\g<그룹index>\n",
    "    - re.sub(\"(\\w+)-\\d+\", \"\\g<1>-@@@@@\", txt)\n",
    "    "
   ]
  },
  {
   "cell_type": "markdown",
   "metadata": {},
   "source": [
    "## Greedy(기본), Non-Greedy 탐색\n",
    "- greedy : 최대 일치\n",
    "    - 이게 기본\n",
    "    - 주어진 패턴을 만족하는 문자열을 최대한 넓게(길게) 잡아서 찾는다.\n",
    "- non-greedy : 최소 일치\n",
    "    - 주어진 패턴을 만족하는 문자열을 최소한으로 잡아서 찾는다.\n",
    "    - 개수의 끝이 정해지지 않은 수량자(개수를 나타내는 메타문자) 뒤에 '?'를 붙인다.\n",
    "        - ex) `*?`   `+?`   `{m,n}?`   `{m,}?`"
   ]
  },
  {
   "cell_type": "code",
   "execution_count": 143,
   "metadata": {},
   "outputs": [
    {
     "name": "stdout",
     "output_type": "stream",
     "text": [
      "['<h1>파이썬 정규표현식</h1><b>메타문자</b><br><div>test</div>']\n"
     ]
    }
   ],
   "source": [
    "# greedy : 최대 일치\n",
    "\n",
    "\n",
    "import re\n",
    "\n",
    "# txt 안에서 html 태그만 조회 : <태그이름(문자열로 된)>\n",
    "txt = \"<h1>파이썬 정규표현식</h1><b>메타문자</b><br><div>test</div>안녕하세요\"  # html\n",
    "\n",
    "p = re.compile(r\"<.+>\") \n",
    "# > 을 만나도 .으로 모든 글자 중 하나로 보았기 때문이다. \n",
    "# 가장 멀리 있는 거 > 기준으로 찾아 거기까지 찾은 것.\n",
    "# => 최대로 찾았다. => greedy 방식\n",
    "\n",
    "\n",
    "result = p.findall(txt)\n",
    "print(result)"
   ]
  },
  {
   "cell_type": "code",
   "execution_count": 33,
   "metadata": {},
   "outputs": [
    {
     "name": "stdout",
     "output_type": "stream",
     "text": [
      "['<h1>', '</h1>', '<b>', '</b>', '<br>', '<div>', '</div>']\n"
     ]
    }
   ],
   "source": [
    "# non-greedy : 최소 일치\n",
    "\n",
    "import re\n",
    "\n",
    "# txt 안에서 html 태그만 조회 : <태그이름(문자열로 된)>\n",
    "txt = \"<h1>파이썬 정규표현식</h1><b>메타문자</b><br><div>test</div>안녕하세요\"  # html\n",
    "\n",
    "p = re.compile(r\"<.+?>\")\n",
    "# ? 붙였다. 최소한\n",
    "\n",
    "result = p.findall(txt)\n",
    "print(result)"
   ]
  },
  {
   "cell_type": "code",
   "execution_count": null,
   "metadata": {},
   "outputs": [],
   "source": []
  }
 ],
 "metadata": {
  "kernelspec": {
   "display_name": "Python 3 (ipykernel)",
   "language": "python",
   "name": "python3"
  },
  "language_info": {
   "codemirror_mode": {
    "name": "ipython",
    "version": 3
   },
   "file_extension": ".py",
   "mimetype": "text/x-python",
   "name": "python",
   "nbconvert_exporter": "python",
   "pygments_lexer": "ipython3",
   "version": "3.9.7"
  },
  "toc": {
   "base_numbering": 1,
   "nav_menu": {},
   "number_sections": false,
   "sideBar": false,
   "skip_h1_title": false,
   "title_cell": "Table of Contents",
   "title_sidebar": "Contents",
   "toc_cell": false,
   "toc_position": {
    "height": "606.319px",
    "left": "10px",
    "top": "150px",
    "width": "336.889px"
   },
   "toc_section_display": false,
   "toc_window_display": false
  },
  "varInspector": {
   "cols": {
    "lenName": 16,
    "lenType": 16,
    "lenVar": 40
   },
   "kernels_config": {
    "python": {
     "delete_cmd_postfix": "",
     "delete_cmd_prefix": "del ",
     "library": "var_list.py",
     "varRefreshCmd": "print(var_dic_list())"
    },
    "r": {
     "delete_cmd_postfix": ") ",
     "delete_cmd_prefix": "rm(",
     "library": "var_list.r",
     "varRefreshCmd": "cat(var_dic_list()) "
    }
   },
   "types_to_exclude": [
    "module",
    "function",
    "builtin_function_or_method",
    "instance",
    "_Feature"
   ],
   "window_display": false
  }
 },
 "nbformat": 4,
 "nbformat_minor": 2
}
