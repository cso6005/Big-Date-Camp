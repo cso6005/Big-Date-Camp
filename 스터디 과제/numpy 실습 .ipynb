{
 "cells": [
  {
   "cell_type": "code",
   "execution_count": 2,
   "id": "093f4709",
   "metadata": {},
   "outputs": [],
   "source": [
    "# 1. Import the numpy package under the name np \n",
    "\n",
    "import numpy as np"
   ]
  },
  {
   "cell_type": "code",
   "execution_count": 6,
   "id": "a117d5e4",
   "metadata": {},
   "outputs": [],
   "source": [
    "# 3. Create a null vector of size 10 \n",
    "# null vector는 zero vector를 뜻함\n",
    "\n",
    "a = np.zeros(10)\n"
   ]
  },
  {
   "cell_type": "code",
   "execution_count": 14,
   "id": "bb58b3dc",
   "metadata": {},
   "outputs": [
    {
     "data": {
      "text/plain": [
       "80"
      ]
     },
     "execution_count": 14,
     "metadata": {},
     "output_type": "execute_result"
    }
   ],
   "source": [
    "# 4.How to find the memory size of any array \n",
    "# array의 메모리 사이즈 찾는 방법\n",
    "\n",
    "np.shape(a)\n",
    "a.nbytes"
   ]
  },
  {
   "cell_type": "code",
   "execution_count": 12,
   "id": "04a5c48c",
   "metadata": {},
   "outputs": [
    {
     "data": {
      "text/plain": [
       "array([0., 0., 0., 0., 1., 0., 0., 0., 0., 0.])"
      ]
     },
     "execution_count": 12,
     "metadata": {},
     "output_type": "execute_result"
    }
   ],
   "source": [
    "# 5. size가 10인 null vector를 만들고 5번째 원소는 1로 만들기\n",
    "\n",
    "b = np.zeros(10)\n",
    "b[4] =1\n",
    "b\n"
   ]
  },
  {
   "cell_type": "code",
   "execution_count": 15,
   "id": "16b8fc3b",
   "metadata": {},
   "outputs": [
    {
     "data": {
      "text/plain": [
       "array([10, 11, 12, 13, 14, 15, 16, 17, 18, 19, 20, 21, 22, 23, 24, 25, 26,\n",
       "       27, 28, 29, 30, 31, 32, 33, 34, 35, 36, 37, 38, 39, 40, 41, 42, 43,\n",
       "       44, 45, 46, 47, 48, 49])"
      ]
     },
     "execution_count": 15,
     "metadata": {},
     "output_type": "execute_result"
    }
   ],
   "source": [
    "# 7. Create a vector with values ranging from 10 to 49 \n",
    "\n",
    "c = np.arange(10,50)\n",
    "c"
   ]
  },
  {
   "cell_type": "code",
   "execution_count": 16,
   "id": "933cbe7b",
   "metadata": {},
   "outputs": [
    {
     "data": {
      "text/plain": [
       "array([49, 48, 47, 46, 45, 44, 43, 42, 41, 40, 39, 38, 37, 36, 35, 34, 33,\n",
       "       32, 31, 30, 29, 28, 27, 26, 25, 24, 23, 22, 21, 20, 19, 18, 17, 16,\n",
       "       15, 14, 13, 12, 11, 10])"
      ]
     },
     "execution_count": 16,
     "metadata": {},
     "output_type": "execute_result"
    }
   ],
   "source": [
    "# 8. Reverse a vector (first element becomes last)\n",
    "# 위 배열의 원소를 뒤집는 문제\n",
    "\n",
    "c[::-1]"
   ]
  },
  {
   "cell_type": "code",
   "execution_count": 18,
   "id": "d15223a7",
   "metadata": {},
   "outputs": [
    {
     "data": {
      "text/plain": [
       "array([[0, 1, 2],\n",
       "       [3, 4, 5],\n",
       "       [6, 7, 8]])"
      ]
     },
     "execution_count": 18,
     "metadata": {},
     "output_type": "execute_result"
    }
   ],
   "source": [
    "# 9. Create a 3x3 matrix with values ranging from 0 to 8 \n",
    "# 0부터 8을 원소로 가지는 3 x 3의 행렬을 만들어라\n",
    "\n",
    "d = np.arange(0,9).reshape(3,3)\n",
    "d"
   ]
  },
  {
   "cell_type": "code",
   "execution_count": 48,
   "id": "202f0059",
   "metadata": {},
   "outputs": [
    {
     "data": {
      "text/plain": [
       "(array([0, 1, 4], dtype=int64),)"
      ]
     },
     "execution_count": 48,
     "metadata": {},
     "output_type": "execute_result"
    }
   ],
   "source": [
    "# 10. Find indices of non-zero elements from [1,2,0,0,4,0] \n",
    "# [1,2,0,0,4,0]에서 0이 아닌 요소의 인덱스 찾기\n",
    "\n",
    "e = np.array([1,2,0,0,4,0])\n",
    "             \n",
    "np.where(e != 0)\n",
    "\n"
   ]
  },
  {
   "cell_type": "code",
   "execution_count": 33,
   "id": "d2854283",
   "metadata": {},
   "outputs": [
    {
     "data": {
      "text/plain": [
       "array([[1, 0, 0],\n",
       "       [0, 1, 0],\n",
       "       [0, 0, 1]])"
      ]
     },
     "execution_count": 33,
     "metadata": {},
     "output_type": "execute_result"
    }
   ],
   "source": [
    "# 11. Create a 3x3 identity matrix \n",
    "# 3 x 3의 항등행렬을 만들어라\n",
    "\n",
    "a = np.zeros((3,3))\n",
    "a = a.astype('int32')\n",
    "\n",
    "a[[0,1,2],[0,1,2]] = 1\n",
    "\n",
    "a"
   ]
  },
  {
   "cell_type": "code",
   "execution_count": 49,
   "id": "92bad150",
   "metadata": {},
   "outputs": [
    {
     "data": {
      "text/plain": [
       "array([[[0.07157491, 0.73642033, 0.20459725],\n",
       "        [0.64692363, 0.7779454 , 0.32402558],\n",
       "        [0.45701389, 0.41577612, 0.54723969]],\n",
       "\n",
       "       [[0.62234887, 0.78403494, 0.40942856],\n",
       "        [0.13629793, 0.31296501, 0.80975027],\n",
       "        [0.8889366 , 0.01286495, 0.65401768]],\n",
       "\n",
       "       [[0.56357873, 0.82529364, 0.70309781],\n",
       "        [0.62405343, 0.79732554, 0.87772925],\n",
       "        [0.84275562, 0.47971314, 0.8063374 ]]])"
      ]
     },
     "execution_count": 49,
     "metadata": {},
     "output_type": "execute_result"
    }
   ],
   "source": [
    "# 12. Create a 3x3x3 array with random values \n",
    "# 무작위 원소를 가진 3x3x3의 array를 만들어라\n",
    "\n",
    "b = np.random.rand(3,3,3)\n",
    "b\n"
   ]
  },
  {
   "cell_type": "code",
   "execution_count": 52,
   "id": "52434277",
   "metadata": {},
   "outputs": [
    {
     "data": {
      "text/plain": [
       "(0.9940583896578787, 0.025045709954665707)"
      ]
     },
     "execution_count": 52,
     "metadata": {},
     "output_type": "execute_result"
    }
   ],
   "source": [
    "# 13. Create a 10x10 array with random values and find the minimum and maximum values (★☆☆)\n",
    "# 10x10의 무작위 원소를 가진 array를 만들고 최솟값과 최댓값을 찾아라.\n",
    "\n",
    "a = np.random.rand(10,10)\n",
    "\n",
    "np.max(a), np.min(a)\n"
   ]
  },
  {
   "cell_type": "code",
   "execution_count": 55,
   "id": "4a1d484d",
   "metadata": {},
   "outputs": [
    {
     "data": {
      "text/plain": [
       "0.5457614157877695"
      ]
     },
     "execution_count": 55,
     "metadata": {},
     "output_type": "execute_result"
    }
   ],
   "source": [
    "# 14. Create a random vector of size 30 and find the mean value \n",
    "# size가 30인 무작위 벡터를 만들고 평균값을 구하라\n",
    "\n",
    "a = np.random.rand(30)\n",
    "np.mean(a)\n"
   ]
  },
  {
   "cell_type": "code",
   "execution_count": 59,
   "id": "29a118ae",
   "metadata": {},
   "outputs": [
    {
     "data": {
      "text/plain": [
       "array([[1, 1, 1],\n",
       "       [1, 0, 1],\n",
       "       [1, 1, 1]])"
      ]
     },
     "execution_count": 59,
     "metadata": {},
     "output_type": "execute_result"
    }
   ],
   "source": [
    "# 15. Create a 2d array with 1 on the border and 0 inside \n",
    "# 테두리의 원소가 1이고 안쪽 원소가 0인 2차원 배열을 만들어라\n",
    "\n",
    "a = np.ones((3,3))\n",
    "a = a.astype('int32')\n",
    "a[1,1] = 0\n",
    "a"
   ]
  },
  {
   "cell_type": "code",
   "execution_count": 161,
   "id": "ebd68700",
   "metadata": {},
   "outputs": [
    {
     "data": {
      "text/plain": [
       "array([[0., 0., 0., 0.],\n",
       "       [0., 1., 1., 0.],\n",
       "       [0., 1., 1., 0.],\n",
       "       [0., 0., 0., 0.]])"
      ]
     },
     "execution_count": 161,
     "metadata": {},
     "output_type": "execute_result"
    }
   ],
   "source": [
    "# 16. How to add a border (filled with 0's) around an existing array?\n",
    "# 기존 배열에 (0으로 채워진)새로운 테두리를 추가하는 방법은?\n",
    "\n",
    "a = np.ones((4,4))\n",
    "\n",
    "a[:][[0,-1]] = 0\n",
    "a[:,[0, -1]] = 0\n",
    "\n",
    "a\n"
   ]
  },
  {
   "cell_type": "code",
   "execution_count": null,
   "id": "835662d2",
   "metadata": {},
   "outputs": [],
   "source": [
    "# 17. What is the result of the following expression?\n",
    "\n",
    "#1 0 * np.nan\n",
    "# nan\n",
    "\n",
    "#2 np.nan == np.nan\n",
    "# False  // nan을 비교연산하면 무조건 False\n",
    "\n",
    "#3 np.inf > np.nan\n",
    "#False   # np.inf ??\n",
    "\n",
    "#4 np.nan - np.nan\n",
    "# nan\n",
    "\n",
    "#5 np.nan in set([np.nan])\n",
    "# True # np.nan은 np.nan의 집합 내에 속한다.\n",
    "\n",
    "#6 0.3 == 3 * 0.1\n",
    "# Fasle\n",
    "# 3.0 * 0.1은 0.3으로 나오지 않고 0.300000000004로 출력된다. 이는 부동소수점에 의한 오차를 나타낸다."
   ]
  },
  {
   "cell_type": "code",
   "execution_count": 78,
   "id": "ca27c44a",
   "metadata": {},
   "outputs": [
    {
     "data": {
      "text/plain": [
       "array([[0., 0., 0., 0., 0.],\n",
       "       [1., 0., 0., 0., 0.],\n",
       "       [0., 2., 0., 0., 0.],\n",
       "       [0., 0., 3., 0., 0.],\n",
       "       [0., 0., 0., 4., 0.]])"
      ]
     },
     "execution_count": 78,
     "metadata": {},
     "output_type": "execute_result"
    }
   ],
   "source": [
    "# 18. Create a 5x5 matrix with values 1,2,3,4 just below the diagonal (★☆☆)\n",
    "#대각선 바로 아래에 값 1,2,3,4가 있는 5x5 행렬 만들기\n",
    "\n",
    "a = np.zeros((5,5))\n",
    "a[[1,2,3,4], [0,1,2,3]] = [1,2,3,4] # 슬라이싱으로 하면 안 됨.\n",
    "a"
   ]
  },
  {
   "cell_type": "code",
   "execution_count": 79,
   "id": "6d5fd030",
   "metadata": {},
   "outputs": [
    {
     "data": {
      "text/plain": [
       "array([[1., 0., 0., 0.],\n",
       "       [0., 2., 0., 0.],\n",
       "       [0., 0., 3., 0.],\n",
       "       [0., 0., 0., 4.]])"
      ]
     },
     "execution_count": 79,
     "metadata": {},
     "output_type": "execute_result"
    }
   ],
   "source": [
    "a[1:5, :4]"
   ]
  },
  {
   "cell_type": "code",
   "execution_count": 105,
   "id": "9e19291c",
   "metadata": {},
   "outputs": [
    {
     "data": {
      "text/plain": [
       "array([[1, 0, 1, 0, 1, 0, 1, 0],\n",
       "       [0, 1, 0, 1, 0, 1, 0, 1],\n",
       "       [1, 0, 1, 0, 1, 0, 1, 0],\n",
       "       [0, 1, 0, 1, 0, 1, 0, 1],\n",
       "       [1, 0, 1, 0, 1, 0, 1, 0],\n",
       "       [0, 1, 0, 1, 0, 1, 0, 1],\n",
       "       [1, 0, 1, 0, 1, 0, 1, 0],\n",
       "       [0, 1, 0, 1, 0, 1, 0, 1]])"
      ]
     },
     "execution_count": 105,
     "metadata": {},
     "output_type": "execute_result"
    }
   ],
   "source": [
    "# 19. Create a 8x8 matrix and fill it with a checkerboard pattern (★☆☆)\n",
    "# 8x8 매트릭스를 만들고 체커보드 패턴으로 채웁니다.\n",
    "\n",
    "a = np.zeros((8,8))\n",
    "a = a.astype('int32')\n",
    "\n",
    "a[::2 ,[0,2,4,6]] = 1\n",
    "a[1::2 ,[1,3,5,7]] = 1\n",
    "a"
   ]
  },
  {
   "cell_type": "code",
   "execution_count": 104,
   "id": "55799c45",
   "metadata": {
    "collapsed": true
   },
   "outputs": [
    {
     "data": {
      "text/plain": [
       "array([[0, 1, 0, 1, 0, 1, 0, 1],\n",
       "       [1, 0, 1, 0, 1, 0, 1, 0],\n",
       "       [0, 1, 0, 1, 0, 1, 0, 1],\n",
       "       [1, 0, 1, 0, 1, 0, 1, 0],\n",
       "       [0, 1, 0, 1, 0, 1, 0, 1],\n",
       "       [1, 0, 1, 0, 1, 0, 1, 0],\n",
       "       [0, 1, 0, 1, 0, 1, 0, 1],\n",
       "       [1, 0, 1, 0, 1, 0, 1, 0]])"
      ]
     },
     "execution_count": 104,
     "metadata": {},
     "output_type": "execute_result"
    }
   ],
   "source": [
    "a = np.zeros((8,8))\n",
    "a = a.astype('int32')\n",
    "a[::2 ,1::2] = 1\n",
    "a[1::2 ,::2] = 1\n",
    "a"
   ]
  },
  {
   "cell_type": "code",
   "execution_count": 109,
   "id": "79b254f7",
   "metadata": {},
   "outputs": [
    {
     "data": {
      "text/plain": [
       "array([[-1.04597816,  0.70809797, -1.69399342, -1.0326263 ,  0.86891948],\n",
       "       [ 0.3921338 ,  0.38371107, -0.31868342,  0.17059027, -0.11678673],\n",
       "       [ 0.43330155, -0.34435758, -1.32663293,  2.70666399, -0.33502262],\n",
       "       [-1.75876471, -1.01213369,  1.38900167,  1.94787752,  0.57116971],\n",
       "       [ 1.1689823 , -0.58662587,  0.4046052 ,  0.29617969, -0.21766212]])"
      ]
     },
     "execution_count": 109,
     "metadata": {},
     "output_type": "execute_result"
    }
   ],
   "source": [
    "# 22. Normalize a 5x5 random matrix (★☆☆)\n",
    "# 5x5 랜덤 행렬 정규화\n",
    "\n",
    "a = np.random.normal(size = (5,5))\n",
    "a\n"
   ]
  },
  {
   "cell_type": "code",
   "execution_count": 113,
   "id": "497269eb",
   "metadata": {},
   "outputs": [
    {
     "data": {
      "text/plain": [
       "array([[ 10,  13],\n",
       "       [ 28,  40],\n",
       "       [ 46,  67],\n",
       "       [ 64,  94],\n",
       "       [ 82, 121]])"
      ]
     },
     "execution_count": 113,
     "metadata": {},
     "output_type": "execute_result"
    }
   ],
   "source": [
    "# 24. Multiply a 5x3 matrix by a 3x2 matrix (real matrix product) (★☆☆)\n",
    "# 5x3 행렬에 3x2 행렬(실제 행렬 곱)을 곱합니다.\n",
    "\n",
    "a = np.arange(15).reshape(5,3)\n",
    "b = np.arange(6).reshape(3,2)\n",
    "\n",
    "a @ b\n",
    "\n"
   ]
  },
  {
   "cell_type": "code",
   "execution_count": 119,
   "id": "6488f9df",
   "metadata": {},
   "outputs": [
    {
     "data": {
      "text/plain": [
       "array([-3, -4, -5, -6, -7, -8])"
      ]
     },
     "execution_count": 119,
     "metadata": {},
     "output_type": "execute_result"
    }
   ],
   "source": [
    "# 25. Given a 1D array, negate all elements which are between 3 and 8, in place. (★☆☆)\n",
    "# 1차원 배열에서 3에서 8사이 값을 음수화하여라\n",
    "\n",
    "a = np.arange(10)\n",
    "-a[3:9]"
   ]
  },
  {
   "cell_type": "markdown",
   "id": "5661c84e",
   "metadata": {},
   "source": [
    "26. What is the output of the following script? (★☆☆)\n",
    "- 다음 스크립트의 출력은 어떻게 됩니까?"
   ]
  },
  {
   "cell_type": "code",
   "execution_count": 128,
   "id": "23ab2cdf",
   "metadata": {},
   "outputs": [
    {
     "name": "stdout",
     "output_type": "stream",
     "text": [
      "10\n"
     ]
    }
   ],
   "source": [
    "# 통계함수에서 피연산자는 iterator 다 들어감.\n",
    "# range() 도 해당 원소 모두 더함.\n",
    "print(sum(range(5)))\n"
   ]
  },
  {
   "cell_type": "code",
   "execution_count": 163,
   "id": "6183070c",
   "metadata": {},
   "outputs": [
    {
     "name": "stdout",
     "output_type": "stream",
     "text": [
      "10\n"
     ]
    }
   ],
   "source": [
    "# ?????????\n",
    "print(sum(range(5),-1))"
   ]
  },
  {
   "cell_type": "code",
   "execution_count": 162,
   "id": "7e4fdb1e",
   "metadata": {},
   "outputs": [
    {
     "name": "stdout",
     "output_type": "stream",
     "text": [
      "10\n"
     ]
    }
   ],
   "source": [
    "from numpy import *\n",
    "print(sum(range(5),-1))"
   ]
  },
  {
   "cell_type": "code",
   "execution_count": null,
   "id": "8faa95f3",
   "metadata": {},
   "outputs": [],
   "source": [
    "print(sum(range(5),-1))"
   ]
  },
  {
   "cell_type": "code",
   "execution_count": 129,
   "id": "1b16a850",
   "metadata": {},
   "outputs": [
    {
     "name": "stdout",
     "output_type": "stream",
     "text": [
      "9\n",
      "10\n",
      "10\n",
      "10\n"
     ]
    }
   ],
   "source": [
    "from numpy import *\n",
    "print(sum(range(5),-1))"
   ]
  },
  {
   "cell_type": "code",
   "execution_count": 135,
   "id": "1462b40e",
   "metadata": {},
   "outputs": [
    {
     "name": "stdout",
     "output_type": "stream",
     "text": [
      "[        1         1         4        27       256      3125     46656\n",
      "    823543  16777216 387420489]\n",
      "[  0   1   2   4   8  16  32  64 128 256]\n",
      "[False False False False False False False False False False]\n",
      "[0.+0.j 0.+1.j 0.+2.j 0.+3.j 0.+4.j 0.+5.j 0.+6.j 0.+7.j 0.+8.j 0.+9.j]\n",
      "[0. 1. 2. 3. 4. 5. 6. 7. 8. 9.]\n"
     ]
    }
   ],
   "source": [
    "# 27. Consider an integer vector Z, which of these expressions are legal? \n",
    "# 정수 벡터 Z를 생각해보십시오.이 표현식 중 어느 것이 합법적입니까\n",
    "\n",
    "Z = np.arange(10)\n",
    "\n",
    "print(Z**Z) # ok\n",
    "print(2 << Z >> 2) # ok\n",
    "print(Z <- Z) # ok\n",
    "print(1j*Z) # ok\n",
    "print(Z/1/1) # ok\n",
    "# print(Z<Z>Z) # no"
   ]
  },
  {
   "cell_type": "markdown",
   "id": "0fc6119f",
   "metadata": {},
   "source": [
    "#### 비트연산자\n",
    "1. \"<<\"는 연산은 왼쪽으로 1비트 밀때마다 두 배씩 늘어납니다.\n",
    "- n << m : n * 2의 m승\n",
    "\n",
    "2. \">>\" 연산은 오른쪽으로 1비트 밀때마다 1/2씩 줄어듭니다.\n",
    "- n >> m : n / 2의 m승"
   ]
  },
  {
   "cell_type": "code",
   "execution_count": 132,
   "id": "6e7129ba",
   "metadata": {},
   "outputs": [
    {
     "name": "stdout",
     "output_type": "stream",
     "text": [
      "[   2    4    8   16   32   64  128  256  512 1024]\n",
      "[0 0 0 0 1 1 1 1 2 2]\n"
     ]
    }
   ],
   "source": [
    "print(2 << Z) # 2*2의 z승 \n",
    "print(Z >> 2) # 2/2의 z승 "
   ]
  },
  {
   "cell_type": "code",
   "execution_count": 167,
   "id": "5e080792",
   "metadata": {},
   "outputs": [
    {
     "data": {
      "text/plain": [
       "array(0)"
      ]
     },
     "execution_count": 167,
     "metadata": {},
     "output_type": "execute_result"
    }
   ],
   "source": [
    "# 28. What are the result of the following expressions? (★☆☆)\n",
    "# 다음 표현의 결과는 무엇입니까?\n",
    "\n",
    "a = np.array(0)\n",
    "b = np.array(0)\n",
    "\n",
    "b\n"
   ]
  },
  {
   "cell_type": "code",
   "execution_count": 146,
   "id": "66a8239f",
   "metadata": {},
   "outputs": [
    {
     "name": "stdout",
     "output_type": "stream",
     "text": [
      "nan\n"
     ]
    },
    {
     "name": "stderr",
     "output_type": "stream",
     "text": [
      "C:\\Users\\CSYJ\\anaconda3\\envs\\ml\\lib\\site-packages\\ipykernel_launcher.py:1: RuntimeWarning: invalid value encountered in true_divide\n",
      "  \"\"\"Entry point for launching an IPython kernel.\n"
     ]
    }
   ],
   "source": [
    "print(np.array(0) / np.array(0)) # 0/0 "
   ]
  },
  {
   "cell_type": "code",
   "execution_count": 147,
   "id": "a99cb563",
   "metadata": {
    "collapsed": true
   },
   "outputs": [
    {
     "ename": "ZeroDivisionError",
     "evalue": "integer division or modulo by zero",
     "output_type": "error",
     "traceback": [
      "\u001b[1;31m---------------------------------------------------------------------------\u001b[0m",
      "\u001b[1;31mZeroDivisionError\u001b[0m                         Traceback (most recent call last)",
      "\u001b[1;32m~\\AppData\\Local\\Temp\\ipykernel_3384\\1990073460.py\u001b[0m in \u001b[0;36m<module>\u001b[1;34m\u001b[0m\n\u001b[1;32m----> 1\u001b[1;33m \u001b[1;36m0\u001b[0m\u001b[1;33m//\u001b[0m\u001b[1;36m0\u001b[0m\u001b[1;33m\u001b[0m\u001b[1;33m\u001b[0m\u001b[0m\n\u001b[0m",
      "\u001b[1;31mZeroDivisionError\u001b[0m: integer division or modulo by zero"
     ]
    }
   ],
   "source": [
    "0//0"
   ]
  },
  {
   "cell_type": "code",
   "execution_count": null,
   "id": "c534d19e",
   "metadata": {},
   "outputs": [],
   "source": [
    "print(np.array(0) // np.array(0))"
   ]
  },
  {
   "cell_type": "code",
   "execution_count": 139,
   "id": "78df130d",
   "metadata": {},
   "outputs": [
    {
     "name": "stdout",
     "output_type": "stream",
     "text": [
      "0\n",
      "[-2.14748365e+09]\n"
     ]
    },
    {
     "name": "stderr",
     "output_type": "stream",
     "text": [
      "C:\\Users\\CSYJ\\anaconda3\\envs\\ml\\lib\\site-packages\\ipykernel_launcher.py:1: RuntimeWarning: divide by zero encountered in floor_divide\n",
      "  \"\"\"Entry point for launching an IPython kernel.\n"
     ]
    }
   ],
   "source": [
    "print(np.array([np.nan]).astype(int).astype(float))\n",
    " "
   ]
  },
  {
   "cell_type": "code",
   "execution_count": null,
   "id": "25c0f2a0",
   "metadata": {},
   "outputs": [],
   "source": []
  },
  {
   "cell_type": "code",
   "execution_count": 157,
   "id": "5d907514",
   "metadata": {
    "collapsed": true
   },
   "outputs": [
    {
     "ename": "ValueError",
     "evalue": "The truth value of an array with more than one element is ambiguous. Use a.any() or a.all()",
     "output_type": "error",
     "traceback": [
      "\u001b[1;31m---------------------------------------------------------------------------\u001b[0m",
      "\u001b[1;31mValueError\u001b[0m                                Traceback (most recent call last)",
      "\u001b[1;32m~\\AppData\\Local\\Temp\\ipykernel_3384\\278784925.py\u001b[0m in \u001b[0;36m<module>\u001b[1;34m\u001b[0m\n\u001b[0;32m      5\u001b[0m \u001b[0marr2\u001b[0m \u001b[1;33m=\u001b[0m \u001b[0mnp\u001b[0m\u001b[1;33m.\u001b[0m\u001b[0mrandom\u001b[0m\u001b[1;33m.\u001b[0m\u001b[0mrandint\u001b[0m\u001b[1;33m(\u001b[0m\u001b[1;36m0\u001b[0m\u001b[1;33m,\u001b[0m\u001b[1;36m10\u001b[0m\u001b[1;33m,\u001b[0m\u001b[1;36m10\u001b[0m\u001b[1;33m)\u001b[0m\u001b[1;33m\u001b[0m\u001b[1;33m\u001b[0m\u001b[0m\n\u001b[0;32m      6\u001b[0m \u001b[1;33m\u001b[0m\u001b[0m\n\u001b[1;32m----> 7\u001b[1;33m \u001b[1;33m[\u001b[0m\u001b[0mi\u001b[0m \u001b[1;32mfor\u001b[0m \u001b[0mi\u001b[0m \u001b[1;32min\u001b[0m \u001b[0marr2\u001b[0m \u001b[1;32mif\u001b[0m \u001b[0marr1\u001b[0m \u001b[1;33m==\u001b[0m \u001b[0mi\u001b[0m\u001b[1;33m]\u001b[0m\u001b[1;33m\u001b[0m\u001b[1;33m\u001b[0m\u001b[0m\n\u001b[0m",
      "\u001b[1;32m~\\AppData\\Local\\Temp\\ipykernel_3384\\278784925.py\u001b[0m in \u001b[0;36m<listcomp>\u001b[1;34m(.0)\u001b[0m\n\u001b[0;32m      5\u001b[0m \u001b[0marr2\u001b[0m \u001b[1;33m=\u001b[0m \u001b[0mnp\u001b[0m\u001b[1;33m.\u001b[0m\u001b[0mrandom\u001b[0m\u001b[1;33m.\u001b[0m\u001b[0mrandint\u001b[0m\u001b[1;33m(\u001b[0m\u001b[1;36m0\u001b[0m\u001b[1;33m,\u001b[0m\u001b[1;36m10\u001b[0m\u001b[1;33m,\u001b[0m\u001b[1;36m10\u001b[0m\u001b[1;33m)\u001b[0m\u001b[1;33m\u001b[0m\u001b[1;33m\u001b[0m\u001b[0m\n\u001b[0;32m      6\u001b[0m \u001b[1;33m\u001b[0m\u001b[0m\n\u001b[1;32m----> 7\u001b[1;33m \u001b[1;33m[\u001b[0m\u001b[0mi\u001b[0m \u001b[1;32mfor\u001b[0m \u001b[0mi\u001b[0m \u001b[1;32min\u001b[0m \u001b[0marr2\u001b[0m \u001b[1;32mif\u001b[0m \u001b[0marr1\u001b[0m \u001b[1;33m==\u001b[0m \u001b[0mi\u001b[0m\u001b[1;33m]\u001b[0m\u001b[1;33m\u001b[0m\u001b[1;33m\u001b[0m\u001b[0m\n\u001b[0m",
      "\u001b[1;31mValueError\u001b[0m: The truth value of an array with more than one element is ambiguous. Use a.any() or a.all()"
     ]
    }
   ],
   "source": [
    "# 30. How to find common values between two arrays? (★☆☆)\n",
    "# 두 배열 사이의 공통 값을 찾는 방법은 무엇입니까?\n",
    "\n",
    "arr1 = np.random.randint(0,10,10)\n",
    "arr2 = np.random.randint(0,10,10)\n",
    "\n",
    "[i for i in arr2 if arr1 == i]\n"
   ]
  },
  {
   "cell_type": "code",
   "execution_count": null,
   "id": "cc6d0ed8",
   "metadata": {},
   "outputs": [],
   "source": []
  }
 ],
 "metadata": {
  "kernelspec": {
   "display_name": "Python 3 (ipykernel)",
   "language": "python",
   "name": "python3"
  },
  "language_info": {
   "codemirror_mode": {
    "name": "ipython",
    "version": 3
   },
   "file_extension": ".py",
   "mimetype": "text/x-python",
   "name": "python",
   "nbconvert_exporter": "python",
   "pygments_lexer": "ipython3",
   "version": "3.7.13"
  }
 },
 "nbformat": 4,
 "nbformat_minor": 5
}
